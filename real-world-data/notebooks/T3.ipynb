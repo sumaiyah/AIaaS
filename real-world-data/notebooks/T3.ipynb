{
 "cells": [
  {
   "cell_type": "markdown",
   "id": "southwest-hartford",
   "metadata": {},
   "source": [
    "# Test 3: Can DBSCAN or k-means detect a small fraction of injected heavy users?"
   ]
  },
  {
   "cell_type": "code",
   "execution_count": 3,
   "id": "cutting-layout",
   "metadata": {},
   "outputs": [],
   "source": [
    "import sys\n",
    "sys.path.append('C:\\\\Users\\\\sumaiyah\\\\Documents\\\\Univeristy\\\\diss\\\\AIaaS\\\\real-world-data')\n",
    "\n",
    "import numpy as np\n",
    "import pandas as pd\n",
    "import matplotlib.pyplot as plt\n",
    "\n",
    "from timeit import default_timer as timer\n",
    "from tslearn.preprocessing import TimeSeriesScalerMeanVariance\n",
    "\n",
    "from notebooks import FIC_10minute_filepath"
   ]
  },
  {
   "cell_type": "code",
   "execution_count": 4,
   "id": "planned-revision",
   "metadata": {},
   "outputs": [],
   "source": [
    "fic_df = pd.read_pickle(FIC_10minute_filepath(1)).drop(columns=[0,1,2,3])"
   ]
  },
  {
   "cell_type": "code",
   "execution_count": 5,
   "id": "proud-fields",
   "metadata": {},
   "outputs": [],
   "source": [
    "# 2% of the users are 'heavy users'\n",
    "fic_df['n_calls'] = (fic_df != 0).astype(int).sum(axis=1)\n",
    "\n",
    "heavy_users_df = fic_df.sort_values(by='n_calls', ascending=False).head(10000).sample(frac=1).head(200)\n",
    "heavy_users_df['class'] = 1\n",
    "\n",
    "normal_users_df = fic_df[fic_df['n_calls'] > 1].sort_values(by='n_calls', ascending=True).head(20000).sample(frac=1).head(9800)\n",
    "normal_users_df['class'] = 0\n",
    "\n",
    "all_users_df = pd.concat([normal_users_df, heavy_users_df]).sample(frac=1).reset_index(drop=True)\n",
    "y = all_users_df['class']"
   ]
  },
  {
   "cell_type": "code",
   "execution_count": 7,
   "id": "injured-retro",
   "metadata": {},
   "outputs": [
    {
     "data": {
      "text/plain": [
       "(10000, 144, 1)"
      ]
     },
     "execution_count": 7,
     "metadata": {},
     "output_type": "execute_result"
    }
   ],
   "source": [
    "# Preprocess data\n",
    "all_users_df_norm = TimeSeriesScalerMeanVariance().fit_transform(all_users_df.drop(columns=['class', 'n_calls']))\n",
    "all_users_df_norm.shape"
   ]
  },
  {
   "cell_type": "markdown",
   "id": "declared-generation",
   "metadata": {},
   "source": [
    "# kmeans"
   ]
  },
  {
   "cell_type": "code",
   "execution_count": 9,
   "id": "incident-wealth",
   "metadata": {},
   "outputs": [
    {
     "name": "stdout",
     "output_type": "stream",
     "text": [
      "Results of K-means Clustering with k=2\n",
      "Clustering k=2 took 0.827832 seconds\n",
      "[9340, 660] \n",
      "\n"
     ]
    }
   ],
   "source": [
    "from sklearn.cluster import KMeans\n",
    "k=2\n",
    "\n",
    "print('Results of K-means Clustering with k=%d' % k)\n",
    "\n",
    "start = timer()\n",
    "\n",
    "km = KMeans(n_clusters=k)\n",
    "kmeans_predictions = km.fit_predict(all_users_df_norm[:,:,0])\n",
    "\n",
    "end = timer()\n",
    "print('Clustering k=%d took %f seconds' % (k, (end - start)))\n",
    "\n",
    "km_clusters = pd.Series(kmeans_predictions)\n",
    "print(km_clusters.value_counts().values.tolist(), '\\n')"
   ]
  },
  {
   "cell_type": "markdown",
   "id": "attended-contrast",
   "metadata": {},
   "source": [
    "# dbscan"
   ]
  },
  {
   "cell_type": "code",
   "execution_count": 10,
   "id": "billion-decade",
   "metadata": {},
   "outputs": [
    {
     "data": {
      "text/plain": [
       "[<matplotlib.lines.Line2D at 0x1c08b001b80>]"
      ]
     },
     "execution_count": 10,
     "metadata": {},
     "output_type": "execute_result"
    },
    {
     "data": {
      "image/png": "[encoded data removed]",
      "text/plain": [
       "<Figure size 432x288 with 1 Axes>"
      ]
     },
     "metadata": {
      "needs_background": "light"
     },
     "output_type": "display_data"
    }
   ],
   "source": [
    "from sklearn.neighbors import NearestNeighbors\n",
    "from matplotlib import pyplot as plt\n",
    "\n",
    "# ideal value for ε will be equal to the distance value at the point of maximum curvature\n",
    "# ended up looping through combinations of MinPts and ε values slightly above and below the values estimated here to find the model of best fit\n",
    "\n",
    "neighbors = NearestNeighbors(n_neighbors=20)\n",
    "neighbors_fit = neighbors.fit(all_users_df_norm[:,:,0])\n",
    "distances, indices = neighbors_fit.kneighbors(all_users_df_norm[:,:,0])\n",
    "\n",
    "distances = np.sort(distances, axis=0)\n",
    "distances = distances[:,1]\n",
    "plt.plot(distances)"
   ]
  },
  {
   "cell_type": "code",
   "execution_count": 36,
   "id": "prerequisite-thompson",
   "metadata": {
    "scrolled": true
   },
   "outputs": [
    {
     "name": "stdout",
     "output_type": "stream",
     "text": [
      "Clustering took 2.602258 seconds\n",
      "[9727, 273]\n",
      " 0    9727\n",
      "-1     273\n",
      "dtype: int64\n"
     ]
    }
   ],
   "source": [
    "from sklearn.cluster import DBSCAN\n",
    "\n",
    "start = timer()\n",
    "\n",
    "db = DBSCAN(eps=12).fit(all_users_df_norm[:,:,0])\n",
    "labels = pd.Series(db.labels_)\n",
    "\n",
    "end = timer()\n",
    "print('Clustering took %f seconds' % ((end - start)))\n",
    "\n",
    "print(list(labels.value_counts().values))\n",
    "print(labels.value_counts())"
   ]
  },
  {
   "cell_type": "code",
   "execution_count": 38,
   "id": "timely-declaration",
   "metadata": {},
   "outputs": [],
   "source": [
    "dbscan_predictions = pd.Series(labels)\n",
    "a = np.array(dbscan_predictions.values.tolist())\n",
    "dbscan_predictions = np.where(a != 0, 1, a).tolist()"
   ]
  },
  {
   "cell_type": "code",
   "execution_count": 39,
   "id": "informational-section",
   "metadata": {},
   "outputs": [],
   "source": [
    "dbscan_predictions = pd.Series(dbscan_predictions)\n",
    "kmeans_predictions = pd.Series(kmeans_predictions)"
   ]
  },
  {
   "cell_type": "markdown",
   "id": "found-humidity",
   "metadata": {},
   "source": [
    "# Results"
   ]
  },
  {
   "cell_type": "code",
   "execution_count": 40,
   "id": "yellow-material",
   "metadata": {},
   "outputs": [
    {
     "name": "stdout",
     "output_type": "stream",
     "text": [
      "DBScan: \n",
      "Accuracy: 0.957900\n",
      "Precision: 0.095238\n",
      "Recall: 0.130000\n",
      "F1 score: 0.109937\n",
      "\n",
      "\n",
      "Kmeans: \n",
      "Accuracy: 0.085800\n",
      "Precision: 0.021306\n",
      "Recall: 0.995000\n",
      "F1 score: 0.041719\n",
      "\n",
      "\n"
     ]
    }
   ],
   "source": [
    "from sklearn.metrics import accuracy_score\n",
    "from sklearn.metrics import precision_score\n",
    "from sklearn.metrics import recall_score\n",
    "from sklearn.metrics import f1_score\n",
    "\n",
    "def print_results(y, y_pred, text):\n",
    "    print(text)\n",
    "    \n",
    "    # accuracy: (tp + tn) / (p + n)\n",
    "    accuracy = accuracy_score(y, y_pred)\n",
    "    print('Accuracy: %f' % accuracy)\n",
    "    # precision tp / (tp + fp)\n",
    "    precision = precision_score(y, y_pred)\n",
    "    print('Precision: %f' % precision)\n",
    "    # recall: tp / (tp + fn)\n",
    "    recall = recall_score(y, y_pred)\n",
    "    print('Recall: %f' % recall)\n",
    "    # f1: 2 tp / (2 tp + fp + fn)\n",
    "    f1 = f1_score(y, y_pred)\n",
    "    print('F1 score: %f' % f1)\n",
    "    \n",
    "    print('\\n')\n",
    "    \n",
    "print_results(y, dbscan_predictions, 'DBScan: '),\n",
    "print_results(y, kmeans_predictions, 'Kmeans: ')"
   ]
  },
  {
   "cell_type": "code",
   "execution_count": null,
   "id": "quantitative-sustainability",
   "metadata": {},
   "outputs": [],
   "source": []
  }
 ],
 "metadata": {
  "kernelspec": {
   "display_name": "Python 3",
   "language": "python",
   "name": "python3"
  },
  "language_info": {
   "codemirror_mode": {
    "name": "ipython",
    "version": 3
   },
   "file_extension": ".py",
   "mimetype": "text/x-python",
   "name": "python",
   "nbconvert_exporter": "python",
   "pygments_lexer": "ipython3",
   "version": "3.8.7"
  }
 },
 "nbformat": 4,
 "nbformat_minor": 5
}
