{
 "cells": [
  {
   "cell_type": "code",
   "execution_count": 1,
   "id": "organized-thirty",
   "metadata": {},
   "outputs": [],
   "source": [
    "import sys\n",
    "sys.path.append('C:\\\\Users\\\\sumaiyah\\\\Documents\\\\Univeristy\\\\diss\\\\misuse-AIaaS')\n",
    "\n",
    "# Import filepaths\n",
    "from notebooks import FIC_10minute_7days_filepath"
   ]
  },
  {
   "cell_type": "code",
   "execution_count": 2,
   "id": "significant-reputation",
   "metadata": {},
   "outputs": [],
   "source": [
    "import numpy as np\n",
    "import pandas as pd\n",
    "from timeit import default_timer as timer\n",
    "import matplotlib.pyplot as plt\n",
    "\n",
    "from timeit import default_timer as timer\n",
    "from tslearn.clustering import TimeSeriesKMeans\n",
    "from tslearn.preprocessing import TimeSeriesScalerMeanVariance\n",
    "from tslearn.utils import to_time_series_dataset"
   ]
  },
  {
   "cell_type": "code",
   "execution_count": 3,
   "id": "beneficial-flashing",
   "metadata": {},
   "outputs": [],
   "source": [
    "FIC_10minute_7days_df = pd.read_pickle(FIC_10minute_7days_filepath)"
   ]
  },
  {
   "cell_type": "code",
   "execution_count": 4,
   "id": "ultimate-cleveland",
   "metadata": {},
   "outputs": [
    {
     "data": {
      "text/plain": [
       "fd8a2430aa1d1b6fb9e059ff6268eabf8bbd77e68a6d5f38195a67820149b0ab    1975\n",
       "486e10ac87f2c7495ab672094483c49e935e6f7e19b2b9b7157be7f9f949244c     933\n",
       "f0417cb85bd1c751561867f042b6623bc7885e27669a11bc7f9a64dd7d3e4eb9     630\n",
       "23585e5c9ad9d7de0016aee0cae0ef9339aa943e635a0d61af082dbfe4688c40     317\n",
       "7443ba68131cffcdf846c2c74a7f0030cf19240d7e97e3c7f3d22324a065d5ca     314\n",
       "                                                                    ... \n",
       "f18ac4c3371d2b93ee860e16367cee9ace91806e8cc6239cf5f8284f0edf3afe       1\n",
       "84d1e9b84bcdf43d69e1819f84c6591771cfe18783526901874b8bfdd2624670       1\n",
       "5e93959adc478670b62c51d3849b9241689545c2cd983e4fa37f152d7f4c79a8       1\n",
       "8f8c5ff9a345c716d8926ad95fcbf3590b852101592211d1f1e548cbc3e2d749       1\n",
       "a297c6418288578dbb73bb4f99fed5f634569ce1862094c637c74a3bb2424bab       1\n",
       "Name: HashOwner, Length: 13192, dtype: int64"
      ]
     },
     "execution_count": 4,
     "metadata": {},
     "output_type": "execute_result"
    }
   ],
   "source": [
    "FIC_10minute_7days_df['HashOwner'].value_counts()"
   ]
  },
  {
   "cell_type": "code",
   "execution_count": 5,
   "id": "computational-yesterday",
   "metadata": {},
   "outputs": [
    {
     "name": "stdout",
     "output_type": "stream",
     "text": [
      "(1975, 1008, 1)\n"
     ]
    }
   ],
   "source": [
    "single_tenant_df = FIC_10minute_7days_df[FIC_10minute_7days_df['HashOwner'] == 'fd8a2430aa1d1b6fb9e059ff6268eabf8bbd77e68a6d5f38195a67820149b0ab']\n",
    "\n",
    "# Preprocess data\n",
    "single_tenant_df = single_tenant_df.drop(columns=['HashOwner', 'HashApp', 'HashFunction', 'Trigger'])\n",
    "single_tenant_df = TimeSeriesScalerMeanVariance().fit_transform(single_tenant_df)\n",
    "\n",
    "# Need values in specific shape for tslearn clustering\n",
    "single_tenant_vals = to_time_series_dataset(single_tenant_df)\n",
    "print(single_tenant_vals.shape)"
   ]
  },
  {
   "cell_type": "markdown",
   "id": "complete-things",
   "metadata": {},
   "source": [
    "# DBScan"
   ]
  },
  {
   "cell_type": "code",
   "execution_count": 6,
   "id": "injured-dominican",
   "metadata": {},
   "outputs": [
    {
     "data": {
      "text/plain": [
       "[<matplotlib.lines.Line2D at 0x18dbd2de0a0>]"
      ]
     },
     "execution_count": 6,
     "metadata": {},
     "output_type": "execute_result"
    },
    {
     "data": {
      "image/png": "[encoded data removed]",
      "text/plain": [
       "<Figure size 432x288 with 1 Axes>"
      ]
     },
     "metadata": {
      "needs_background": "light"
     },
     "output_type": "display_data"
    }
   ],
   "source": [
    "from sklearn.neighbors import NearestNeighbors\n",
    "from matplotlib import pyplot as plt\n",
    "\n",
    "# ideal value for ε will be equal to the distance value at the point of maximum curvature\n",
    "# ended up looping through combinations of MinPts and ε values slightly above and below the values estimated here to find the model of best fit\n",
    "\n",
    "neighbors = NearestNeighbors(n_neighbors=20)\n",
    "neighbors_fit = neighbors.fit(single_tenant_vals[:,:,0])\n",
    "distances, indices = neighbors_fit.kneighbors(single_tenant_vals[:,:,0])\n",
    "\n",
    "distances = np.sort(distances, axis=0)\n",
    "distances = distances[:,1]\n",
    "plt.plot(distances)"
   ]
  },
  {
   "cell_type": "code",
   "execution_count": 7,
   "id": "representative-twenty",
   "metadata": {},
   "outputs": [
    {
     "name": "stdout",
     "output_type": "stream",
     "text": [
      "Clustering took 0.182197 seconds\n",
      " 0    1664\n",
      "-1     184\n",
      " 2      44\n",
      " 1      24\n",
      " 6      20\n",
      " 5      18\n",
      " 3      11\n",
      " 4      10\n",
      "dtype: int64\n",
      "[1664, 184, 44, 24, 20, 18, 11, 10]\n"
     ]
    }
   ],
   "source": [
    "from sklearn.cluster import DBSCAN\n",
    "\n",
    "start = timer()\n",
    "\n",
    "db = DBSCAN(eps=15, min_samples=10).fit(single_tenant_vals[:,:144,0])\n",
    "labels = pd.Series(db.labels_)\n",
    "\n",
    "end = timer()\n",
    "print('Clustering took %f seconds' % ((end - start)))\n",
    "\n",
    "print(labels.value_counts())\n",
    "print(list(labels.value_counts().values))"
   ]
  },
  {
   "cell_type": "code",
   "execution_count": 8,
   "id": "heated-allocation",
   "metadata": {},
   "outputs": [
    {
     "name": "stdout",
     "output_type": "stream",
     "text": [
      "Results of K-means Clustering with k=7\n",
      "Clustering k=7 took 1.419984 seconds\n",
      "4    1752\n",
      "2     110\n",
      "3      54\n",
      "5      23\n",
      "6      21\n",
      "1      11\n",
      "0       4\n",
      "dtype: int64\n",
      "[1752, 110, 54, 23, 21, 11, 4] \n",
      "\n"
     ]
    }
   ],
   "source": [
    "k=7\n",
    "\n",
    "print('Results of K-means Clustering with k=%d' % k)\n",
    "\n",
    "start = timer()\n",
    "\n",
    "km = TimeSeriesKMeans(n_clusters=k, verbose=False, random_state=42, n_jobs=-1)\n",
    "kmeans_predictions = km.fit_predict(single_tenant_vals)\n",
    "\n",
    "end = timer()\n",
    "print('Clustering k=%d took %f seconds' % (k, (end - start)))\n",
    "\n",
    "km_clusters = pd.Series(kmeans_predictions)\n",
    "print(km_clusters.value_counts())\n",
    "print(km_clusters.value_counts().values.tolist(), '\\n')"
   ]
  },
  {
   "cell_type": "code",
   "execution_count": 9,
   "id": "japanese-payment",
   "metadata": {
    "scrolled": true
   },
   "outputs": [
    {
     "name": "stdout",
     "output_type": "stream",
     "text": [
      "Results of dtw K-means Clustering with k=7\n"
     ]
    },
    {
     "name": "stderr",
     "output_type": "stream",
     "text": [
      "[Parallel(n_jobs=-1)]: Using backend ThreadingBackend with 4 concurrent workers.\n",
      "[Parallel(n_jobs=-1)]: Done  42 tasks      | elapsed:    1.9s\n",
      "[Parallel(n_jobs=-1)]: Done 192 tasks      | elapsed:    3.1s\n",
      "[Parallel(n_jobs=-1)]: Done 442 tasks      | elapsed:    5.1s\n",
      "[Parallel(n_jobs=-1)]: Done 792 tasks      | elapsed:    7.8s\n",
      "[Parallel(n_jobs=-1)]: Done 1242 tasks      | elapsed:   10.9s\n",
      "[Parallel(n_jobs=-1)]: Done 1792 tasks      | elapsed:   15.1s\n",
      "[Parallel(n_jobs=-1)]: Done 1975 out of 1975 | elapsed:   16.5s finished\n",
      "[Parallel(n_jobs=-1)]: Using backend ThreadingBackend with 4 concurrent workers.\n",
      "[Parallel(n_jobs=-1)]: Done  42 tasks      | elapsed:    0.2s\n",
      "[Parallel(n_jobs=-1)]: Done 192 tasks      | elapsed:    1.4s\n",
      "[Parallel(n_jobs=-1)]: Done 442 tasks      | elapsed:    3.4s\n",
      "[Parallel(n_jobs=-1)]: Done 792 tasks      | elapsed:    6.1s\n",
      "[Parallel(n_jobs=-1)]: Done 1242 tasks      | elapsed:    9.6s\n",
      "[Parallel(n_jobs=-1)]: Done 1792 tasks      | elapsed:   13.9s\n",
      "[Parallel(n_jobs=-1)]: Done 2442 tasks      | elapsed:   18.8s\n",
      "[Parallel(n_jobs=-1)]: Done 3192 tasks      | elapsed:   24.7s\n",
      "[Parallel(n_jobs=-1)]: Done 4042 tasks      | elapsed:   31.2s\n",
      "[Parallel(n_jobs=-1)]: Done 4992 tasks      | elapsed:   38.8s\n",
      "[Parallel(n_jobs=-1)]: Done 5925 out of 5925 | elapsed:   46.5s finished\n",
      "[Parallel(n_jobs=-1)]: Using backend ThreadingBackend with 4 concurrent workers.\n",
      "[Parallel(n_jobs=-1)]: Done  42 tasks      | elapsed:    0.3s\n",
      "[Parallel(n_jobs=-1)]: Done 192 tasks      | elapsed:    1.6s\n",
      "[Parallel(n_jobs=-1)]: Done 442 tasks      | elapsed:    3.7s\n",
      "[Parallel(n_jobs=-1)]: Done 792 tasks      | elapsed:    6.7s\n",
      "[Parallel(n_jobs=-1)]: Done 1242 tasks      | elapsed:   10.5s\n",
      "[Parallel(n_jobs=-1)]: Done 1792 tasks      | elapsed:   14.8s\n",
      "[Parallel(n_jobs=-1)]: Done 2442 tasks      | elapsed:   19.8s\n",
      "[Parallel(n_jobs=-1)]: Done 3192 tasks      | elapsed:   25.5s\n",
      "[Parallel(n_jobs=-1)]: Done 4042 tasks      | elapsed:   32.4s\n",
      "[Parallel(n_jobs=-1)]: Done 4992 tasks      | elapsed:   40.2s\n",
      "[Parallel(n_jobs=-1)]: Done 5925 out of 5925 | elapsed:   47.8s finished\n",
      "[Parallel(n_jobs=-1)]: Using backend ThreadingBackend with 4 concurrent workers.\n",
      "[Parallel(n_jobs=-1)]: Done  42 tasks      | elapsed:    0.3s\n",
      "[Parallel(n_jobs=-1)]: Done 192 tasks      | elapsed:    1.8s\n",
      "[Parallel(n_jobs=-1)]: Done 442 tasks      | elapsed:    4.3s\n",
      "[Parallel(n_jobs=-1)]: Done 792 tasks      | elapsed:    7.7s\n",
      "[Parallel(n_jobs=-1)]: Done 1242 tasks      | elapsed:   11.2s\n",
      "[Parallel(n_jobs=-1)]: Done 1792 tasks      | elapsed:   15.9s\n",
      "[Parallel(n_jobs=-1)]: Done 2442 tasks      | elapsed:   21.8s\n",
      "[Parallel(n_jobs=-1)]: Done 3192 tasks      | elapsed:   28.8s\n",
      "[Parallel(n_jobs=-1)]: Done 4042 tasks      | elapsed:   35.8s\n",
      "[Parallel(n_jobs=-1)]: Done 4992 tasks      | elapsed:   43.4s\n",
      "[Parallel(n_jobs=-1)]: Done 5925 out of 5925 | elapsed:   51.7s finished\n",
      "[Parallel(n_jobs=-1)]: Using backend ThreadingBackend with 4 concurrent workers.\n",
      "[Parallel(n_jobs=-1)]: Done  42 tasks      | elapsed:    0.2s\n",
      "[Parallel(n_jobs=-1)]: Done 192 tasks      | elapsed:    1.4s\n",
      "[Parallel(n_jobs=-1)]: Done 442 tasks      | elapsed:    3.3s\n",
      "[Parallel(n_jobs=-1)]: Done 792 tasks      | elapsed:    6.0s\n",
      "[Parallel(n_jobs=-1)]: Done 1242 tasks      | elapsed:   10.3s\n",
      "[Parallel(n_jobs=-1)]: Done 1792 tasks      | elapsed:   15.5s\n",
      "[Parallel(n_jobs=-1)]: Done 2442 tasks      | elapsed:   21.4s\n",
      "[Parallel(n_jobs=-1)]: Done 3192 tasks      | elapsed:   27.9s\n",
      "[Parallel(n_jobs=-1)]: Done 4042 tasks      | elapsed:   35.0s\n",
      "[Parallel(n_jobs=-1)]: Done 4992 tasks      | elapsed:   44.0s\n",
      "[Parallel(n_jobs=-1)]: Done 5925 out of 5925 | elapsed:   52.9s finished\n",
      "[Parallel(n_jobs=-1)]: Using backend ThreadingBackend with 4 concurrent workers.\n",
      "[Parallel(n_jobs=-1)]: Done  42 tasks      | elapsed:    0.3s\n",
      "[Parallel(n_jobs=-1)]: Done 192 tasks      | elapsed:    1.7s\n",
      "[Parallel(n_jobs=-1)]: Done 442 tasks      | elapsed:    4.1s\n",
      "[Parallel(n_jobs=-1)]: Done 792 tasks      | elapsed:    7.3s\n",
      "[Parallel(n_jobs=-1)]: Done 1242 tasks      | elapsed:   11.6s\n",
      "[Parallel(n_jobs=-1)]: Done 1792 tasks      | elapsed:   16.5s\n",
      "[Parallel(n_jobs=-1)]: Done 2442 tasks      | elapsed:   22.3s\n",
      "[Parallel(n_jobs=-1)]: Done 3192 tasks      | elapsed:   32.2s\n",
      "[Parallel(n_jobs=-1)]: Done 4042 tasks      | elapsed:   43.2s\n",
      "[Parallel(n_jobs=-1)]: Done 4992 tasks      | elapsed:   52.8s\n",
      "[Parallel(n_jobs=-1)]: Done 5925 out of 5925 | elapsed:  1.0min finished\n",
      "[Parallel(n_jobs=-1)]: Using backend ThreadingBackend with 4 concurrent workers.\n",
      "[Parallel(n_jobs=-1)]: Done  42 tasks      | elapsed:    0.3s\n",
      "[Parallel(n_jobs=-1)]: Done 192 tasks      | elapsed:    1.8s\n",
      "[Parallel(n_jobs=-1)]: Done 442 tasks      | elapsed:    4.3s\n",
      "[Parallel(n_jobs=-1)]: Done 792 tasks      | elapsed:    8.0s\n",
      "[Parallel(n_jobs=-1)]: Done 1242 tasks      | elapsed:   12.5s\n",
      "[Parallel(n_jobs=-1)]: Done 1792 tasks      | elapsed:   17.9s\n",
      "[Parallel(n_jobs=-1)]: Done 2442 tasks      | elapsed:   24.4s\n",
      "[Parallel(n_jobs=-1)]: Done 3192 tasks      | elapsed:   32.0s\n",
      "[Parallel(n_jobs=-1)]: Done 4042 tasks      | elapsed:   40.6s\n",
      "[Parallel(n_jobs=-1)]: Done 4992 tasks      | elapsed:   50.2s\n",
      "[Parallel(n_jobs=-1)]: Done 5925 out of 5925 | elapsed:   59.7s finished\n",
      "[Parallel(n_jobs=-1)]: Using backend ThreadingBackend with 4 concurrent workers.\n",
      "[Parallel(n_jobs=-1)]: Done  42 tasks      | elapsed:    0.4s\n",
      "[Parallel(n_jobs=-1)]: Done 192 tasks      | elapsed:    2.0s\n",
      "[Parallel(n_jobs=-1)]: Done 442 tasks      | elapsed:    4.5s\n",
      "[Parallel(n_jobs=-1)]: Done 792 tasks      | elapsed:    8.1s\n",
      "[Parallel(n_jobs=-1)]: Done 1242 tasks      | elapsed:   12.7s\n",
      "[Parallel(n_jobs=-1)]: Done 1792 tasks      | elapsed:   18.2s\n",
      "[Parallel(n_jobs=-1)]: Done 2442 tasks      | elapsed:   24.8s\n",
      "[Parallel(n_jobs=-1)]: Done 3192 tasks      | elapsed:   32.3s\n",
      "[Parallel(n_jobs=-1)]: Done 4042 tasks      | elapsed:   41.1s\n",
      "[Parallel(n_jobs=-1)]: Done 4992 tasks      | elapsed:   50.7s\n",
      "[Parallel(n_jobs=-1)]: Done 6042 tasks      | elapsed:  1.0min\n",
      "[Parallel(n_jobs=-1)]: Done 7192 tasks      | elapsed:  1.2min\n",
      "[Parallel(n_jobs=-1)]: Done 8442 tasks      | elapsed:  1.4min\n",
      "[Parallel(n_jobs=-1)]: Done 9792 tasks      | elapsed:  1.7min\n",
      "[Parallel(n_jobs=-1)]: Done 11242 tasks      | elapsed:  1.9min\n",
      "[Parallel(n_jobs=-1)]: Done 12792 tasks      | elapsed:  2.2min\n",
      "[Parallel(n_jobs=-1)]: Done 13825 out of 13825 | elapsed:  2.4min finished\n"
     ]
    },
    {
     "name": "stdout",
     "output_type": "stream",
     "text": [
      "250.886 --> "
     ]
    },
    {
     "name": "stderr",
     "output_type": "stream",
     "text": [
      "[Parallel(n_jobs=-1)]: Using backend ThreadingBackend with 4 concurrent workers.\n",
      "[Parallel(n_jobs=-1)]: Done  42 tasks      | elapsed:    0.3s\n",
      "[Parallel(n_jobs=-1)]: Done 192 tasks      | elapsed:    1.6s\n",
      "[Parallel(n_jobs=-1)]: Done 442 tasks      | elapsed:    3.8s\n",
      "[Parallel(n_jobs=-1)]: Done 792 tasks      | elapsed:    6.6s\n",
      "[Parallel(n_jobs=-1)]: Done 1242 tasks      | elapsed:    9.5s\n",
      "[Parallel(n_jobs=-1)]: Done 1792 tasks      | elapsed:   13.0s\n",
      "[Parallel(n_jobs=-1)]: Done 2442 tasks      | elapsed:   17.3s\n",
      "[Parallel(n_jobs=-1)]: Done 3192 tasks      | elapsed:   22.1s\n",
      "[Parallel(n_jobs=-1)]: Done 4042 tasks      | elapsed:   28.2s\n",
      "[Parallel(n_jobs=-1)]: Done 4992 tasks      | elapsed:   34.3s\n",
      "[Parallel(n_jobs=-1)]: Done 6042 tasks      | elapsed:   43.3s\n",
      "[Parallel(n_jobs=-1)]: Done 7192 tasks      | elapsed:   50.7s\n",
      "[Parallel(n_jobs=-1)]: Done 8442 tasks      | elapsed:   58.8s\n",
      "[Parallel(n_jobs=-1)]: Done 9792 tasks      | elapsed:  1.1min\n",
      "[Parallel(n_jobs=-1)]: Done 11242 tasks      | elapsed:  1.3min\n",
      "[Parallel(n_jobs=-1)]: Done 12792 tasks      | elapsed:  1.5min\n",
      "[Parallel(n_jobs=-1)]: Done 13825 out of 13825 | elapsed:  1.6min finished\n"
     ]
    },
    {
     "name": "stdout",
     "output_type": "stream",
     "text": [
      "151.506 --> "
     ]
    },
    {
     "name": "stderr",
     "output_type": "stream",
     "text": [
      "[Parallel(n_jobs=-1)]: Using backend ThreadingBackend with 4 concurrent workers.\n",
      "[Parallel(n_jobs=-1)]: Done  42 tasks      | elapsed:    0.1s\n",
      "[Parallel(n_jobs=-1)]: Done 192 tasks      | elapsed:    0.9s\n",
      "[Parallel(n_jobs=-1)]: Done 442 tasks      | elapsed:    2.1s\n",
      "[Parallel(n_jobs=-1)]: Done 792 tasks      | elapsed:    3.8s\n",
      "[Parallel(n_jobs=-1)]: Done 1242 tasks      | elapsed:    6.1s\n",
      "[Parallel(n_jobs=-1)]: Done 1792 tasks      | elapsed:    8.9s\n",
      "[Parallel(n_jobs=-1)]: Done 2442 tasks      | elapsed:   12.2s\n",
      "[Parallel(n_jobs=-1)]: Done 3192 tasks      | elapsed:   16.0s\n",
      "[Parallel(n_jobs=-1)]: Done 4042 tasks      | elapsed:   20.4s\n",
      "[Parallel(n_jobs=-1)]: Done 4992 tasks      | elapsed:   25.4s\n",
      "[Parallel(n_jobs=-1)]: Done 6042 tasks      | elapsed:   30.9s\n",
      "[Parallel(n_jobs=-1)]: Done 7192 tasks      | elapsed:   36.9s\n",
      "[Parallel(n_jobs=-1)]: Done 8442 tasks      | elapsed:   43.5s\n",
      "[Parallel(n_jobs=-1)]: Done 9792 tasks      | elapsed:   50.6s\n",
      "[Parallel(n_jobs=-1)]: Done 11242 tasks      | elapsed:   58.2s\n",
      "[Parallel(n_jobs=-1)]: Done 12792 tasks      | elapsed:  1.1min\n",
      "[Parallel(n_jobs=-1)]: Done 13825 out of 13825 | elapsed:  1.2min finished\n"
     ]
    },
    {
     "name": "stdout",
     "output_type": "stream",
     "text": [
      "145.572 --> "
     ]
    },
    {
     "name": "stderr",
     "output_type": "stream",
     "text": [
      "[Parallel(n_jobs=-1)]: Using backend ThreadingBackend with 4 concurrent workers.\n",
      "[Parallel(n_jobs=-1)]: Done  42 tasks      | elapsed:    0.1s\n",
      "[Parallel(n_jobs=-1)]: Done 192 tasks      | elapsed:    0.9s\n",
      "[Parallel(n_jobs=-1)]: Done 442 tasks      | elapsed:    2.1s\n",
      "[Parallel(n_jobs=-1)]: Done 792 tasks      | elapsed:    3.9s\n",
      "[Parallel(n_jobs=-1)]: Done 1242 tasks      | elapsed:    6.2s\n",
      "[Parallel(n_jobs=-1)]: Done 1792 tasks      | elapsed:    9.0s\n",
      "[Parallel(n_jobs=-1)]: Done 2442 tasks      | elapsed:   12.3s\n",
      "[Parallel(n_jobs=-1)]: Done 3192 tasks      | elapsed:   16.2s\n",
      "[Parallel(n_jobs=-1)]: Done 4042 tasks      | elapsed:   20.7s\n",
      "[Parallel(n_jobs=-1)]: Done 4992 tasks      | elapsed:   25.7s\n",
      "[Parallel(n_jobs=-1)]: Done 6042 tasks      | elapsed:   31.2s\n",
      "[Parallel(n_jobs=-1)]: Done 7192 tasks      | elapsed:   37.3s\n",
      "[Parallel(n_jobs=-1)]: Done 8442 tasks      | elapsed:   44.5s\n",
      "[Parallel(n_jobs=-1)]: Done 9792 tasks      | elapsed:   51.6s\n",
      "[Parallel(n_jobs=-1)]: Done 11242 tasks      | elapsed:   59.3s\n",
      "[Parallel(n_jobs=-1)]: Done 12792 tasks      | elapsed:  1.1min\n",
      "[Parallel(n_jobs=-1)]: Done 13825 out of 13825 | elapsed:  1.2min finished\n"
     ]
    },
    {
     "name": "stdout",
     "output_type": "stream",
     "text": [
      "144.063 --> "
     ]
    },
    {
     "name": "stderr",
     "output_type": "stream",
     "text": [
      "[Parallel(n_jobs=-1)]: Using backend ThreadingBackend with 4 concurrent workers.\n",
      "[Parallel(n_jobs=-1)]: Done  42 tasks      | elapsed:    0.1s\n",
      "[Parallel(n_jobs=-1)]: Done 192 tasks      | elapsed:    0.9s\n",
      "[Parallel(n_jobs=-1)]: Done 442 tasks      | elapsed:    2.1s\n",
      "[Parallel(n_jobs=-1)]: Done 792 tasks      | elapsed:    3.8s\n",
      "[Parallel(n_jobs=-1)]: Done 1242 tasks      | elapsed:    6.2s\n",
      "[Parallel(n_jobs=-1)]: Done 1792 tasks      | elapsed:    9.0s\n",
      "[Parallel(n_jobs=-1)]: Done 2442 tasks      | elapsed:   12.3s\n",
      "[Parallel(n_jobs=-1)]: Done 3192 tasks      | elapsed:   16.2s\n",
      "[Parallel(n_jobs=-1)]: Done 4042 tasks      | elapsed:   20.5s\n",
      "[Parallel(n_jobs=-1)]: Done 4992 tasks      | elapsed:   25.5s\n",
      "[Parallel(n_jobs=-1)]: Done 6042 tasks      | elapsed:   31.0s\n",
      "[Parallel(n_jobs=-1)]: Done 7192 tasks      | elapsed:   37.0s\n",
      "[Parallel(n_jobs=-1)]: Done 8442 tasks      | elapsed:   43.6s\n",
      "[Parallel(n_jobs=-1)]: Done 9792 tasks      | elapsed:   50.7s\n",
      "[Parallel(n_jobs=-1)]: Done 11242 tasks      | elapsed:   58.4s\n",
      "[Parallel(n_jobs=-1)]: Done 12792 tasks      | elapsed:  1.1min\n",
      "[Parallel(n_jobs=-1)]: Done 13825 out of 13825 | elapsed:  1.2min finished\n"
     ]
    },
    {
     "name": "stdout",
     "output_type": "stream",
     "text": [
      "143.358 --> "
     ]
    },
    {
     "name": "stderr",
     "output_type": "stream",
     "text": [
      "[Parallel(n_jobs=-1)]: Using backend ThreadingBackend with 4 concurrent workers.\n",
      "[Parallel(n_jobs=-1)]: Done  42 tasks      | elapsed:    0.1s\n",
      "[Parallel(n_jobs=-1)]: Done 192 tasks      | elapsed:    0.9s\n",
      "[Parallel(n_jobs=-1)]: Done 442 tasks      | elapsed:    2.1s\n",
      "[Parallel(n_jobs=-1)]: Done 792 tasks      | elapsed:    3.8s\n",
      "[Parallel(n_jobs=-1)]: Done 1242 tasks      | elapsed:    6.1s\n",
      "[Parallel(n_jobs=-1)]: Done 1792 tasks      | elapsed:    8.9s\n",
      "[Parallel(n_jobs=-1)]: Done 2442 tasks      | elapsed:   12.2s\n",
      "[Parallel(n_jobs=-1)]: Done 3192 tasks      | elapsed:   16.1s\n",
      "[Parallel(n_jobs=-1)]: Done 4042 tasks      | elapsed:   20.5s\n",
      "[Parallel(n_jobs=-1)]: Done 4992 tasks      | elapsed:   25.6s\n",
      "[Parallel(n_jobs=-1)]: Done 6042 tasks      | elapsed:   31.1s\n",
      "[Parallel(n_jobs=-1)]: Done 7192 tasks      | elapsed:   37.1s\n",
      "[Parallel(n_jobs=-1)]: Done 8442 tasks      | elapsed:   43.7s\n",
      "[Parallel(n_jobs=-1)]: Done 9792 tasks      | elapsed:   50.8s\n",
      "[Parallel(n_jobs=-1)]: Done 11242 tasks      | elapsed:   58.4s\n",
      "[Parallel(n_jobs=-1)]: Done 12792 tasks      | elapsed:  1.1min\n",
      "[Parallel(n_jobs=-1)]: Done 13825 out of 13825 | elapsed:  1.2min finished\n"
     ]
    },
    {
     "name": "stdout",
     "output_type": "stream",
     "text": [
      "143.289 --> "
     ]
    },
    {
     "name": "stderr",
     "output_type": "stream",
     "text": [
      "[Parallel(n_jobs=-1)]: Using backend ThreadingBackend with 4 concurrent workers.\n",
      "[Parallel(n_jobs=-1)]: Done  42 tasks      | elapsed:    0.1s\n",
      "[Parallel(n_jobs=-1)]: Done 192 tasks      | elapsed:    0.9s\n",
      "[Parallel(n_jobs=-1)]: Done 442 tasks      | elapsed:    2.1s\n",
      "[Parallel(n_jobs=-1)]: Done 792 tasks      | elapsed:    3.8s\n",
      "[Parallel(n_jobs=-1)]: Done 1242 tasks      | elapsed:    6.1s\n",
      "[Parallel(n_jobs=-1)]: Done 1792 tasks      | elapsed:    8.9s\n",
      "[Parallel(n_jobs=-1)]: Done 2442 tasks      | elapsed:   12.2s\n",
      "[Parallel(n_jobs=-1)]: Done 3192 tasks      | elapsed:   16.1s\n",
      "[Parallel(n_jobs=-1)]: Done 4042 tasks      | elapsed:   20.4s\n",
      "[Parallel(n_jobs=-1)]: Done 4992 tasks      | elapsed:   25.4s\n",
      "[Parallel(n_jobs=-1)]: Done 6042 tasks      | elapsed:   30.9s\n",
      "[Parallel(n_jobs=-1)]: Done 7192 tasks      | elapsed:   37.0s\n",
      "[Parallel(n_jobs=-1)]: Done 8442 tasks      | elapsed:   43.7s\n",
      "[Parallel(n_jobs=-1)]: Done 9792 tasks      | elapsed:   50.8s\n",
      "[Parallel(n_jobs=-1)]: Done 11242 tasks      | elapsed:   58.4s\n",
      "[Parallel(n_jobs=-1)]: Done 12792 tasks      | elapsed:  1.1min\n",
      "[Parallel(n_jobs=-1)]: Done 13825 out of 13825 | elapsed:  1.2min finished\n"
     ]
    },
    {
     "name": "stdout",
     "output_type": "stream",
     "text": [
      "143.278 --> "
     ]
    },
    {
     "name": "stderr",
     "output_type": "stream",
     "text": [
      "[Parallel(n_jobs=-1)]: Using backend ThreadingBackend with 4 concurrent workers.\n",
      "[Parallel(n_jobs=-1)]: Done  42 tasks      | elapsed:    0.1s\n",
      "[Parallel(n_jobs=-1)]: Done 192 tasks      | elapsed:    0.9s\n",
      "[Parallel(n_jobs=-1)]: Done 442 tasks      | elapsed:    2.1s\n",
      "[Parallel(n_jobs=-1)]: Done 792 tasks      | elapsed:    3.9s\n",
      "[Parallel(n_jobs=-1)]: Done 1242 tasks      | elapsed:    6.2s\n",
      "[Parallel(n_jobs=-1)]: Done 1792 tasks      | elapsed:    8.9s\n",
      "[Parallel(n_jobs=-1)]: Done 2442 tasks      | elapsed:   12.3s\n",
      "[Parallel(n_jobs=-1)]: Done 3192 tasks      | elapsed:   16.1s\n",
      "[Parallel(n_jobs=-1)]: Done 4042 tasks      | elapsed:   20.5s\n",
      "[Parallel(n_jobs=-1)]: Done 4992 tasks      | elapsed:   25.4s\n",
      "[Parallel(n_jobs=-1)]: Done 6042 tasks      | elapsed:   30.9s\n",
      "[Parallel(n_jobs=-1)]: Done 7192 tasks      | elapsed:   36.9s\n",
      "[Parallel(n_jobs=-1)]: Done 8442 tasks      | elapsed:   43.6s\n",
      "[Parallel(n_jobs=-1)]: Done 9792 tasks      | elapsed:   50.7s\n",
      "[Parallel(n_jobs=-1)]: Done 11242 tasks      | elapsed:   58.3s\n",
      "[Parallel(n_jobs=-1)]: Done 12792 tasks      | elapsed:  1.1min\n",
      "[Parallel(n_jobs=-1)]: Done 13825 out of 13825 | elapsed:  1.2min finished\n"
     ]
    },
    {
     "name": "stdout",
     "output_type": "stream",
     "text": [
      "143.246 --> "
     ]
    },
    {
     "name": "stderr",
     "output_type": "stream",
     "text": [
      "[Parallel(n_jobs=-1)]: Using backend ThreadingBackend with 4 concurrent workers.\n",
      "[Parallel(n_jobs=-1)]: Done  42 tasks      | elapsed:    0.1s\n",
      "[Parallel(n_jobs=-1)]: Done 192 tasks      | elapsed:    0.9s\n",
      "[Parallel(n_jobs=-1)]: Done 442 tasks      | elapsed:    2.1s\n",
      "[Parallel(n_jobs=-1)]: Done 792 tasks      | elapsed:    3.9s\n",
      "[Parallel(n_jobs=-1)]: Done 1242 tasks      | elapsed:    6.1s\n",
      "[Parallel(n_jobs=-1)]: Done 1792 tasks      | elapsed:    9.0s\n",
      "[Parallel(n_jobs=-1)]: Done 2442 tasks      | elapsed:   12.3s\n",
      "[Parallel(n_jobs=-1)]: Done 3192 tasks      | elapsed:   16.1s\n",
      "[Parallel(n_jobs=-1)]: Done 4042 tasks      | elapsed:   20.5s\n",
      "[Parallel(n_jobs=-1)]: Done 4992 tasks      | elapsed:   25.5s\n",
      "[Parallel(n_jobs=-1)]: Done 6042 tasks      | elapsed:   31.0s\n",
      "[Parallel(n_jobs=-1)]: Done 7192 tasks      | elapsed:   37.1s\n",
      "[Parallel(n_jobs=-1)]: Done 8442 tasks      | elapsed:   43.7s\n",
      "[Parallel(n_jobs=-1)]: Done 9792 tasks      | elapsed:   50.8s\n",
      "[Parallel(n_jobs=-1)]: Done 11242 tasks      | elapsed:   58.5s\n",
      "[Parallel(n_jobs=-1)]: Done 12792 tasks      | elapsed:  1.1min\n",
      "[Parallel(n_jobs=-1)]: Done 13825 out of 13825 | elapsed:  1.2min finished\n"
     ]
    },
    {
     "name": "stdout",
     "output_type": "stream",
     "text": [
      "143.222 --> "
     ]
    },
    {
     "name": "stderr",
     "output_type": "stream",
     "text": [
      "[Parallel(n_jobs=-1)]: Using backend ThreadingBackend with 4 concurrent workers.\n",
      "[Parallel(n_jobs=-1)]: Done  42 tasks      | elapsed:    0.1s\n",
      "[Parallel(n_jobs=-1)]: Done 192 tasks      | elapsed:    0.9s\n",
      "[Parallel(n_jobs=-1)]: Done 442 tasks      | elapsed:    2.2s\n",
      "[Parallel(n_jobs=-1)]: Done 792 tasks      | elapsed:    3.9s\n",
      "[Parallel(n_jobs=-1)]: Done 1242 tasks      | elapsed:    6.2s\n",
      "[Parallel(n_jobs=-1)]: Done 1792 tasks      | elapsed:    9.1s\n",
      "[Parallel(n_jobs=-1)]: Done 2442 tasks      | elapsed:   12.4s\n",
      "[Parallel(n_jobs=-1)]: Done 3192 tasks      | elapsed:   16.3s\n",
      "[Parallel(n_jobs=-1)]: Done 4042 tasks      | elapsed:   20.7s\n",
      "[Parallel(n_jobs=-1)]: Done 4992 tasks      | elapsed:   26.1s\n",
      "[Parallel(n_jobs=-1)]: Done 6042 tasks      | elapsed:   31.7s\n",
      "[Parallel(n_jobs=-1)]: Done 7192 tasks      | elapsed:   37.6s\n",
      "[Parallel(n_jobs=-1)]: Done 8442 tasks      | elapsed:   44.5s\n",
      "[Parallel(n_jobs=-1)]: Done 9792 tasks      | elapsed:   51.8s\n",
      "[Parallel(n_jobs=-1)]: Done 11242 tasks      | elapsed:   59.9s\n",
      "[Parallel(n_jobs=-1)]: Done 12792 tasks      | elapsed:  1.1min\n",
      "[Parallel(n_jobs=-1)]: Done 13825 out of 13825 | elapsed:  1.2min finished\n"
     ]
    },
    {
     "name": "stdout",
     "output_type": "stream",
     "text": [
      "143.222 --> \n"
     ]
    },
    {
     "name": "stderr",
     "output_type": "stream",
     "text": [
      "[Parallel(n_jobs=-1)]: Using backend ThreadingBackend with 4 concurrent workers.\n",
      "[Parallel(n_jobs=-1)]: Done  42 tasks      | elapsed:    0.1s\n",
      "[Parallel(n_jobs=-1)]: Done 192 tasks      | elapsed:    0.9s\n",
      "[Parallel(n_jobs=-1)]: Done 442 tasks      | elapsed:    2.1s\n",
      "[Parallel(n_jobs=-1)]: Done 792 tasks      | elapsed:    3.9s\n",
      "[Parallel(n_jobs=-1)]: Done 1242 tasks      | elapsed:    6.2s\n",
      "[Parallel(n_jobs=-1)]: Done 1792 tasks      | elapsed:    9.0s\n",
      "[Parallel(n_jobs=-1)]: Done 2442 tasks      | elapsed:   12.7s\n",
      "[Parallel(n_jobs=-1)]: Done 3192 tasks      | elapsed:   16.5s\n",
      "[Parallel(n_jobs=-1)]: Done 4042 tasks      | elapsed:   20.9s\n",
      "[Parallel(n_jobs=-1)]: Done 4992 tasks      | elapsed:   26.0s\n",
      "[Parallel(n_jobs=-1)]: Done 6042 tasks      | elapsed:   31.8s\n",
      "[Parallel(n_jobs=-1)]: Done 7192 tasks      | elapsed:   39.3s\n",
      "[Parallel(n_jobs=-1)]: Done 8442 tasks      | elapsed:   47.1s\n",
      "[Parallel(n_jobs=-1)]: Done 9792 tasks      | elapsed:   55.9s\n",
      "[Parallel(n_jobs=-1)]: Done 11242 tasks      | elapsed:  1.1min\n",
      "[Parallel(n_jobs=-1)]: Done 12792 tasks      | elapsed:  1.2min\n"
     ]
    },
    {
     "name": "stdout",
     "output_type": "stream",
     "text": [
      "Clustering k=7 took 4241.451266 seconds\n",
      "4    432\n",
      "3    393\n",
      "0    374\n",
      "2    314\n",
      "6    192\n",
      "1    182\n",
      "5     88\n",
      "dtype: int64\n",
      "[432, 393, 374, 314, 192, 182, 88] \n",
      "\n"
     ]
    },
    {
     "name": "stderr",
     "output_type": "stream",
     "text": [
      "[Parallel(n_jobs=-1)]: Done 13825 out of 13825 | elapsed:  1.3min finished\n"
     ]
    }
   ],
   "source": [
    "print('Results of dtw K-means Clustering with k=%d' % k)\n",
    "\n",
    "start = timer()\n",
    "\n",
    "dtwkm = TimeSeriesKMeans(n_clusters=k, verbose=True, random_state=42, n_jobs=-1, metric='dtw')\n",
    "dtwkmeans_predictions = dtwkm.fit_predict(single_tenant_vals)\n",
    "\n",
    "end = timer()\n",
    "print('Clustering k=%d took %f seconds' % (k, (end - start)))\n",
    "\n",
    "dtwkm_clusters = pd.Series(dtwkmeans_predictions)\n",
    "print(dtwkm_clusters.value_counts())\n",
    "print(dtwkm_clusters.value_counts().values.tolist(), '\\n')"
   ]
  },
  {
   "cell_type": "markdown",
   "id": "computational-asbestos",
   "metadata": {},
   "source": [
    "# Results"
   ]
  },
  {
   "cell_type": "code",
   "execution_count": 12,
   "id": "clean-produce",
   "metadata": {},
   "outputs": [],
   "source": [
    "colours = ['tab:red', 'tab:orange', 'gold', 'tab:green', 'tab:blue', 'tab:purple', 'tab:pink', 'tab:brown', 'k', 'tab:gray']"
   ]
  },
  {
   "cell_type": "code",
   "execution_count": 19,
   "id": "vanilla-specialist",
   "metadata": {},
   "outputs": [],
   "source": [
    "data_df = pd.DataFrame(single_tenant_df[:, :, 0])\n",
    "data_df['dbscan'] = labels\n",
    "average_dbscan_cluster = data_df.groupby('dbscan').mean()"
   ]
  },
  {
   "cell_type": "code",
   "execution_count": 57,
   "id": "proof-wright",
   "metadata": {},
   "outputs": [
    {
     "data": {
      "image/png": "[encoded data removed]",
      "text/plain": [
       "<Figure size 648x864 with 21 Axes>"
      ]
     },
     "metadata": {
      "needs_background": "light"
     },
     "output_type": "display_data"
    }
   ],
   "source": [
    "fig, axes = plt.subplots(nrows=7, ncols=3, figsize=(9, 12), sharex=True, tight_layout = True)\n",
    "colours = ['tab:red', 'tab:orange', 'gold', 'tab:green', 'tab:blue', 'tab:purple', 'tab:pink', 'tab:gray', 'tab:brown']\n",
    "\n",
    "# Row and column labels for subplot\n",
    "cols = ['DBScan', '$k$-means']\n",
    "for ax, col in zip((axes[0,0], axes[0,1]), cols):\n",
    "    ax.set_title(col)\n",
    "\n",
    "fig.text(0.5, 0, 'Day $x$ of 7', ha='center')\n",
    "fig.text(0, 0.5, 'ln(function invocation count)', va='center', rotation='vertical')\n",
    "fig.suptitle('Exploring the behaviour of a single tenant (cluster size descending)')\n",
    "\n",
    "# DBScan\n",
    "cluster_order = pd.Series(labels).value_counts().keys().tolist()[0:7]\n",
    "for yi in range(len(cluster_order)):\n",
    "    cluster_index = cluster_order[yi]\n",
    "    axes[yi,0].plot(average_dbscan_cluster.values[cluster_index], color='#36558F')  \n",
    "    \n",
    "    # Plot text in same position in each subplot\n",
    "    text = 'Cluster %d \\nSize:%d' % ((yi + 1), pd.Series(labels).value_counts().values[yi])\n",
    "    t= axes[yi,0].text(0.8, 0.8, text,\n",
    "             horizontalalignment='center',\n",
    "             verticalalignment='center',\n",
    "             transform = axes[yi,0].transAxes,\n",
    "             color=\"black\")\n",
    "    t.set_bbox(dict(facecolor='#A9ACA9', alpha=0.65, edgecolor='white'))\n",
    "\n",
    "# Kmeans\n",
    "cluster_order = pd.Series(kmeans_predictions).value_counts().keys().tolist()\n",
    "for yi in range(len(cluster_order)):\n",
    "    cluster_index = cluster_order[yi]\n",
    "    axes[yi,1].plot(km.cluster_centers_[cluster_index].ravel()[:int(7 * (1440 / 10))], color='#36558F')\n",
    "    \n",
    "    # Plot text in same position in each subplot\n",
    "    text = 'Cluster %d \\nSize:%d' % ((yi + 1), pd.Series(kmeans_predictions).value_counts().values[yi])\n",
    "    t= axes[yi,1].text(0.8, 0.8, text,\n",
    "             horizontalalignment='center',\n",
    "             verticalalignment='center',\n",
    "             transform = axes[yi,1].transAxes,\n",
    "             color='black')\n",
    "    t.set_bbox(dict(facecolor='#A9ACA9', alpha=0.65, edgecolor='white'))\n",
    "\n",
    "# Dynamic Time warped k-means\n",
    "cluster_order = pd.Series(dtwkmeans_predictions).value_counts().keys().tolist()\n",
    "for yi in range(len(cluster_order)):\n",
    "    cluster_index = cluster_order[yi]\n",
    "    axes[yi,2].plot(dtwkm.cluster_centers_[cluster_index].ravel()[:int(7 * (1440 / 10))], color='#36558F')\n",
    "    \n",
    "    # Plot text in same position in each subplot\n",
    "    text = 'Cluster %d \\nSize:%d' % ((yi + 1), pd.Series(dtwkmeans_predictions).value_counts().values[yi])\n",
    "    t= axes[yi,2].text(0.8, 0.8, text,\n",
    "             horizontalalignment='center',\n",
    "             verticalalignment='center',\n",
    "             transform = axes[yi,2].transAxes,\n",
    "             color='black')\n",
    "    t.set_bbox(dict(facecolor='#A9ACA9', alpha=0.65, edgecolor='white'))\n",
    "\n",
    "x_ticks = np.arange(0, 1008, 144)\n",
    "plt.xticks(x_ticks, values)\n",
    "# plt.xticks(list(range(1008)), values)\n",
    "\n",
    "fig.tight_layout()\n",
    "fig.savefig('figs/final/test4f.png', dpi=250)\n",
    "plt.show()"
   ]
  },
  {
   "cell_type": "markdown",
   "id": "scenic-federal",
   "metadata": {},
   "source": [
    "| Clustering Algorithm | Clusters                           | Clustering Time (s) |\n",
    "|----------------------|------------------------------------|---------------------|\n",
    "| DBScan               | [1664, 44, 24, 20, 18, 11, 10]     | 0.162274            |\n",
    "| $k$-means            | [1752, 110, 54, 23, 21, 11, 4]     | 0.814314            |\n",
    "| dtw $k$-means        | [432, 393, 374, 314, 192, 182, 88] | 4241.451266         |"
   ]
  },
  {
   "cell_type": "code",
   "execution_count": null,
   "id": "criminal-argument",
   "metadata": {},
   "outputs": [],
   "source": []
  }
 ],
 "metadata": {
  "kernelspec": {
   "display_name": "Python 3",
   "language": "python",
   "name": "python3"
  },
  "language_info": {
   "codemirror_mode": {
    "name": "ipython",
    "version": 3
   },
   "file_extension": ".py",
   "mimetype": "text/x-python",
   "name": "python",
   "nbconvert_exporter": "python",
   "pygments_lexer": "ipython3",
   "version": "3.8.7"
  }
 },
 "nbformat": 4,
 "nbformat_minor": 5
}
