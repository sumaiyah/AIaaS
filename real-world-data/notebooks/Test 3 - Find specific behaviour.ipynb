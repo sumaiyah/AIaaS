{
 "cells": [
  {
   "cell_type": "code",
   "execution_count": 1,
   "id": "velvet-optimum",
   "metadata": {},
   "outputs": [],
   "source": [
    "import sys\n",
    "sys.path.append('C:\\\\Users\\\\sumaiyah\\\\Documents\\\\Univeristy\\\\diss\\\\misuse-AIaaS')\n",
    "\n",
    "# Import filepaths\n",
    "from notebooks import FIC_10minute_filepath"
   ]
  },
  {
   "cell_type": "code",
   "execution_count": 2,
   "id": "toxic-bracket",
   "metadata": {},
   "outputs": [],
   "source": [
    "import numpy as np\n",
    "import pandas as pd\n",
    "from timeit import default_timer as timer\n",
    "\n",
    "from timeit import default_timer as timer\n",
    "from tslearn.clustering import TimeSeriesKMeans\n",
    "from tslearn.preprocessing import TimeSeriesScalerMeanVariance\n",
    "from tslearn.utils import to_time_series_dataset"
   ]
  },
  {
   "cell_type": "code",
   "execution_count": 3,
   "id": "tight-orbit",
   "metadata": {},
   "outputs": [],
   "source": [
    "fic_df = pd.read_pickle(FIC_10minute_filepath(1)).drop(columns=[0,1,2,3])"
   ]
  },
  {
   "cell_type": "code",
   "execution_count": 4,
   "id": "pointed-caution",
   "metadata": {},
   "outputs": [],
   "source": [
    "fic_df['n_calls'] = (fic_df != 0).astype(int).sum(axis=1)\n",
    "\n",
    "heavy_users_df = fic_df.sort_values(by='n_calls', ascending=False).head(10000).sample(frac=1).head(200)\n",
    "heavy_users_df['class'] = 1\n",
    "\n",
    "normal_users_df = fic_df[fic_df['n_calls'] > 1].sort_values(by='n_calls', ascending=True).head(20000).sample(frac=1).head(9800)\n",
    "normal_users_df['class'] = 0\n",
    "\n",
    "all_users_df = pd.concat([normal_users_df, heavy_users_df]).sample(frac=1).reset_index(drop=True)\n",
    "y = all_users_df['class']"
   ]
  },
  {
   "cell_type": "code",
   "execution_count": 5,
   "id": "occupied-treasure",
   "metadata": {},
   "outputs": [
    {
     "name": "stdout",
     "output_type": "stream",
     "text": [
      "(10000, 144, 1)\n"
     ]
    }
   ],
   "source": [
    "# Preprocess data\n",
    "all_users_df_norm = TimeSeriesScalerMeanVariance().fit_transform(all_users_df.drop(columns=['class', 'n_calls']))\n",
    "\n",
    "# Need values in specific shape for tslearn clustering\n",
    "all_users_df_vals = to_time_series_dataset(all_users_df_norm)\n",
    "print(all_users_df_vals.shape)"
   ]
  },
  {
   "cell_type": "markdown",
   "id": "colonial-while",
   "metadata": {},
   "source": [
    "## DBScan Clustering"
   ]
  },
  {
   "cell_type": "code",
   "execution_count": 6,
   "id": "hundred-estate",
   "metadata": {},
   "outputs": [
    {
     "data": {
      "text/plain": [
       "[<matplotlib.lines.Line2D at 0x1dbc9e26760>]"
      ]
     },
     "execution_count": 6,
     "metadata": {},
     "output_type": "execute_result"
    },
    {
     "data": {
      "image/png": "[encoded data removed]",
      "text/plain": [
       "<Figure size 432x288 with 1 Axes>"
      ]
     },
     "metadata": {
      "needs_background": "light"
     },
     "output_type": "display_data"
    }
   ],
   "source": [
    "from sklearn.neighbors import NearestNeighbors\n",
    "from matplotlib import pyplot as plt\n",
    "\n",
    "# ideal value for ε will be equal to the distance value at the point of maximum curvature\n",
    "# ended up looping through combinations of MinPts and ε values slightly above and below the values estimated here to find the model of best fit\n",
    "\n",
    "neighbors = NearestNeighbors(n_neighbors=20)\n",
    "neighbors_fit = neighbors.fit(all_users_df_vals[:,:,0])\n",
    "distances, indices = neighbors_fit.kneighbors(all_users_df_vals[:,:,0])\n",
    "\n",
    "distances = np.sort(distances, axis=0)\n",
    "distances = distances[:,1]\n",
    "plt.plot(distances)"
   ]
  },
  {
   "cell_type": "code",
   "execution_count": 7,
   "id": "southern-health",
   "metadata": {},
   "outputs": [
    {
     "name": "stdout",
     "output_type": "stream",
     "text": [
      "Clustering took 2.008281 seconds\n",
      " 0    9706\n",
      "-1     294\n",
      "dtype: int64\n",
      "[9706, 294]\n"
     ]
    }
   ],
   "source": [
    "from sklearn.cluster import DBSCAN\n",
    "\n",
    "start = timer()\n",
    "\n",
    "db = DBSCAN(eps=12, min_samples=5).fit(all_users_df_vals[:,:,0])\n",
    "labels = pd.Series(db.labels_)\n",
    "\n",
    "end = timer()\n",
    "print('Clustering took %f seconds' % ((end - start)))\n",
    "\n",
    "print(labels.value_counts())\n",
    "print(list(labels.value_counts().values))"
   ]
  },
  {
   "cell_type": "markdown",
   "id": "subtle-norway",
   "metadata": {},
   "source": [
    "## KMeans"
   ]
  },
  {
   "cell_type": "code",
   "execution_count": 8,
   "id": "strong-driving",
   "metadata": {},
   "outputs": [
    {
     "name": "stdout",
     "output_type": "stream",
     "text": [
      "Results of K-means Clustering with k=2\n",
      "Clustering k=2 took 8.252040 seconds\n",
      "0    9296\n",
      "1     704\n",
      "dtype: int64\n",
      "[9296, 704] \n",
      "\n"
     ]
    }
   ],
   "source": [
    "k=2\n",
    "print('Results of K-means Clustering with k=%d' % k)\n",
    "    \n",
    "start = timer()\n",
    "\n",
    "km = TimeSeriesKMeans(n_clusters=k, verbose=False, random_state=42, n_jobs=-1)\n",
    "kmeans_predictions = km.fit_predict(all_users_df_vals)\n",
    "\n",
    "end = timer()\n",
    "print('Clustering k=%d took %f seconds' % (k, (end - start)))\n",
    "\n",
    "km_clusters = pd.Series(kmeans_predictions)\n",
    "print(km_clusters.value_counts())\n",
    "print(km_clusters.value_counts().values.tolist(), '\\n')"
   ]
  },
  {
   "cell_type": "markdown",
   "id": "chief-while",
   "metadata": {},
   "source": [
    "## DTW Kmeans"
   ]
  },
  {
   "cell_type": "code",
   "execution_count": 9,
   "id": "fiscal-poultry",
   "metadata": {
    "scrolled": true
   },
   "outputs": [
    {
     "name": "stdout",
     "output_type": "stream",
     "text": [
      "Results of K-means Clustering with k=2\n"
     ]
    },
    {
     "name": "stderr",
     "output_type": "stream",
     "text": [
      "[Parallel(n_jobs=-1)]: Using backend ThreadingBackend with 4 concurrent workers.\n",
      "[Parallel(n_jobs=-1)]: Done  42 tasks      | elapsed:    0.8s\n",
      "[Parallel(n_jobs=-1)]: Done 192 tasks      | elapsed:    0.8s\n",
      "[Parallel(n_jobs=-1)]: Done 442 tasks      | elapsed:    0.9s\n",
      "[Parallel(n_jobs=-1)]: Done 792 tasks      | elapsed:    1.0s\n",
      "[Parallel(n_jobs=-1)]: Done 1242 tasks      | elapsed:    1.1s\n",
      "[Parallel(n_jobs=-1)]: Done 1792 tasks      | elapsed:    1.2s\n",
      "[Parallel(n_jobs=-1)]: Done 2442 tasks      | elapsed:    1.3s\n",
      "[Parallel(n_jobs=-1)]: Done 3192 tasks      | elapsed:    1.5s\n",
      "[Parallel(n_jobs=-1)]: Done 4042 tasks      | elapsed:    1.7s\n",
      "[Parallel(n_jobs=-1)]: Done 4992 tasks      | elapsed:    2.0s\n",
      "[Parallel(n_jobs=-1)]: Done 6042 tasks      | elapsed:    2.2s\n",
      "[Parallel(n_jobs=-1)]: Done 7192 tasks      | elapsed:    2.4s\n",
      "[Parallel(n_jobs=-1)]: Done 8442 tasks      | elapsed:    2.6s\n",
      "[Parallel(n_jobs=-1)]: Done 9792 tasks      | elapsed:    2.9s\n",
      "[Parallel(n_jobs=-1)]: Done 10000 out of 10000 | elapsed:    3.0s finished\n",
      "[Parallel(n_jobs=-1)]: Using backend ThreadingBackend with 4 concurrent workers.\n",
      "[Parallel(n_jobs=-1)]: Done  42 tasks      | elapsed:    0.0s\n",
      "[Parallel(n_jobs=-1)]: Done 192 tasks      | elapsed:    0.0s\n",
      "[Parallel(n_jobs=-1)]: Done 442 tasks      | elapsed:    0.0s\n",
      "[Parallel(n_jobs=-1)]: Done 792 tasks      | elapsed:    0.1s\n",
      "[Parallel(n_jobs=-1)]: Done 1242 tasks      | elapsed:    0.2s\n",
      "[Parallel(n_jobs=-1)]: Done 1792 tasks      | elapsed:    0.3s\n",
      "[Parallel(n_jobs=-1)]: Done 2442 tasks      | elapsed:    0.5s\n",
      "[Parallel(n_jobs=-1)]: Done 3192 tasks      | elapsed:    0.6s\n",
      "[Parallel(n_jobs=-1)]: Done 4042 tasks      | elapsed:    0.9s\n",
      "[Parallel(n_jobs=-1)]: Done 4992 tasks      | elapsed:    1.1s\n",
      "[Parallel(n_jobs=-1)]: Done 6042 tasks      | elapsed:    1.3s\n",
      "[Parallel(n_jobs=-1)]: Done 7192 tasks      | elapsed:    1.6s\n",
      "[Parallel(n_jobs=-1)]: Done 8442 tasks      | elapsed:    1.9s\n",
      "[Parallel(n_jobs=-1)]: Done 9792 tasks      | elapsed:    2.1s\n",
      "[Parallel(n_jobs=-1)]: Done 11242 tasks      | elapsed:    2.4s\n",
      "[Parallel(n_jobs=-1)]: Done 12792 tasks      | elapsed:    2.7s\n",
      "[Parallel(n_jobs=-1)]: Done 14442 tasks      | elapsed:    3.0s\n",
      "[Parallel(n_jobs=-1)]: Done 16192 tasks      | elapsed:    3.4s\n",
      "[Parallel(n_jobs=-1)]: Done 18042 tasks      | elapsed:    3.9s\n",
      "[Parallel(n_jobs=-1)]: Done 19992 tasks      | elapsed:    4.3s\n",
      "[Parallel(n_jobs=-1)]: Done 20000 out of 20000 | elapsed:    4.3s finished\n",
      "[Parallel(n_jobs=-1)]: Using backend ThreadingBackend with 4 concurrent workers.\n",
      "[Parallel(n_jobs=-1)]: Done  42 tasks      | elapsed:    0.0s\n",
      "[Parallel(n_jobs=-1)]: Done 192 tasks      | elapsed:    0.0s\n",
      "[Parallel(n_jobs=-1)]: Done 442 tasks      | elapsed:    0.0s\n",
      "[Parallel(n_jobs=-1)]: Done 792 tasks      | elapsed:    0.1s\n",
      "[Parallel(n_jobs=-1)]: Done 1242 tasks      | elapsed:    0.2s\n",
      "[Parallel(n_jobs=-1)]: Done 1792 tasks      | elapsed:    0.4s\n",
      "[Parallel(n_jobs=-1)]: Done 2442 tasks      | elapsed:    0.5s\n",
      "[Parallel(n_jobs=-1)]: Done 3192 tasks      | elapsed:    0.7s\n",
      "[Parallel(n_jobs=-1)]: Done 4042 tasks      | elapsed:    0.9s\n",
      "[Parallel(n_jobs=-1)]: Done 4992 tasks      | elapsed:    1.1s\n",
      "[Parallel(n_jobs=-1)]: Done 6042 tasks      | elapsed:    1.4s\n",
      "[Parallel(n_jobs=-1)]: Done 7192 tasks      | elapsed:    1.6s\n",
      "[Parallel(n_jobs=-1)]: Done 8442 tasks      | elapsed:    1.9s\n",
      "[Parallel(n_jobs=-1)]: Done 9792 tasks      | elapsed:    2.2s\n",
      "[Parallel(n_jobs=-1)]: Done 11242 tasks      | elapsed:    2.5s\n",
      "[Parallel(n_jobs=-1)]: Done 12792 tasks      | elapsed:    2.9s\n",
      "[Parallel(n_jobs=-1)]: Done 14442 tasks      | elapsed:    3.2s\n",
      "[Parallel(n_jobs=-1)]: Done 16192 tasks      | elapsed:    3.7s\n",
      "[Parallel(n_jobs=-1)]: Done 18042 tasks      | elapsed:    4.0s\n",
      "[Parallel(n_jobs=-1)]: Done 19992 tasks      | elapsed:    4.5s\n",
      "[Parallel(n_jobs=-1)]: Done 20000 out of 20000 | elapsed:    4.5s finished\n"
     ]
    },
    {
     "name": "stdout",
     "output_type": "stream",
     "text": [
      "80.135 --> "
     ]
    },
    {
     "name": "stderr",
     "output_type": "stream",
     "text": [
      "[Parallel(n_jobs=-1)]: Using backend ThreadingBackend with 4 concurrent workers.\n",
      "[Parallel(n_jobs=-1)]: Done  42 tasks      | elapsed:    0.0s\n",
      "[Parallel(n_jobs=-1)]: Done 192 tasks      | elapsed:    0.0s\n",
      "[Parallel(n_jobs=-1)]: Done 442 tasks      | elapsed:    0.0s\n",
      "[Parallel(n_jobs=-1)]: Done 792 tasks      | elapsed:    0.1s\n",
      "[Parallel(n_jobs=-1)]: Done 1242 tasks      | elapsed:    0.2s\n",
      "[Parallel(n_jobs=-1)]: Done 1792 tasks      | elapsed:    0.3s\n",
      "[Parallel(n_jobs=-1)]: Done 2442 tasks      | elapsed:    0.4s\n",
      "[Parallel(n_jobs=-1)]: Done 3192 tasks      | elapsed:    0.6s\n",
      "[Parallel(n_jobs=-1)]: Done 4042 tasks      | elapsed:    0.8s\n",
      "[Parallel(n_jobs=-1)]: Done 4992 tasks      | elapsed:    0.9s\n",
      "[Parallel(n_jobs=-1)]: Done 6042 tasks      | elapsed:    1.2s\n",
      "[Parallel(n_jobs=-1)]: Done 7192 tasks      | elapsed:    1.4s\n",
      "[Parallel(n_jobs=-1)]: Done 8442 tasks      | elapsed:    1.7s\n",
      "[Parallel(n_jobs=-1)]: Done 9792 tasks      | elapsed:    1.9s\n",
      "[Parallel(n_jobs=-1)]: Done 11242 tasks      | elapsed:    2.2s\n",
      "[Parallel(n_jobs=-1)]: Done 12792 tasks      | elapsed:    2.6s\n",
      "[Parallel(n_jobs=-1)]: Done 14442 tasks      | elapsed:    2.9s\n",
      "[Parallel(n_jobs=-1)]: Done 16192 tasks      | elapsed:    3.2s\n",
      "[Parallel(n_jobs=-1)]: Done 18042 tasks      | elapsed:    3.6s\n",
      "[Parallel(n_jobs=-1)]: Done 19992 tasks      | elapsed:    4.0s\n",
      "[Parallel(n_jobs=-1)]: Done 20000 out of 20000 | elapsed:    4.0s finished\n"
     ]
    },
    {
     "name": "stdout",
     "output_type": "stream",
     "text": [
      "51.051 --> "
     ]
    },
    {
     "name": "stderr",
     "output_type": "stream",
     "text": [
      "[Parallel(n_jobs=-1)]: Using backend ThreadingBackend with 4 concurrent workers.\n",
      "[Parallel(n_jobs=-1)]: Done  42 tasks      | elapsed:    0.0s\n",
      "[Parallel(n_jobs=-1)]: Done 192 tasks      | elapsed:    0.0s\n",
      "[Parallel(n_jobs=-1)]: Done 442 tasks      | elapsed:    0.0s\n",
      "[Parallel(n_jobs=-1)]: Done 792 tasks      | elapsed:    0.0s\n",
      "[Parallel(n_jobs=-1)]: Done 1242 tasks      | elapsed:    0.1s\n",
      "[Parallel(n_jobs=-1)]: Done 1792 tasks      | elapsed:    0.2s\n",
      "[Parallel(n_jobs=-1)]: Done 2442 tasks      | elapsed:    0.3s\n",
      "[Parallel(n_jobs=-1)]: Done 3192 tasks      | elapsed:    0.5s\n",
      "[Parallel(n_jobs=-1)]: Done 4042 tasks      | elapsed:    0.7s\n",
      "[Parallel(n_jobs=-1)]: Done 4992 tasks      | elapsed:    0.8s\n",
      "[Parallel(n_jobs=-1)]: Done 6042 tasks      | elapsed:    1.0s\n",
      "[Parallel(n_jobs=-1)]: Done 7192 tasks      | elapsed:    1.2s\n",
      "[Parallel(n_jobs=-1)]: Done 8442 tasks      | elapsed:    1.5s\n",
      "[Parallel(n_jobs=-1)]: Done 9792 tasks      | elapsed:    1.7s\n",
      "[Parallel(n_jobs=-1)]: Done 11242 tasks      | elapsed:    2.0s\n",
      "[Parallel(n_jobs=-1)]: Done 12792 tasks      | elapsed:    2.4s\n",
      "[Parallel(n_jobs=-1)]: Done 14442 tasks      | elapsed:    2.8s\n",
      "[Parallel(n_jobs=-1)]: Done 16192 tasks      | elapsed:    3.1s\n",
      "[Parallel(n_jobs=-1)]: Done 18042 tasks      | elapsed:    3.4s\n",
      "[Parallel(n_jobs=-1)]: Done 19992 tasks      | elapsed:    3.8s\n",
      "[Parallel(n_jobs=-1)]: Done 20000 out of 20000 | elapsed:    3.8s finished\n"
     ]
    },
    {
     "name": "stdout",
     "output_type": "stream",
     "text": [
      "49.756 --> "
     ]
    },
    {
     "name": "stderr",
     "output_type": "stream",
     "text": [
      "[Parallel(n_jobs=-1)]: Using backend ThreadingBackend with 4 concurrent workers.\n",
      "[Parallel(n_jobs=-1)]: Done  42 tasks      | elapsed:    0.0s\n",
      "[Parallel(n_jobs=-1)]: Done 192 tasks      | elapsed:    0.0s\n",
      "[Parallel(n_jobs=-1)]: Done 442 tasks      | elapsed:    0.1s\n",
      "[Parallel(n_jobs=-1)]: Done 792 tasks      | elapsed:    0.3s\n",
      "[Parallel(n_jobs=-1)]: Done 1242 tasks      | elapsed:    0.5s\n",
      "[Parallel(n_jobs=-1)]: Done 1792 tasks      | elapsed:    0.7s\n",
      "[Parallel(n_jobs=-1)]: Done 2442 tasks      | elapsed:    0.9s\n",
      "[Parallel(n_jobs=-1)]: Done 3192 tasks      | elapsed:    1.2s\n",
      "[Parallel(n_jobs=-1)]: Done 4042 tasks      | elapsed:    1.6s\n",
      "[Parallel(n_jobs=-1)]: Done 4992 tasks      | elapsed:    1.9s\n",
      "[Parallel(n_jobs=-1)]: Done 6042 tasks      | elapsed:    2.3s\n",
      "[Parallel(n_jobs=-1)]: Done 7192 tasks      | elapsed:    2.7s\n",
      "[Parallel(n_jobs=-1)]: Done 8442 tasks      | elapsed:    3.1s\n",
      "[Parallel(n_jobs=-1)]: Done 9792 tasks      | elapsed:    3.7s\n",
      "[Parallel(n_jobs=-1)]: Done 11242 tasks      | elapsed:    4.2s\n",
      "[Parallel(n_jobs=-1)]: Done 12792 tasks      | elapsed:    4.8s\n",
      "[Parallel(n_jobs=-1)]: Done 14442 tasks      | elapsed:    5.4s\n",
      "[Parallel(n_jobs=-1)]: Done 16192 tasks      | elapsed:    6.1s\n",
      "[Parallel(n_jobs=-1)]: Done 18042 tasks      | elapsed:    6.7s\n",
      "[Parallel(n_jobs=-1)]: Done 19992 tasks      | elapsed:    7.5s\n",
      "[Parallel(n_jobs=-1)]: Done 20000 out of 20000 | elapsed:    7.5s finished\n"
     ]
    },
    {
     "name": "stdout",
     "output_type": "stream",
     "text": [
      "48.990 --> "
     ]
    },
    {
     "name": "stderr",
     "output_type": "stream",
     "text": [
      "[Parallel(n_jobs=-1)]: Using backend ThreadingBackend with 4 concurrent workers.\n",
      "[Parallel(n_jobs=-1)]: Done  42 tasks      | elapsed:    0.0s\n",
      "[Parallel(n_jobs=-1)]: Done 192 tasks      | elapsed:    0.0s\n",
      "[Parallel(n_jobs=-1)]: Done 442 tasks      | elapsed:    0.1s\n",
      "[Parallel(n_jobs=-1)]: Done 792 tasks      | elapsed:    0.2s\n",
      "[Parallel(n_jobs=-1)]: Done 1242 tasks      | elapsed:    0.4s\n",
      "[Parallel(n_jobs=-1)]: Done 1792 tasks      | elapsed:    0.6s\n",
      "[Parallel(n_jobs=-1)]: Done 2442 tasks      | elapsed:    0.9s\n",
      "[Parallel(n_jobs=-1)]: Done 3192 tasks      | elapsed:    1.1s\n",
      "[Parallel(n_jobs=-1)]: Done 4042 tasks      | elapsed:    1.5s\n",
      "[Parallel(n_jobs=-1)]: Done 4992 tasks      | elapsed:    1.8s\n",
      "[Parallel(n_jobs=-1)]: Done 6042 tasks      | elapsed:    2.2s\n",
      "[Parallel(n_jobs=-1)]: Done 7192 tasks      | elapsed:    2.7s\n",
      "[Parallel(n_jobs=-1)]: Done 8442 tasks      | elapsed:    3.2s\n",
      "[Parallel(n_jobs=-1)]: Done 9792 tasks      | elapsed:    3.7s\n",
      "[Parallel(n_jobs=-1)]: Done 11242 tasks      | elapsed:    4.2s\n",
      "[Parallel(n_jobs=-1)]: Done 12792 tasks      | elapsed:    4.8s\n",
      "[Parallel(n_jobs=-1)]: Done 14442 tasks      | elapsed:    5.4s\n",
      "[Parallel(n_jobs=-1)]: Done 16192 tasks      | elapsed:    6.1s\n",
      "[Parallel(n_jobs=-1)]: Done 18042 tasks      | elapsed:    6.8s\n",
      "[Parallel(n_jobs=-1)]: Done 19992 tasks      | elapsed:    7.6s\n",
      "[Parallel(n_jobs=-1)]: Done 20000 out of 20000 | elapsed:    7.6s finished\n"
     ]
    },
    {
     "name": "stdout",
     "output_type": "stream",
     "text": [
      "48.594 --> "
     ]
    },
    {
     "name": "stderr",
     "output_type": "stream",
     "text": [
      "[Parallel(n_jobs=-1)]: Using backend ThreadingBackend with 4 concurrent workers.\n",
      "[Parallel(n_jobs=-1)]: Done  42 tasks      | elapsed:    0.0s\n",
      "[Parallel(n_jobs=-1)]: Done 192 tasks      | elapsed:    0.0s\n",
      "[Parallel(n_jobs=-1)]: Done 442 tasks      | elapsed:    0.1s\n",
      "[Parallel(n_jobs=-1)]: Done 792 tasks      | elapsed:    0.2s\n",
      "[Parallel(n_jobs=-1)]: Done 1242 tasks      | elapsed:    0.4s\n",
      "[Parallel(n_jobs=-1)]: Done 1792 tasks      | elapsed:    0.7s\n",
      "[Parallel(n_jobs=-1)]: Done 2442 tasks      | elapsed:    0.9s\n",
      "[Parallel(n_jobs=-1)]: Done 3192 tasks      | elapsed:    1.2s\n",
      "[Parallel(n_jobs=-1)]: Done 4042 tasks      | elapsed:    1.5s\n",
      "[Parallel(n_jobs=-1)]: Done 4992 tasks      | elapsed:    1.9s\n",
      "[Parallel(n_jobs=-1)]: Done 6042 tasks      | elapsed:    2.3s\n",
      "[Parallel(n_jobs=-1)]: Done 7192 tasks      | elapsed:    2.7s\n",
      "[Parallel(n_jobs=-1)]: Done 8442 tasks      | elapsed:    3.2s\n",
      "[Parallel(n_jobs=-1)]: Done 9792 tasks      | elapsed:    3.7s\n",
      "[Parallel(n_jobs=-1)]: Done 11242 tasks      | elapsed:    4.2s\n",
      "[Parallel(n_jobs=-1)]: Done 12792 tasks      | elapsed:    4.8s\n",
      "[Parallel(n_jobs=-1)]: Done 14442 tasks      | elapsed:    5.4s\n",
      "[Parallel(n_jobs=-1)]: Done 16192 tasks      | elapsed:    6.1s\n",
      "[Parallel(n_jobs=-1)]: Done 18042 tasks      | elapsed:    6.8s\n",
      "[Parallel(n_jobs=-1)]: Done 19992 tasks      | elapsed:    7.5s\n",
      "[Parallel(n_jobs=-1)]: Done 20000 out of 20000 | elapsed:    7.5s finished\n"
     ]
    },
    {
     "name": "stdout",
     "output_type": "stream",
     "text": [
      "48.311 --> "
     ]
    },
    {
     "name": "stderr",
     "output_type": "stream",
     "text": [
      "[Parallel(n_jobs=-1)]: Using backend ThreadingBackend with 4 concurrent workers.\n",
      "[Parallel(n_jobs=-1)]: Done  42 tasks      | elapsed:    0.0s\n",
      "[Parallel(n_jobs=-1)]: Done 192 tasks      | elapsed:    0.1s\n",
      "[Parallel(n_jobs=-1)]: Done 442 tasks      | elapsed:    0.2s\n",
      "[Parallel(n_jobs=-1)]: Done 792 tasks      | elapsed:    0.4s\n",
      "[Parallel(n_jobs=-1)]: Done 1242 tasks      | elapsed:    0.7s\n",
      "[Parallel(n_jobs=-1)]: Done 1792 tasks      | elapsed:    0.9s\n",
      "[Parallel(n_jobs=-1)]: Done 2442 tasks      | elapsed:    1.2s\n",
      "[Parallel(n_jobs=-1)]: Done 3192 tasks      | elapsed:    1.6s\n",
      "[Parallel(n_jobs=-1)]: Done 4042 tasks      | elapsed:    1.9s\n",
      "[Parallel(n_jobs=-1)]: Done 4992 tasks      | elapsed:    2.3s\n",
      "[Parallel(n_jobs=-1)]: Done 6042 tasks      | elapsed:    2.7s\n",
      "[Parallel(n_jobs=-1)]: Done 7192 tasks      | elapsed:    3.1s\n",
      "[Parallel(n_jobs=-1)]: Done 8442 tasks      | elapsed:    3.6s\n",
      "[Parallel(n_jobs=-1)]: Done 9792 tasks      | elapsed:    4.1s\n",
      "[Parallel(n_jobs=-1)]: Done 11242 tasks      | elapsed:    4.6s\n",
      "[Parallel(n_jobs=-1)]: Done 12792 tasks      | elapsed:    5.2s\n",
      "[Parallel(n_jobs=-1)]: Done 14442 tasks      | elapsed:    5.9s\n",
      "[Parallel(n_jobs=-1)]: Done 16192 tasks      | elapsed:    6.5s\n",
      "[Parallel(n_jobs=-1)]: Done 18042 tasks      | elapsed:    7.3s\n",
      "[Parallel(n_jobs=-1)]: Done 19992 tasks      | elapsed:    8.0s\n",
      "[Parallel(n_jobs=-1)]: Done 20000 out of 20000 | elapsed:    8.0s finished\n"
     ]
    },
    {
     "name": "stdout",
     "output_type": "stream",
     "text": [
      "48.264 --> "
     ]
    },
    {
     "name": "stderr",
     "output_type": "stream",
     "text": [
      "[Parallel(n_jobs=-1)]: Using backend ThreadingBackend with 4 concurrent workers.\n",
      "[Parallel(n_jobs=-1)]: Done  42 tasks      | elapsed:    0.0s\n",
      "[Parallel(n_jobs=-1)]: Done 192 tasks      | elapsed:    0.0s\n",
      "[Parallel(n_jobs=-1)]: Done 442 tasks      | elapsed:    0.1s\n",
      "[Parallel(n_jobs=-1)]: Done 792 tasks      | elapsed:    0.3s\n",
      "[Parallel(n_jobs=-1)]: Done 1242 tasks      | elapsed:    0.5s\n",
      "[Parallel(n_jobs=-1)]: Done 1792 tasks      | elapsed:    0.8s\n",
      "[Parallel(n_jobs=-1)]: Done 2442 tasks      | elapsed:    1.0s\n",
      "[Parallel(n_jobs=-1)]: Done 3192 tasks      | elapsed:    1.3s\n",
      "[Parallel(n_jobs=-1)]: Done 4042 tasks      | elapsed:    1.7s\n",
      "[Parallel(n_jobs=-1)]: Done 4992 tasks      | elapsed:    2.1s\n",
      "[Parallel(n_jobs=-1)]: Done 6042 tasks      | elapsed:    2.5s\n",
      "[Parallel(n_jobs=-1)]: Done 7192 tasks      | elapsed:    3.1s\n",
      "[Parallel(n_jobs=-1)]: Done 8442 tasks      | elapsed:    3.6s\n",
      "[Parallel(n_jobs=-1)]: Done 9792 tasks      | elapsed:    4.2s\n",
      "[Parallel(n_jobs=-1)]: Done 11242 tasks      | elapsed:    4.8s\n",
      "[Parallel(n_jobs=-1)]: Done 12792 tasks      | elapsed:    5.4s\n",
      "[Parallel(n_jobs=-1)]: Done 14442 tasks      | elapsed:    6.1s\n",
      "[Parallel(n_jobs=-1)]: Done 16192 tasks      | elapsed:    6.8s\n",
      "[Parallel(n_jobs=-1)]: Done 18042 tasks      | elapsed:    7.6s\n",
      "[Parallel(n_jobs=-1)]: Done 19992 tasks      | elapsed:    8.5s\n",
      "[Parallel(n_jobs=-1)]: Done 20000 out of 20000 | elapsed:    8.5s finished\n"
     ]
    },
    {
     "name": "stdout",
     "output_type": "stream",
     "text": [
      "48.232 --> "
     ]
    },
    {
     "name": "stderr",
     "output_type": "stream",
     "text": [
      "[Parallel(n_jobs=-1)]: Using backend ThreadingBackend with 4 concurrent workers.\n",
      "[Parallel(n_jobs=-1)]: Done  42 tasks      | elapsed:    0.0s\n",
      "[Parallel(n_jobs=-1)]: Done 192 tasks      | elapsed:    0.0s\n",
      "[Parallel(n_jobs=-1)]: Done 442 tasks      | elapsed:    0.1s\n",
      "[Parallel(n_jobs=-1)]: Done 792 tasks      | elapsed:    0.1s\n",
      "[Parallel(n_jobs=-1)]: Done 1242 tasks      | elapsed:    0.3s\n",
      "[Parallel(n_jobs=-1)]: Done 1792 tasks      | elapsed:    0.5s\n",
      "[Parallel(n_jobs=-1)]: Done 2442 tasks      | elapsed:    0.7s\n",
      "[Parallel(n_jobs=-1)]: Done 3192 tasks      | elapsed:    1.0s\n",
      "[Parallel(n_jobs=-1)]: Done 4042 tasks      | elapsed:    1.3s\n",
      "[Parallel(n_jobs=-1)]: Done 4992 tasks      | elapsed:    1.6s\n",
      "[Parallel(n_jobs=-1)]: Done 6042 tasks      | elapsed:    2.0s\n",
      "[Parallel(n_jobs=-1)]: Done 7192 tasks      | elapsed:    2.4s\n",
      "[Parallel(n_jobs=-1)]: Done 8442 tasks      | elapsed:    3.0s\n",
      "[Parallel(n_jobs=-1)]: Done 9792 tasks      | elapsed:    3.6s\n",
      "[Parallel(n_jobs=-1)]: Done 11242 tasks      | elapsed:    4.2s\n",
      "[Parallel(n_jobs=-1)]: Done 12792 tasks      | elapsed:    4.8s\n",
      "[Parallel(n_jobs=-1)]: Done 14442 tasks      | elapsed:    5.4s\n",
      "[Parallel(n_jobs=-1)]: Done 16192 tasks      | elapsed:    6.1s\n",
      "[Parallel(n_jobs=-1)]: Done 18042 tasks      | elapsed:    6.9s\n",
      "[Parallel(n_jobs=-1)]: Done 19992 tasks      | elapsed:    7.8s\n",
      "[Parallel(n_jobs=-1)]: Done 20000 out of 20000 | elapsed:    7.8s finished\n"
     ]
    },
    {
     "name": "stdout",
     "output_type": "stream",
     "text": [
      "48.214 --> "
     ]
    },
    {
     "name": "stderr",
     "output_type": "stream",
     "text": [
      "[Parallel(n_jobs=-1)]: Using backend ThreadingBackend with 4 concurrent workers.\n",
      "[Parallel(n_jobs=-1)]: Done  42 tasks      | elapsed:    0.0s\n",
      "[Parallel(n_jobs=-1)]: Done 192 tasks      | elapsed:    0.0s\n",
      "[Parallel(n_jobs=-1)]: Done 442 tasks      | elapsed:    0.1s\n",
      "[Parallel(n_jobs=-1)]: Done 792 tasks      | elapsed:    0.3s\n",
      "[Parallel(n_jobs=-1)]: Done 1242 tasks      | elapsed:    0.5s\n",
      "[Parallel(n_jobs=-1)]: Done 1792 tasks      | elapsed:    0.7s\n",
      "[Parallel(n_jobs=-1)]: Done 2442 tasks      | elapsed:    0.9s\n",
      "[Parallel(n_jobs=-1)]: Done 3192 tasks      | elapsed:    1.2s\n",
      "[Parallel(n_jobs=-1)]: Done 4042 tasks      | elapsed:    1.6s\n",
      "[Parallel(n_jobs=-1)]: Done 4992 tasks      | elapsed:    1.9s\n",
      "[Parallel(n_jobs=-1)]: Done 6042 tasks      | elapsed:    2.3s\n",
      "[Parallel(n_jobs=-1)]: Done 7192 tasks      | elapsed:    2.8s\n",
      "[Parallel(n_jobs=-1)]: Done 8442 tasks      | elapsed:    3.3s\n",
      "[Parallel(n_jobs=-1)]: Done 9792 tasks      | elapsed:    3.8s\n",
      "[Parallel(n_jobs=-1)]: Done 11242 tasks      | elapsed:    4.3s\n",
      "[Parallel(n_jobs=-1)]: Done 12792 tasks      | elapsed:    5.0s\n",
      "[Parallel(n_jobs=-1)]: Done 14442 tasks      | elapsed:    5.6s\n",
      "[Parallel(n_jobs=-1)]: Done 16192 tasks      | elapsed:    6.2s\n",
      "[Parallel(n_jobs=-1)]: Done 18042 tasks      | elapsed:    7.0s\n",
      "[Parallel(n_jobs=-1)]: Done 19992 tasks      | elapsed:    7.7s\n",
      "[Parallel(n_jobs=-1)]: Done 20000 out of 20000 | elapsed:    7.7s finished\n"
     ]
    },
    {
     "name": "stdout",
     "output_type": "stream",
     "text": [
      "48.208 --> "
     ]
    },
    {
     "name": "stderr",
     "output_type": "stream",
     "text": [
      "[Parallel(n_jobs=-1)]: Using backend ThreadingBackend with 4 concurrent workers.\n",
      "[Parallel(n_jobs=-1)]: Done  42 tasks      | elapsed:    0.0s\n",
      "[Parallel(n_jobs=-1)]: Done 192 tasks      | elapsed:    0.0s\n",
      "[Parallel(n_jobs=-1)]: Done 442 tasks      | elapsed:    0.2s\n",
      "[Parallel(n_jobs=-1)]: Done 792 tasks      | elapsed:    0.4s\n",
      "[Parallel(n_jobs=-1)]: Done 1242 tasks      | elapsed:    0.6s\n",
      "[Parallel(n_jobs=-1)]: Done 1792 tasks      | elapsed:    0.8s\n",
      "[Parallel(n_jobs=-1)]: Done 2442 tasks      | elapsed:    1.1s\n",
      "[Parallel(n_jobs=-1)]: Done 3192 tasks      | elapsed:    1.4s\n",
      "[Parallel(n_jobs=-1)]: Done 4042 tasks      | elapsed:    1.8s\n",
      "[Parallel(n_jobs=-1)]: Done 4992 tasks      | elapsed:    2.2s\n",
      "[Parallel(n_jobs=-1)]: Done 6042 tasks      | elapsed:    2.6s\n",
      "[Parallel(n_jobs=-1)]: Done 7192 tasks      | elapsed:    3.0s\n",
      "[Parallel(n_jobs=-1)]: Done 8442 tasks      | elapsed:    3.5s\n",
      "[Parallel(n_jobs=-1)]: Done 9792 tasks      | elapsed:    4.0s\n",
      "[Parallel(n_jobs=-1)]: Done 11242 tasks      | elapsed:    4.6s\n",
      "[Parallel(n_jobs=-1)]: Done 12792 tasks      | elapsed:    5.1s\n",
      "[Parallel(n_jobs=-1)]: Done 14442 tasks      | elapsed:    5.8s\n",
      "[Parallel(n_jobs=-1)]: Done 16192 tasks      | elapsed:    6.4s\n",
      "[Parallel(n_jobs=-1)]: Done 18042 tasks      | elapsed:    7.1s\n",
      "[Parallel(n_jobs=-1)]: Done 19992 tasks      | elapsed:    7.9s\n",
      "[Parallel(n_jobs=-1)]: Done 20000 out of 20000 | elapsed:    7.9s finished\n"
     ]
    },
    {
     "name": "stdout",
     "output_type": "stream",
     "text": [
      "48.204 --> "
     ]
    },
    {
     "name": "stderr",
     "output_type": "stream",
     "text": [
      "[Parallel(n_jobs=-1)]: Using backend ThreadingBackend with 4 concurrent workers.\n",
      "[Parallel(n_jobs=-1)]: Done  42 tasks      | elapsed:    0.0s\n",
      "[Parallel(n_jobs=-1)]: Done 192 tasks      | elapsed:    0.0s\n",
      "[Parallel(n_jobs=-1)]: Done 442 tasks      | elapsed:    0.1s\n",
      "[Parallel(n_jobs=-1)]: Done 792 tasks      | elapsed:    0.3s\n",
      "[Parallel(n_jobs=-1)]: Done 1242 tasks      | elapsed:    0.5s\n",
      "[Parallel(n_jobs=-1)]: Done 1792 tasks      | elapsed:    0.7s\n",
      "[Parallel(n_jobs=-1)]: Done 2442 tasks      | elapsed:    1.0s\n",
      "[Parallel(n_jobs=-1)]: Done 3192 tasks      | elapsed:    1.3s\n",
      "[Parallel(n_jobs=-1)]: Done 4042 tasks      | elapsed:    1.7s\n",
      "[Parallel(n_jobs=-1)]: Done 4992 tasks      | elapsed:    2.0s\n",
      "[Parallel(n_jobs=-1)]: Done 6042 tasks      | elapsed:    2.5s\n",
      "[Parallel(n_jobs=-1)]: Done 7192 tasks      | elapsed:    2.9s\n",
      "[Parallel(n_jobs=-1)]: Done 8442 tasks      | elapsed:    3.4s\n",
      "[Parallel(n_jobs=-1)]: Done 9792 tasks      | elapsed:    3.9s\n",
      "[Parallel(n_jobs=-1)]: Done 11242 tasks      | elapsed:    4.4s\n",
      "[Parallel(n_jobs=-1)]: Done 12792 tasks      | elapsed:    5.0s\n",
      "[Parallel(n_jobs=-1)]: Done 14442 tasks      | elapsed:    5.6s\n",
      "[Parallel(n_jobs=-1)]: Done 16192 tasks      | elapsed:    6.3s\n",
      "[Parallel(n_jobs=-1)]: Done 18042 tasks      | elapsed:    7.0s\n",
      "[Parallel(n_jobs=-1)]: Done 19992 tasks      | elapsed:    7.7s\n",
      "[Parallel(n_jobs=-1)]: Done 20000 out of 20000 | elapsed:    7.7s finished\n"
     ]
    },
    {
     "name": "stdout",
     "output_type": "stream",
     "text": [
      "48.202 --> "
     ]
    },
    {
     "name": "stderr",
     "output_type": "stream",
     "text": [
      "[Parallel(n_jobs=-1)]: Using backend ThreadingBackend with 4 concurrent workers.\n",
      "[Parallel(n_jobs=-1)]: Done  42 tasks      | elapsed:    0.0s\n",
      "[Parallel(n_jobs=-1)]: Done 192 tasks      | elapsed:    0.0s\n",
      "[Parallel(n_jobs=-1)]: Done 442 tasks      | elapsed:    0.1s\n",
      "[Parallel(n_jobs=-1)]: Done 792 tasks      | elapsed:    0.2s\n",
      "[Parallel(n_jobs=-1)]: Done 1242 tasks      | elapsed:    0.4s\n",
      "[Parallel(n_jobs=-1)]: Done 1792 tasks      | elapsed:    0.7s\n",
      "[Parallel(n_jobs=-1)]: Done 2442 tasks      | elapsed:    0.9s\n",
      "[Parallel(n_jobs=-1)]: Done 3192 tasks      | elapsed:    1.2s\n",
      "[Parallel(n_jobs=-1)]: Done 4042 tasks      | elapsed:    1.5s\n",
      "[Parallel(n_jobs=-1)]: Done 4992 tasks      | elapsed:    1.9s\n",
      "[Parallel(n_jobs=-1)]: Done 6042 tasks      | elapsed:    2.3s\n",
      "[Parallel(n_jobs=-1)]: Done 7192 tasks      | elapsed:    2.8s\n",
      "[Parallel(n_jobs=-1)]: Done 8442 tasks      | elapsed:    3.3s\n",
      "[Parallel(n_jobs=-1)]: Done 9792 tasks      | elapsed:    3.8s\n",
      "[Parallel(n_jobs=-1)]: Done 11242 tasks      | elapsed:    4.3s\n",
      "[Parallel(n_jobs=-1)]: Done 12792 tasks      | elapsed:    5.0s\n",
      "[Parallel(n_jobs=-1)]: Done 14442 tasks      | elapsed:    5.6s\n",
      "[Parallel(n_jobs=-1)]: Done 16192 tasks      | elapsed:    6.3s\n",
      "[Parallel(n_jobs=-1)]: Done 18042 tasks      | elapsed:    7.1s\n",
      "[Parallel(n_jobs=-1)]: Done 19992 tasks      | elapsed:    7.8s\n",
      "[Parallel(n_jobs=-1)]: Done 20000 out of 20000 | elapsed:    7.8s finished\n"
     ]
    },
    {
     "name": "stdout",
     "output_type": "stream",
     "text": [
      "48.201 --> "
     ]
    },
    {
     "name": "stderr",
     "output_type": "stream",
     "text": [
      "[Parallel(n_jobs=-1)]: Using backend ThreadingBackend with 4 concurrent workers.\n",
      "[Parallel(n_jobs=-1)]: Done  42 tasks      | elapsed:    0.0s\n",
      "[Parallel(n_jobs=-1)]: Done 192 tasks      | elapsed:    0.0s\n",
      "[Parallel(n_jobs=-1)]: Done 442 tasks      | elapsed:    0.1s\n",
      "[Parallel(n_jobs=-1)]: Done 792 tasks      | elapsed:    0.3s\n",
      "[Parallel(n_jobs=-1)]: Done 1242 tasks      | elapsed:    0.5s\n",
      "[Parallel(n_jobs=-1)]: Done 1792 tasks      | elapsed:    0.7s\n",
      "[Parallel(n_jobs=-1)]: Done 2442 tasks      | elapsed:    0.9s\n",
      "[Parallel(n_jobs=-1)]: Done 3192 tasks      | elapsed:    1.3s\n",
      "[Parallel(n_jobs=-1)]: Done 4042 tasks      | elapsed:    1.6s\n",
      "[Parallel(n_jobs=-1)]: Done 4992 tasks      | elapsed:    2.0s\n",
      "[Parallel(n_jobs=-1)]: Done 6042 tasks      | elapsed:    2.4s\n",
      "[Parallel(n_jobs=-1)]: Done 7192 tasks      | elapsed:    2.8s\n",
      "[Parallel(n_jobs=-1)]: Done 8442 tasks      | elapsed:    3.3s\n",
      "[Parallel(n_jobs=-1)]: Done 9792 tasks      | elapsed:    3.9s\n",
      "[Parallel(n_jobs=-1)]: Done 11242 tasks      | elapsed:    4.4s\n",
      "[Parallel(n_jobs=-1)]: Done 12792 tasks      | elapsed:    5.0s\n",
      "[Parallel(n_jobs=-1)]: Done 14442 tasks      | elapsed:    5.7s\n",
      "[Parallel(n_jobs=-1)]: Done 16192 tasks      | elapsed:    6.3s\n",
      "[Parallel(n_jobs=-1)]: Done 18042 tasks      | elapsed:    7.1s\n",
      "[Parallel(n_jobs=-1)]: Done 19992 tasks      | elapsed:    7.8s\n",
      "[Parallel(n_jobs=-1)]: Done 20000 out of 20000 | elapsed:    7.8s finished\n"
     ]
    },
    {
     "name": "stdout",
     "output_type": "stream",
     "text": [
      "48.200 --> "
     ]
    },
    {
     "name": "stderr",
     "output_type": "stream",
     "text": [
      "[Parallel(n_jobs=-1)]: Using backend ThreadingBackend with 4 concurrent workers.\n",
      "[Parallel(n_jobs=-1)]: Done  42 tasks      | elapsed:    0.0s\n",
      "[Parallel(n_jobs=-1)]: Done 192 tasks      | elapsed:    0.0s\n",
      "[Parallel(n_jobs=-1)]: Done 442 tasks      | elapsed:    0.2s\n",
      "[Parallel(n_jobs=-1)]: Done 792 tasks      | elapsed:    0.3s\n",
      "[Parallel(n_jobs=-1)]: Done 1242 tasks      | elapsed:    0.5s\n",
      "[Parallel(n_jobs=-1)]: Done 1792 tasks      | elapsed:    0.7s\n",
      "[Parallel(n_jobs=-1)]: Done 2442 tasks      | elapsed:    1.0s\n",
      "[Parallel(n_jobs=-1)]: Done 3192 tasks      | elapsed:    1.3s\n",
      "[Parallel(n_jobs=-1)]: Done 4042 tasks      | elapsed:    1.6s\n",
      "[Parallel(n_jobs=-1)]: Done 4992 tasks      | elapsed:    1.9s\n",
      "[Parallel(n_jobs=-1)]: Done 6042 tasks      | elapsed:    2.4s\n",
      "[Parallel(n_jobs=-1)]: Done 7192 tasks      | elapsed:    2.8s\n",
      "[Parallel(n_jobs=-1)]: Done 8442 tasks      | elapsed:    3.3s\n",
      "[Parallel(n_jobs=-1)]: Done 9792 tasks      | elapsed:    3.7s\n",
      "[Parallel(n_jobs=-1)]: Done 11242 tasks      | elapsed:    4.3s\n",
      "[Parallel(n_jobs=-1)]: Done 12792 tasks      | elapsed:    4.9s\n",
      "[Parallel(n_jobs=-1)]: Done 14442 tasks      | elapsed:    5.6s\n",
      "[Parallel(n_jobs=-1)]: Done 16192 tasks      | elapsed:    6.2s\n",
      "[Parallel(n_jobs=-1)]: Done 18042 tasks      | elapsed:    6.9s\n",
      "[Parallel(n_jobs=-1)]: Done 19992 tasks      | elapsed:    7.7s\n",
      "[Parallel(n_jobs=-1)]: Done 20000 out of 20000 | elapsed:    7.7s finished\n"
     ]
    },
    {
     "name": "stdout",
     "output_type": "stream",
     "text": [
      "48.200 --> "
     ]
    },
    {
     "name": "stderr",
     "output_type": "stream",
     "text": [
      "[Parallel(n_jobs=-1)]: Using backend ThreadingBackend with 4 concurrent workers.\n",
      "[Parallel(n_jobs=-1)]: Done  42 tasks      | elapsed:    0.0s\n",
      "[Parallel(n_jobs=-1)]: Done 192 tasks      | elapsed:    0.0s\n",
      "[Parallel(n_jobs=-1)]: Done 442 tasks      | elapsed:    0.2s\n",
      "[Parallel(n_jobs=-1)]: Done 792 tasks      | elapsed:    0.4s\n",
      "[Parallel(n_jobs=-1)]: Done 1242 tasks      | elapsed:    0.6s\n",
      "[Parallel(n_jobs=-1)]: Done 1792 tasks      | elapsed:    0.7s\n",
      "[Parallel(n_jobs=-1)]: Done 2442 tasks      | elapsed:    1.0s\n",
      "[Parallel(n_jobs=-1)]: Done 3192 tasks      | elapsed:    1.3s\n",
      "[Parallel(n_jobs=-1)]: Done 4042 tasks      | elapsed:    1.6s\n",
      "[Parallel(n_jobs=-1)]: Done 4992 tasks      | elapsed:    2.0s\n",
      "[Parallel(n_jobs=-1)]: Done 6042 tasks      | elapsed:    2.4s\n",
      "[Parallel(n_jobs=-1)]: Done 7192 tasks      | elapsed:    2.8s\n",
      "[Parallel(n_jobs=-1)]: Done 8442 tasks      | elapsed:    3.3s\n",
      "[Parallel(n_jobs=-1)]: Done 9792 tasks      | elapsed:    3.8s\n",
      "[Parallel(n_jobs=-1)]: Done 11242 tasks      | elapsed:    4.4s\n",
      "[Parallel(n_jobs=-1)]: Done 12792 tasks      | elapsed:    4.9s\n",
      "[Parallel(n_jobs=-1)]: Done 14442 tasks      | elapsed:    5.5s\n",
      "[Parallel(n_jobs=-1)]: Done 16192 tasks      | elapsed:    6.2s\n",
      "[Parallel(n_jobs=-1)]: Done 18042 tasks      | elapsed:    6.9s\n",
      "[Parallel(n_jobs=-1)]: Done 19992 tasks      | elapsed:    7.6s\n",
      "[Parallel(n_jobs=-1)]: Done 20000 out of 20000 | elapsed:    7.6s finished\n"
     ]
    },
    {
     "name": "stdout",
     "output_type": "stream",
     "text": [
      "48.200 --> "
     ]
    },
    {
     "name": "stderr",
     "output_type": "stream",
     "text": [
      "[Parallel(n_jobs=-1)]: Using backend ThreadingBackend with 4 concurrent workers.\n",
      "[Parallel(n_jobs=-1)]: Done  42 tasks      | elapsed:    0.0s\n",
      "[Parallel(n_jobs=-1)]: Done 192 tasks      | elapsed:    0.0s\n",
      "[Parallel(n_jobs=-1)]: Done 442 tasks      | elapsed:    0.2s\n",
      "[Parallel(n_jobs=-1)]: Done 792 tasks      | elapsed:    0.4s\n",
      "[Parallel(n_jobs=-1)]: Done 1242 tasks      | elapsed:    0.6s\n",
      "[Parallel(n_jobs=-1)]: Done 1792 tasks      | elapsed:    0.8s\n",
      "[Parallel(n_jobs=-1)]: Done 2442 tasks      | elapsed:    1.1s\n",
      "[Parallel(n_jobs=-1)]: Done 3192 tasks      | elapsed:    1.4s\n",
      "[Parallel(n_jobs=-1)]: Done 4042 tasks      | elapsed:    1.8s\n",
      "[Parallel(n_jobs=-1)]: Done 4992 tasks      | elapsed:    2.2s\n",
      "[Parallel(n_jobs=-1)]: Done 6042 tasks      | elapsed:    2.6s\n",
      "[Parallel(n_jobs=-1)]: Done 7192 tasks      | elapsed:    3.1s\n",
      "[Parallel(n_jobs=-1)]: Done 8442 tasks      | elapsed:    3.6s\n",
      "[Parallel(n_jobs=-1)]: Done 9792 tasks      | elapsed:    4.1s\n",
      "[Parallel(n_jobs=-1)]: Done 11242 tasks      | elapsed:    4.7s\n",
      "[Parallel(n_jobs=-1)]: Done 12792 tasks      | elapsed:    5.2s\n",
      "[Parallel(n_jobs=-1)]: Done 14442 tasks      | elapsed:    5.8s\n",
      "[Parallel(n_jobs=-1)]: Done 16192 tasks      | elapsed:    6.5s\n",
      "[Parallel(n_jobs=-1)]: Done 18042 tasks      | elapsed:    7.4s\n",
      "[Parallel(n_jobs=-1)]: Done 19992 tasks      | elapsed:    8.1s\n",
      "[Parallel(n_jobs=-1)]: Done 20000 out of 20000 | elapsed:    8.1s finished\n"
     ]
    },
    {
     "name": "stdout",
     "output_type": "stream",
     "text": [
      "48.199 --> "
     ]
    },
    {
     "name": "stderr",
     "output_type": "stream",
     "text": [
      "[Parallel(n_jobs=-1)]: Using backend ThreadingBackend with 4 concurrent workers.\n",
      "[Parallel(n_jobs=-1)]: Done  42 tasks      | elapsed:    0.0s\n",
      "[Parallel(n_jobs=-1)]: Done 192 tasks      | elapsed:    0.0s\n",
      "[Parallel(n_jobs=-1)]: Done 442 tasks      | elapsed:    0.1s\n",
      "[Parallel(n_jobs=-1)]: Done 792 tasks      | elapsed:    0.3s\n",
      "[Parallel(n_jobs=-1)]: Done 1242 tasks      | elapsed:    0.4s\n",
      "[Parallel(n_jobs=-1)]: Done 1792 tasks      | elapsed:    0.6s\n",
      "[Parallel(n_jobs=-1)]: Done 2442 tasks      | elapsed:    0.8s\n",
      "[Parallel(n_jobs=-1)]: Done 3192 tasks      | elapsed:    1.1s\n",
      "[Parallel(n_jobs=-1)]: Done 4042 tasks      | elapsed:    1.5s\n",
      "[Parallel(n_jobs=-1)]: Done 4992 tasks      | elapsed:    1.8s\n",
      "[Parallel(n_jobs=-1)]: Done 6042 tasks      | elapsed:    2.2s\n",
      "[Parallel(n_jobs=-1)]: Done 7192 tasks      | elapsed:    2.6s\n",
      "[Parallel(n_jobs=-1)]: Done 8442 tasks      | elapsed:    3.0s\n",
      "[Parallel(n_jobs=-1)]: Done 9792 tasks      | elapsed:    3.5s\n",
      "[Parallel(n_jobs=-1)]: Done 11242 tasks      | elapsed:    4.0s\n",
      "[Parallel(n_jobs=-1)]: Done 12792 tasks      | elapsed:    4.6s\n",
      "[Parallel(n_jobs=-1)]: Done 14442 tasks      | elapsed:    5.2s\n",
      "[Parallel(n_jobs=-1)]: Done 16192 tasks      | elapsed:    5.9s\n",
      "[Parallel(n_jobs=-1)]: Done 18042 tasks      | elapsed:    6.5s\n",
      "[Parallel(n_jobs=-1)]: Done 19992 tasks      | elapsed:    7.3s\n",
      "[Parallel(n_jobs=-1)]: Done 20000 out of 20000 | elapsed:    7.3s finished\n"
     ]
    },
    {
     "name": "stdout",
     "output_type": "stream",
     "text": [
      "48.199 --> "
     ]
    },
    {
     "name": "stderr",
     "output_type": "stream",
     "text": [
      "[Parallel(n_jobs=-1)]: Using backend ThreadingBackend with 4 concurrent workers.\n",
      "[Parallel(n_jobs=-1)]: Done  42 tasks      | elapsed:    0.0s\n",
      "[Parallel(n_jobs=-1)]: Done 192 tasks      | elapsed:    0.1s\n",
      "[Parallel(n_jobs=-1)]: Done 442 tasks      | elapsed:    0.2s\n",
      "[Parallel(n_jobs=-1)]: Done 792 tasks      | elapsed:    0.4s\n",
      "[Parallel(n_jobs=-1)]: Done 1242 tasks      | elapsed:    0.7s\n",
      "[Parallel(n_jobs=-1)]: Done 1792 tasks      | elapsed:    0.9s\n",
      "[Parallel(n_jobs=-1)]: Done 2442 tasks      | elapsed:    1.1s\n",
      "[Parallel(n_jobs=-1)]: Done 3192 tasks      | elapsed:    1.4s\n",
      "[Parallel(n_jobs=-1)]: Done 4042 tasks      | elapsed:    1.8s\n",
      "[Parallel(n_jobs=-1)]: Done 4992 tasks      | elapsed:    2.1s\n",
      "[Parallel(n_jobs=-1)]: Done 6042 tasks      | elapsed:    2.5s\n",
      "[Parallel(n_jobs=-1)]: Done 7192 tasks      | elapsed:    2.9s\n",
      "[Parallel(n_jobs=-1)]: Done 8442 tasks      | elapsed:    3.4s\n",
      "[Parallel(n_jobs=-1)]: Done 9792 tasks      | elapsed:    3.9s\n",
      "[Parallel(n_jobs=-1)]: Done 11242 tasks      | elapsed:    4.4s\n",
      "[Parallel(n_jobs=-1)]: Done 12792 tasks      | elapsed:    5.0s\n",
      "[Parallel(n_jobs=-1)]: Done 14442 tasks      | elapsed:    5.6s\n",
      "[Parallel(n_jobs=-1)]: Done 16192 tasks      | elapsed:    6.3s\n",
      "[Parallel(n_jobs=-1)]: Done 18042 tasks      | elapsed:    7.1s\n",
      "[Parallel(n_jobs=-1)]: Done 19992 tasks      | elapsed:    7.8s\n",
      "[Parallel(n_jobs=-1)]: Done 20000 out of 20000 | elapsed:    7.8s finished\n"
     ]
    },
    {
     "name": "stdout",
     "output_type": "stream",
     "text": [
      "48.199 --> "
     ]
    },
    {
     "name": "stderr",
     "output_type": "stream",
     "text": [
      "[Parallel(n_jobs=-1)]: Using backend ThreadingBackend with 4 concurrent workers.\n",
      "[Parallel(n_jobs=-1)]: Done  42 tasks      | elapsed:    0.0s\n",
      "[Parallel(n_jobs=-1)]: Done 192 tasks      | elapsed:    0.0s\n",
      "[Parallel(n_jobs=-1)]: Done 442 tasks      | elapsed:    0.1s\n",
      "[Parallel(n_jobs=-1)]: Done 792 tasks      | elapsed:    0.3s\n",
      "[Parallel(n_jobs=-1)]: Done 1242 tasks      | elapsed:    0.4s\n",
      "[Parallel(n_jobs=-1)]: Done 1792 tasks      | elapsed:    0.6s\n",
      "[Parallel(n_jobs=-1)]: Done 2442 tasks      | elapsed:    0.9s\n",
      "[Parallel(n_jobs=-1)]: Done 3192 tasks      | elapsed:    1.2s\n",
      "[Parallel(n_jobs=-1)]: Done 4042 tasks      | elapsed:    1.5s\n",
      "[Parallel(n_jobs=-1)]: Done 4992 tasks      | elapsed:    1.9s\n",
      "[Parallel(n_jobs=-1)]: Done 6042 tasks      | elapsed:    2.3s\n",
      "[Parallel(n_jobs=-1)]: Done 7192 tasks      | elapsed:    2.7s\n",
      "[Parallel(n_jobs=-1)]: Done 8442 tasks      | elapsed:    3.2s\n",
      "[Parallel(n_jobs=-1)]: Done 9792 tasks      | elapsed:    3.7s\n",
      "[Parallel(n_jobs=-1)]: Done 11242 tasks      | elapsed:    4.3s\n",
      "[Parallel(n_jobs=-1)]: Done 12792 tasks      | elapsed:    4.8s\n",
      "[Parallel(n_jobs=-1)]: Done 14442 tasks      | elapsed:    5.5s\n",
      "[Parallel(n_jobs=-1)]: Done 16192 tasks      | elapsed:    6.2s\n",
      "[Parallel(n_jobs=-1)]: Done 18042 tasks      | elapsed:    6.9s\n",
      "[Parallel(n_jobs=-1)]: Done 19992 tasks      | elapsed:    7.7s\n",
      "[Parallel(n_jobs=-1)]: Done 20000 out of 20000 | elapsed:    7.7s finished\n"
     ]
    },
    {
     "name": "stdout",
     "output_type": "stream",
     "text": [
      "48.199 --> "
     ]
    },
    {
     "name": "stderr",
     "output_type": "stream",
     "text": [
      "[Parallel(n_jobs=-1)]: Using backend ThreadingBackend with 4 concurrent workers.\n",
      "[Parallel(n_jobs=-1)]: Done  42 tasks      | elapsed:    0.0s\n",
      "[Parallel(n_jobs=-1)]: Done 192 tasks      | elapsed:    0.0s\n",
      "[Parallel(n_jobs=-1)]: Done 442 tasks      | elapsed:    0.0s\n",
      "[Parallel(n_jobs=-1)]: Done 792 tasks      | elapsed:    0.1s\n",
      "[Parallel(n_jobs=-1)]: Done 1242 tasks      | elapsed:    0.2s\n",
      "[Parallel(n_jobs=-1)]: Done 1792 tasks      | elapsed:    0.3s\n",
      "[Parallel(n_jobs=-1)]: Done 2442 tasks      | elapsed:    0.4s\n",
      "[Parallel(n_jobs=-1)]: Done 3192 tasks      | elapsed:    0.6s\n",
      "[Parallel(n_jobs=-1)]: Done 4042 tasks      | elapsed:    0.7s\n",
      "[Parallel(n_jobs=-1)]: Done 4992 tasks      | elapsed:    0.9s\n",
      "[Parallel(n_jobs=-1)]: Done 6042 tasks      | elapsed:    1.1s\n",
      "[Parallel(n_jobs=-1)]: Done 7192 tasks      | elapsed:    1.4s\n",
      "[Parallel(n_jobs=-1)]: Done 8442 tasks      | elapsed:    1.6s\n",
      "[Parallel(n_jobs=-1)]: Done 9792 tasks      | elapsed:    1.9s\n",
      "[Parallel(n_jobs=-1)]: Done 11242 tasks      | elapsed:    2.2s\n",
      "[Parallel(n_jobs=-1)]: Done 12792 tasks      | elapsed:    2.5s\n",
      "[Parallel(n_jobs=-1)]: Done 14442 tasks      | elapsed:    2.8s\n",
      "[Parallel(n_jobs=-1)]: Done 16192 tasks      | elapsed:    3.2s\n",
      "[Parallel(n_jobs=-1)]: Done 18042 tasks      | elapsed:    3.6s\n",
      "[Parallel(n_jobs=-1)]: Done 19992 tasks      | elapsed:    4.0s\n",
      "[Parallel(n_jobs=-1)]: Done 20000 out of 20000 | elapsed:    4.0s finished\n"
     ]
    },
    {
     "name": "stdout",
     "output_type": "stream",
     "text": [
      "48.192 --> "
     ]
    },
    {
     "name": "stderr",
     "output_type": "stream",
     "text": [
      "[Parallel(n_jobs=-1)]: Using backend ThreadingBackend with 4 concurrent workers.\n",
      "[Parallel(n_jobs=-1)]: Done  42 tasks      | elapsed:    0.0s\n",
      "[Parallel(n_jobs=-1)]: Done 192 tasks      | elapsed:    0.0s\n",
      "[Parallel(n_jobs=-1)]: Done 442 tasks      | elapsed:    0.0s\n",
      "[Parallel(n_jobs=-1)]: Done 792 tasks      | elapsed:    0.1s\n",
      "[Parallel(n_jobs=-1)]: Done 1242 tasks      | elapsed:    0.2s\n",
      "[Parallel(n_jobs=-1)]: Done 1792 tasks      | elapsed:    0.3s\n",
      "[Parallel(n_jobs=-1)]: Done 2442 tasks      | elapsed:    0.4s\n",
      "[Parallel(n_jobs=-1)]: Done 3192 tasks      | elapsed:    0.6s\n",
      "[Parallel(n_jobs=-1)]: Done 4042 tasks      | elapsed:    0.7s\n",
      "[Parallel(n_jobs=-1)]: Done 4992 tasks      | elapsed:    0.9s\n",
      "[Parallel(n_jobs=-1)]: Done 6042 tasks      | elapsed:    1.1s\n",
      "[Parallel(n_jobs=-1)]: Done 7192 tasks      | elapsed:    1.4s\n",
      "[Parallel(n_jobs=-1)]: Done 8442 tasks      | elapsed:    1.6s\n",
      "[Parallel(n_jobs=-1)]: Done 9792 tasks      | elapsed:    1.9s\n",
      "[Parallel(n_jobs=-1)]: Done 11242 tasks      | elapsed:    2.2s\n",
      "[Parallel(n_jobs=-1)]: Done 12792 tasks      | elapsed:    2.6s\n",
      "[Parallel(n_jobs=-1)]: Done 14442 tasks      | elapsed:    3.0s\n",
      "[Parallel(n_jobs=-1)]: Done 16192 tasks      | elapsed:    3.3s\n",
      "[Parallel(n_jobs=-1)]: Done 18042 tasks      | elapsed:    3.7s\n",
      "[Parallel(n_jobs=-1)]: Done 19992 tasks      | elapsed:    4.1s\n",
      "[Parallel(n_jobs=-1)]: Done 20000 out of 20000 | elapsed:    4.1s finished\n"
     ]
    },
    {
     "name": "stdout",
     "output_type": "stream",
     "text": [
      "48.191 --> "
     ]
    },
    {
     "name": "stderr",
     "output_type": "stream",
     "text": [
      "[Parallel(n_jobs=-1)]: Using backend ThreadingBackend with 4 concurrent workers.\n",
      "[Parallel(n_jobs=-1)]: Done  42 tasks      | elapsed:    0.0s\n",
      "[Parallel(n_jobs=-1)]: Done 192 tasks      | elapsed:    0.0s\n",
      "[Parallel(n_jobs=-1)]: Done 442 tasks      | elapsed:    0.0s\n",
      "[Parallel(n_jobs=-1)]: Done 792 tasks      | elapsed:    0.1s\n",
      "[Parallel(n_jobs=-1)]: Done 1242 tasks      | elapsed:    0.2s\n",
      "[Parallel(n_jobs=-1)]: Done 1792 tasks      | elapsed:    0.3s\n",
      "[Parallel(n_jobs=-1)]: Done 2442 tasks      | elapsed:    0.4s\n",
      "[Parallel(n_jobs=-1)]: Done 3192 tasks      | elapsed:    0.6s\n",
      "[Parallel(n_jobs=-1)]: Done 4042 tasks      | elapsed:    0.7s\n",
      "[Parallel(n_jobs=-1)]: Done 4992 tasks      | elapsed:    0.9s\n",
      "[Parallel(n_jobs=-1)]: Done 6042 tasks      | elapsed:    1.1s\n",
      "[Parallel(n_jobs=-1)]: Done 7192 tasks      | elapsed:    1.4s\n",
      "[Parallel(n_jobs=-1)]: Done 8442 tasks      | elapsed:    1.6s\n",
      "[Parallel(n_jobs=-1)]: Done 9792 tasks      | elapsed:    1.9s\n",
      "[Parallel(n_jobs=-1)]: Done 11242 tasks      | elapsed:    2.2s\n",
      "[Parallel(n_jobs=-1)]: Done 12792 tasks      | elapsed:    2.5s\n",
      "[Parallel(n_jobs=-1)]: Done 14442 tasks      | elapsed:    2.9s\n",
      "[Parallel(n_jobs=-1)]: Done 16192 tasks      | elapsed:    3.2s\n",
      "[Parallel(n_jobs=-1)]: Done 18042 tasks      | elapsed:    3.6s\n",
      "[Parallel(n_jobs=-1)]: Done 19992 tasks      | elapsed:    4.0s\n",
      "[Parallel(n_jobs=-1)]: Done 20000 out of 20000 | elapsed:    4.0s finished\n"
     ]
    },
    {
     "name": "stdout",
     "output_type": "stream",
     "text": [
      "48.191 --> "
     ]
    },
    {
     "name": "stderr",
     "output_type": "stream",
     "text": [
      "[Parallel(n_jobs=-1)]: Using backend ThreadingBackend with 4 concurrent workers.\n",
      "[Parallel(n_jobs=-1)]: Done  42 tasks      | elapsed:    0.0s\n",
      "[Parallel(n_jobs=-1)]: Done 192 tasks      | elapsed:    0.0s\n",
      "[Parallel(n_jobs=-1)]: Done 442 tasks      | elapsed:    0.0s\n",
      "[Parallel(n_jobs=-1)]: Done 792 tasks      | elapsed:    0.1s\n",
      "[Parallel(n_jobs=-1)]: Done 1242 tasks      | elapsed:    0.2s\n",
      "[Parallel(n_jobs=-1)]: Done 1792 tasks      | elapsed:    0.3s\n",
      "[Parallel(n_jobs=-1)]: Done 2442 tasks      | elapsed:    0.4s\n",
      "[Parallel(n_jobs=-1)]: Done 3192 tasks      | elapsed:    0.6s\n",
      "[Parallel(n_jobs=-1)]: Done 4042 tasks      | elapsed:    0.8s\n",
      "[Parallel(n_jobs=-1)]: Done 4992 tasks      | elapsed:    1.0s\n",
      "[Parallel(n_jobs=-1)]: Done 6042 tasks      | elapsed:    1.2s\n",
      "[Parallel(n_jobs=-1)]: Done 7192 tasks      | elapsed:    1.4s\n",
      "[Parallel(n_jobs=-1)]: Done 8442 tasks      | elapsed:    1.7s\n",
      "[Parallel(n_jobs=-1)]: Done 9792 tasks      | elapsed:    1.9s\n",
      "[Parallel(n_jobs=-1)]: Done 11242 tasks      | elapsed:    2.2s\n",
      "[Parallel(n_jobs=-1)]: Done 12792 tasks      | elapsed:    2.5s\n",
      "[Parallel(n_jobs=-1)]: Done 14442 tasks      | elapsed:    2.9s\n",
      "[Parallel(n_jobs=-1)]: Done 16192 tasks      | elapsed:    3.2s\n",
      "[Parallel(n_jobs=-1)]: Done 18042 tasks      | elapsed:    3.6s\n",
      "[Parallel(n_jobs=-1)]: Done 19992 tasks      | elapsed:    4.0s\n",
      "[Parallel(n_jobs=-1)]: Done 20000 out of 20000 | elapsed:    4.0s finished\n"
     ]
    },
    {
     "name": "stdout",
     "output_type": "stream",
     "text": [
      "48.191 --> "
     ]
    },
    {
     "name": "stderr",
     "output_type": "stream",
     "text": [
      "[Parallel(n_jobs=-1)]: Using backend ThreadingBackend with 4 concurrent workers.\n",
      "[Parallel(n_jobs=-1)]: Done  42 tasks      | elapsed:    0.0s\n",
      "[Parallel(n_jobs=-1)]: Done 192 tasks      | elapsed:    0.0s\n",
      "[Parallel(n_jobs=-1)]: Done 442 tasks      | elapsed:    0.0s\n",
      "[Parallel(n_jobs=-1)]: Done 792 tasks      | elapsed:    0.1s\n",
      "[Parallel(n_jobs=-1)]: Done 1242 tasks      | elapsed:    0.2s\n",
      "[Parallel(n_jobs=-1)]: Done 1792 tasks      | elapsed:    0.3s\n",
      "[Parallel(n_jobs=-1)]: Done 2442 tasks      | elapsed:    0.4s\n",
      "[Parallel(n_jobs=-1)]: Done 3192 tasks      | elapsed:    0.6s\n",
      "[Parallel(n_jobs=-1)]: Done 4042 tasks      | elapsed:    0.8s\n",
      "[Parallel(n_jobs=-1)]: Done 4992 tasks      | elapsed:    0.9s\n",
      "[Parallel(n_jobs=-1)]: Done 6042 tasks      | elapsed:    1.1s\n",
      "[Parallel(n_jobs=-1)]: Done 7192 tasks      | elapsed:    1.4s\n",
      "[Parallel(n_jobs=-1)]: Done 8442 tasks      | elapsed:    1.6s\n",
      "[Parallel(n_jobs=-1)]: Done 9792 tasks      | elapsed:    1.9s\n",
      "[Parallel(n_jobs=-1)]: Done 11242 tasks      | elapsed:    2.2s\n",
      "[Parallel(n_jobs=-1)]: Done 12792 tasks      | elapsed:    2.5s\n",
      "[Parallel(n_jobs=-1)]: Done 14442 tasks      | elapsed:    2.8s\n",
      "[Parallel(n_jobs=-1)]: Done 16192 tasks      | elapsed:    3.2s\n",
      "[Parallel(n_jobs=-1)]: Done 18042 tasks      | elapsed:    3.6s\n",
      "[Parallel(n_jobs=-1)]: Done 19992 tasks      | elapsed:    4.0s\n",
      "[Parallel(n_jobs=-1)]: Done 20000 out of 20000 | elapsed:    4.0s finished\n"
     ]
    },
    {
     "name": "stdout",
     "output_type": "stream",
     "text": [
      "48.191 --> \n"
     ]
    },
    {
     "name": "stderr",
     "output_type": "stream",
     "text": [
      "[Parallel(n_jobs=-1)]: Using backend ThreadingBackend with 4 concurrent workers.\n",
      "[Parallel(n_jobs=-1)]: Done  42 tasks      | elapsed:    0.0s\n",
      "[Parallel(n_jobs=-1)]: Done 192 tasks      | elapsed:    0.0s\n",
      "[Parallel(n_jobs=-1)]: Done 442 tasks      | elapsed:    0.0s\n",
      "[Parallel(n_jobs=-1)]: Done 792 tasks      | elapsed:    0.1s\n",
      "[Parallel(n_jobs=-1)]: Done 1242 tasks      | elapsed:    0.2s\n",
      "[Parallel(n_jobs=-1)]: Done 1792 tasks      | elapsed:    0.3s\n",
      "[Parallel(n_jobs=-1)]: Done 2442 tasks      | elapsed:    0.5s\n",
      "[Parallel(n_jobs=-1)]: Done 3192 tasks      | elapsed:    0.6s\n",
      "[Parallel(n_jobs=-1)]: Done 4042 tasks      | elapsed:    0.8s\n",
      "[Parallel(n_jobs=-1)]: Done 4992 tasks      | elapsed:    1.0s\n",
      "[Parallel(n_jobs=-1)]: Done 6042 tasks      | elapsed:    1.2s\n",
      "[Parallel(n_jobs=-1)]: Done 7192 tasks      | elapsed:    1.4s\n",
      "[Parallel(n_jobs=-1)]: Done 8442 tasks      | elapsed:    1.7s\n",
      "[Parallel(n_jobs=-1)]: Done 9792 tasks      | elapsed:    2.0s\n",
      "[Parallel(n_jobs=-1)]: Done 11242 tasks      | elapsed:    2.3s\n",
      "[Parallel(n_jobs=-1)]: Done 12792 tasks      | elapsed:    2.6s\n",
      "[Parallel(n_jobs=-1)]: Done 14442 tasks      | elapsed:    3.0s\n",
      "[Parallel(n_jobs=-1)]: Done 16192 tasks      | elapsed:    3.5s\n",
      "[Parallel(n_jobs=-1)]: Done 18042 tasks      | elapsed:    3.9s\n"
     ]
    },
    {
     "name": "stdout",
     "output_type": "stream",
     "text": [
      "Clustering k=2 took 2319.165866 seconds\n",
      "1    5665\n",
      "0    4335\n",
      "dtype: int64\n",
      "[5665, 4335] \n",
      "\n"
     ]
    },
    {
     "name": "stderr",
     "output_type": "stream",
     "text": [
      "[Parallel(n_jobs=-1)]: Done 19992 tasks      | elapsed:    4.3s\n",
      "[Parallel(n_jobs=-1)]: Done 20000 out of 20000 | elapsed:    4.4s finished\n"
     ]
    }
   ],
   "source": [
    "k=2\n",
    "print('Results of K-means Clustering with k=%d' % k)\n",
    "    \n",
    "start = timer()\n",
    "\n",
    "dtw_km = TimeSeriesKMeans(n_clusters=k, metric=\"dtw\", verbose=True, random_state=42, n_jobs=-1)\n",
    "dtw_kmeans_predictions = dtw_km.fit_predict(all_users_df_vals)\n",
    "\n",
    "end = timer()\n",
    "print('Clustering k=%d took %f seconds' % (k, (end - start)))\n",
    "\n",
    "km_clusters = pd.Series(dtw_kmeans_predictions)\n",
    "print(km_clusters.value_counts())\n",
    "print(km_clusters.value_counts().values.tolist(), '\\n')"
   ]
  },
  {
   "cell_type": "code",
   "execution_count": 10,
   "id": "congressional-volunteer",
   "metadata": {},
   "outputs": [],
   "source": [
    "# Binarise the classes so it is largest class vs all other classes\n",
    "# Largest class = 0, smaller class = 1\n",
    "dbscan_predictions = pd.Series(labels)\n",
    "a = np.array(dbscan_predictions.values.tolist())\n",
    "dbscan_predictions = np.where(a != 0, 1, a).tolist()\n",
    "\n",
    "dbscan_predictions = pd.Series(dbscan_predictions)\n",
    "kmeans_predictions = pd.Series(kmeans_predictions)\n",
    "dtw_kmeans_predictions = pd.Series(dtw_kmeans_predictions)"
   ]
  },
  {
   "cell_type": "code",
   "execution_count": 11,
   "id": "russian-underwear",
   "metadata": {},
   "outputs": [],
   "source": [
    "# kmeans_predictions = np.array(kmeans_predictions)\n",
    "# kmeans_predictions = np.where(a==0, 2, a)\n",
    "# kmeans_predictions = np.where(a==1, 0, a)\n",
    "# kmeans_predictions = np.where(a==2, 1, a)"
   ]
  },
  {
   "cell_type": "code",
   "execution_count": 13,
   "id": "designing-optimization",
   "metadata": {},
   "outputs": [
    {
     "name": "stdout",
     "output_type": "stream",
     "text": [
      "DBScan: \n",
      "Accuracy: 0.958200\n",
      "Precision: 0.129252\n",
      "Recall: 0.190000\n",
      "F1 score: 0.153846\n",
      "\n",
      "\n",
      "Kmeans: \n",
      "Accuracy: 0.909600\n",
      "Precision: 0.000000\n",
      "Recall: 0.000000\n",
      "F1 score: 0.000000\n",
      "\n",
      "\n",
      "DTW K-means: \n",
      "Accuracy: 0.420500\n",
      "Precision: 0.006178\n",
      "Recall: 0.175000\n",
      "F1 score: 0.011935\n",
      "\n",
      "\n"
     ]
    },
    {
     "data": {
      "text/plain": [
       "10000"
      ]
     },
     "execution_count": 13,
     "metadata": {},
     "output_type": "execute_result"
    }
   ],
   "source": [
    "from sklearn.metrics import accuracy_score\n",
    "from sklearn.metrics import precision_score\n",
    "from sklearn.metrics import recall_score\n",
    "from sklearn.metrics import f1_score\n",
    "\n",
    "def print_results(y, y_pred, text):\n",
    "    print(text)\n",
    "    \n",
    "    # accuracy: (tp + tn) / (p + n)\n",
    "    accuracy = accuracy_score(y, y_pred)\n",
    "    print('Accuracy: %f' % accuracy)\n",
    "    # precision tp / (tp + fp)\n",
    "    precision = precision_score(y, y_pred)\n",
    "    print('Precision: %f' % precision)\n",
    "    # recall: tp / (tp + fn)\n",
    "    recall = recall_score(y, y_pred)\n",
    "    print('Recall: %f' % recall)\n",
    "    # f1: 2 tp / (2 tp + fp + fn)\n",
    "    f1 = f1_score(y, y_pred)\n",
    "    print('F1 score: %f' % f1)\n",
    "    \n",
    "    print('\\n')\n",
    "    \n",
    "print_results(y, dbscan_predictions, 'DBScan: '),\n",
    "print_results(y, kmeans_predictions, 'Kmeans: ')\n",
    "print_results(y, dtw_kmeans_predictions, 'DTW K-means: ')\n",
    "len(y)"
   ]
  },
  {
   "cell_type": "code",
   "execution_count": 14,
   "id": "cellular-stopping",
   "metadata": {},
   "outputs": [],
   "source": [
    "data_df = pd.DataFrame(all_users_df_vals[:, :, 0])\n",
    "data_df['dbscan'] = dbscan_predictions\n",
    "average_dbscan_cluster = data_df.groupby('dbscan').mean()"
   ]
  },
  {
   "cell_type": "code",
   "execution_count": 16,
   "id": "stupid-dollar",
   "metadata": {},
   "outputs": [
    {
     "data": {
      "image/png": "[encoded data removed]",
      "text/plain": [
       "<Figure size 864x360 with 6 Axes>"
      ]
     },
     "metadata": {
      "needs_background": "light"
     },
     "output_type": "display_data"
    }
   ],
   "source": [
    "fig, axes = plt.subplots(nrows=2, ncols=3, figsize=(12, 5), sharex=True, tight_layout = True)\n",
    "colours = ['tab:red', 'tab:orange', 'gold', 'tab:green', 'tab:blue', 'tab:purple', 'tab:pink', 'tab:gray', 'tab:brown']\n",
    "\n",
    "# Row and column labels for subplot\n",
    "cols = ['DBScan', '$k$-means', 'DTW $k$-means']\n",
    "for ax, col in zip((axes[0,0], axes[0,1], axes[0,2]), cols):\n",
    "    ax.set_title(col)\n",
    "\n",
    "# x\n",
    "x = list(range(0 ,1440, 10))\n",
    "    \n",
    "# Set common labels\n",
    "fig.text(0.5, 0, 'Time of Day (minutes)', ha='center')\n",
    "fig.text(0, 0.5, 'ln(function invocation count)', va='center', rotation='vertical')\n",
    "fig.suptitle('Exploring the contents of the clusters generated when $2\\%$ of the data is anomalous')\n",
    "\n",
    "# DBScan\n",
    "cluster_order = pd.Series(dbscan_predictions).value_counts().keys().tolist()\n",
    "for yi in range(len(cluster_order)):\n",
    "    cluster_index = cluster_order[yi]\n",
    "    axes[yi,0].plot(x, average_dbscan_cluster.values[cluster_index], color='#36558F')   \n",
    "    \n",
    "    # Plot text in same position in each subplot\n",
    "    text = 'Cluster %d \\nSize:%d' % ((yi + 1), pd.Series(labels).value_counts().values[yi])\n",
    "    t= axes[yi,0].text(0.8, 0.8, text,\n",
    "             horizontalalignment='center',\n",
    "             verticalalignment='center',\n",
    "             transform = axes[yi,0].transAxes,\n",
    "             color=\"black\")\n",
    "    t.set_bbox(dict(facecolor='#A9ACA9', alpha=0.85, edgecolor='white'))\n",
    "\n",
    "# Kmeans\n",
    "cluster_order = pd.Series(kmeans_predictions).value_counts().keys().tolist()\n",
    "for yi in range(len(cluster_order)):\n",
    "    cluster_index = cluster_order[yi]\n",
    "    axes[yi,1].plot(x, km.cluster_centers_[cluster_index].ravel()[:int(7 * (1440 / 10))], color='#36558F')\n",
    "    \n",
    "    # Plot text in same position in each subplot\n",
    "    text = 'Cluster %d \\nSize:%d' % ((yi + 1), pd.Series(kmeans_predictions).value_counts().values[yi])\n",
    "    t= axes[yi,1].text(0.8, 0.8, text,\n",
    "             horizontalalignment='center',\n",
    "             verticalalignment='center',\n",
    "             transform = axes[yi,1].transAxes,\n",
    "             color='black')\n",
    "    t.set_bbox(dict(facecolor='#A9ACA9', alpha=0.85, edgecolor='white'))\n",
    "\n",
    "# Dynamic Time warped k-means\n",
    "cluster_order = pd.Series(dtw_kmeans_predictions).value_counts().keys().tolist()\n",
    "for yi in range(len(cluster_order)):\n",
    "    cluster_index = cluster_order[yi]\n",
    "    axes[yi,2].plot(x, dtw_km.cluster_centers_[cluster_index].ravel()[:int(7 * (1440 / 10))], color='#36558F')\n",
    "    \n",
    "    # Plot text in same position in each subplot\n",
    "    text = 'Cluster %d \\nSize:%d' % ((yi + 2), pd.Series(dtw_kmeans_predictions).value_counts().values[yi])\n",
    "    t= axes[yi,2].text(0.8, 0.8, text,\n",
    "             horizontalalignment='center',\n",
    "             verticalalignment='center',\n",
    "             transform = axes[yi,2].transAxes,\n",
    "             color='black')\n",
    "    t.set_bbox(dict(facecolor='#A9ACA9', alpha=0.85, edgecolor='white'))\n",
    "\n",
    "# axes[0,0].set_xticks(range(24))\n",
    "\n",
    "fig.tight_layout()\n",
    "fig.savefig('figs/final/test3f.png', dpi=250)\n",
    "plt.show()"
   ]
  },
  {
   "cell_type": "markdown",
   "id": "fiscal-vehicle",
   "metadata": {},
   "source": [
    "| Clustering Algorithm | Clusters     | Time (s)    |\n",
    "|----------------------|--------------|-------------|\n",
    "| DBScan               | [9724, 276]  | 5.7    |\n",
    "| $k$-means            | [9296, 704]  | 22.3   |\n",
    "| DTW $k$-means        | [5665, 4335] | 2319.2|"
   ]
  },
  {
   "cell_type": "code",
   "execution_count": null,
   "id": "twelve-terrorism",
   "metadata": {},
   "outputs": [],
   "source": [
    "# DBScan: \n",
    "# Accuracy: 0.958200\n",
    "# Precision: 0.129252\n",
    "# Recall: 0.190000\n",
    "# F1 score: 0.153846\n",
    "\n",
    "\n",
    "# Kmeans: \n",
    "# Accuracy: 0.909600\n",
    "# Precision: 0.000000\n",
    "# Recall: 0.000000\n",
    "# F1 score: 0.000000\n",
    "\n",
    "\n",
    "# DTW K-means: \n",
    "# Accuracy: 0.420500\n",
    "# Precision: 0.006178\n",
    "# Recall: 0.175000\n",
    "# F1 score: 0.011935"
   ]
  },
  {
   "cell_type": "code",
   "execution_count": null,
   "id": "cognitive-mozambique",
   "metadata": {},
   "outputs": [],
   "source": []
  }
 ],
 "metadata": {
  "kernelspec": {
   "display_name": "Python 3",
   "language": "python",
   "name": "python3"
  },
  "language_info": {
   "codemirror_mode": {
    "name": "ipython",
    "version": 3
   },
   "file_extension": ".py",
   "mimetype": "text/x-python",
   "name": "python",
   "nbconvert_exporter": "python",
   "pygments_lexer": "ipython3",
   "version": "3.8.7"
  }
 },
 "nbformat": 4,
 "nbformat_minor": 5
}
