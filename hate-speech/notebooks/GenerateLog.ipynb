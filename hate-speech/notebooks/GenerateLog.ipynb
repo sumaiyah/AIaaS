{
 "cells": [
  {
   "cell_type": "markdown",
   "id": "hourly-mistake",
   "metadata": {},
   "source": [
    "Generate usage logs of the hate speech dataset with data randomly sampled from the datasets\n",
    "- founta et al\n",
    "- waseem and govy\n",
    "- stormfront"
   ]
  },
  {
   "cell_type": "code",
   "execution_count": 12,
   "id": "potential-tract",
   "metadata": {},
   "outputs": [],
   "source": [
    "import pandas as pd\n",
    "import numpy as np"
   ]
  },
  {
   "cell_type": "code",
   "execution_count": 9,
   "id": "deadly-strengthening",
   "metadata": {},
   "outputs": [],
   "source": [
    "# datasets = ['stormfront', 'founta']#, 'waseem']\n",
    "# # Concat Datasets and shuffle\n",
    "# dfs = []\n",
    "# for dataset in datasets:\n",
    "#     dfs.append(pd.read_csv(processed_data_path(dataset)))\n",
    "# data_df = pd.concat(dfs).sample(frac=1)\n",
    "\n",
    "# print('Number of rows of each class:')\n",
    "# data_df['class'].value_counts()"
   ]
  },
  {
   "cell_type": "code",
   "execution_count": 18,
   "id": "generous-peace",
   "metadata": {},
   "outputs": [],
   "source": [
    "def generate_log(datasets, n):\n",
    "    \"\"\"\n",
    "        datasets=lists of datasets you want to sample fron\n",
    "        n=define total sample size desired\n",
    "    \"\"\"\n",
    "    processed_data_path = lambda dataset: '../data/processed/%s.csv' % dataset\n",
    "\n",
    "    # Concat datasets and shuffle\n",
    "    dfs = []\n",
    "    for dataset in datasets:\n",
    "        dfs.append(pd.read_csv(processed_data_path(dataset)))\n",
    "    data_df = pd.concat(dfs).sample(frac=1)\n",
    "    \n",
    "    # perform stratified random sampling\n",
    "    return data_df.groupby('class', group_keys=False).apply(lambda x: x.sample(int(np.rint(n*len(x)/len(data_df))))).sample(frac=1).reset_index(drop=True)"
   ]
  }
 ],
 "metadata": {
  "kernelspec": {
   "display_name": "Python 3",
   "language": "python",
   "name": "python3"
  },
  "language_info": {
   "codemirror_mode": {
    "name": "ipython",
    "version": 3
   },
   "file_extension": ".py",
   "mimetype": "text/x-python",
   "name": "python",
   "nbconvert_exporter": "python",
   "pygments_lexer": "ipython3",
   "version": "3.8.7"
  }
 },
 "nbformat": 4,
 "nbformat_minor": 5
}
