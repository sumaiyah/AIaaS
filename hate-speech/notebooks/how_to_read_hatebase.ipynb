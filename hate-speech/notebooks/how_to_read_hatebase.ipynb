{
 "cells": [
  {
   "cell_type": "markdown",
   "id": "equipped-philadelphia",
   "metadata": {},
   "source": [
    "----------\n",
    "\n",
    "https://github.com/meierale/hatebase-api-python/blob/master/hatebase_api_howto.ipynb"
   ]
  },
  {
   "cell_type": "code",
   "execution_count": null,
   "id": "serious-feeling",
   "metadata": {},
   "outputs": [],
   "source": [
    "import requests\n",
    "import json\n",
    "import pandas as pd"
   ]
  },
  {
   "cell_type": "code",
   "execution_count": null,
   "id": "norman-organ",
   "metadata": {},
   "outputs": [],
   "source": [
    "# initialize variables\n",
    "auth_url = \"https://api.hatebase.org/4-4/authenticate\"\n",
    "vocab_url = \"https://api.hatebase.org/4-4/get_vocabulary\"\n",
    "lang = \"eng\"\n",
    "resp_format = \"json\"\n",
    "token = \"\"\n",
    "pages = 0\n",
    "total_entries = 0"
   ]
  },
  {
   "cell_type": "code",
   "execution_count": null,
   "id": "wooden-participation",
   "metadata": {},
   "outputs": [],
   "source": [
    "# initialize authentication payload\n",
    "auth_payload = \"api_key=trjXqgqGxcokuCprecm8oZohfykbydbM\"\n",
    "headers = {\n",
    "    'Content-Type': \"application/x-www-form-urlencoded\",\n",
    "    'cache-control': \"no-cache\"\n",
    "    }"
   ]
  },
  {
   "cell_type": "code",
   "execution_count": null,
   "id": "horizontal-stick",
   "metadata": {},
   "outputs": [],
   "source": [
    "# authenticate\n",
    "auth_resp = requests.request(\"POST\", auth_url, data=auth_payload, headers=headers)"
   ]
  },
  {
   "cell_type": "code",
   "execution_count": null,
   "id": "complicated-barbados",
   "metadata": {},
   "outputs": [],
   "source": [
    "# get the session token\n",
    "token = auth_resp.json()[\"result\"][\"token\"]"
   ]
  },
  {
   "cell_type": "code",
   "execution_count": null,
   "id": "several-model",
   "metadata": {},
   "outputs": [],
   "source": [
    "# quick check if it worked\n",
    "print(auth_resp.text, token)"
   ]
  },
  {
   "cell_type": "code",
   "execution_count": null,
   "id": "blind-dragon",
   "metadata": {},
   "outputs": [],
   "source": [
    "# initialize vocabulary payload\n",
    "# first without any given page-number\n",
    "vocab_payload = \"token=\" + token + \"&format=\" + resp_format + \"&language=\" + lang\n",
    "voc_resp = requests.request(\"POST\", vocab_url, data=vocab_payload, headers=headers)\n",
    "voc_json = voc_resp.json()"
   ]
  },
  {
   "cell_type": "code",
   "execution_count": null,
   "id": "interesting-glance",
   "metadata": {},
   "outputs": [],
   "source": [
    "# how many pages in total? and how many results= entries in the vocab?\n",
    "pages = voc_json[\"number_of_pages\"]\n",
    "results = voc_json[\"number_of_results\"]\n",
    "\n",
    "# check pages & results\n",
    "pages, results"
   ]
  },
  {
   "cell_type": "code",
   "execution_count": null,
   "id": "hidden-township",
   "metadata": {},
   "outputs": [],
   "source": [
    "# create vocabulary df from first resultset\n",
    "df_voc = pd.DataFrame(voc_json[\"result\"])"
   ]
  },
  {
   "cell_type": "code",
   "execution_count": null,
   "id": "pressing-medicine",
   "metadata": {},
   "outputs": [],
   "source": [
    "# now get results of all remaining pages and append to df_voc\n",
    "for page in range(2,pages+1):\n",
    "    vocab_payload = \"token=\" + token + \"&format=json&language=\" + lang + \"&page=\" + str(page)\n",
    "    voc_resp = requests.request(\"POST\", vocab_url, data=vocab_payload, headers=headers)\n",
    "    voc_json = voc_resp.json()\n",
    "    df_voc = df_voc.append(voc_json[\"result\"])\n",
    "\n",
    "# reset df_voc index\n",
    "df_voc.reset_index(drop=True, inplace=True)"
   ]
  },
  {
   "cell_type": "code",
   "execution_count": null,
   "id": "inner-landscape",
   "metadata": {},
   "outputs": [],
   "source": [
    "df_voc.shape"
   ]
  },
  {
   "cell_type": "code",
   "execution_count": null,
   "id": "nominated-frederick",
   "metadata": {},
   "outputs": [],
   "source": [
    "df_voc.to_csv(\"hatebase_vocab.csv\")"
   ]
  },
  {
   "cell_type": "markdown",
   "id": "fossil-collection",
   "metadata": {},
   "source": [
    "------"
   ]
  },
  {
   "cell_type": "code",
   "execution_count": 3,
   "id": "collectible-result",
   "metadata": {},
   "outputs": [],
   "source": [
    "## 1. Removal of punctuation and capitlization\n",
    "## 2. Tokenizing\n",
    "## 3. Removal of stopwords\n",
    "## 4. Stemming\n",
    "\n",
    "from nltk.tokenize import word_tokenize\n",
    "from nltk.corpus import stopwords\n",
    "from nltk.stem.porter import *\n",
    "import string\n",
    "import nltk\n",
    "\n",
    "stopwords = nltk.corpus.stopwords.words(\"english\")\n",
    "\n",
    "#extending the stopwords to include other words used in twitter such as retweet(rt) etc.\n",
    "other_exclusions = [\"#ff\", \"ff\", \"rt\"]\n",
    "stopwords.extend(other_exclusions)\n",
    "stemmer = PorterStemmer()\n",
    "\n",
    "def preprocess(tweet):  \n",
    "    \n",
    "    # removal of extra spaces\n",
    "    regex_pat = re.compile(r'\\s+')\n",
    "    tweet_space = tweet.str.replace(regex_pat, ' ')\n",
    "\n",
    "    # removal of @name[mention]\n",
    "    regex_pat = re.compile(r'@[\\w\\-]+')\n",
    "    tweet_name = tweet_space.str.replace(regex_pat, '')\n",
    "\n",
    "    # removal of links[https://abc.com]\n",
    "    giant_url_regex =  re.compile('http[s]?://(?:[a-zA-Z]|[0-9]|[$-_@.&+]|'\n",
    "            '[!*\\(\\),]|(?:%[0-9a-fA-F][0-9a-fA-F]))+')\n",
    "    tweets = tweet_name.str.replace(giant_url_regex, '')\n",
    "    \n",
    "    # removal of punctuations and numbers\n",
    "    punc_remove = tweets.str.replace(\"[^a-zA-Z]\", \" \")\n",
    "    # remove whitespace with a single space\n",
    "    newtweet=punc_remove.str.replace(r'\\s+', ' ')\n",
    "    # remove leading and trailing whitespace\n",
    "    newtweet=newtweet.str.replace(r'^\\s+|\\s+?$','')\n",
    "    # replace normal numbers with numbr\n",
    "    newtweet=newtweet.str.replace(r'\\d+(\\.\\d+)?','numbr')\n",
    "    # removal of capitalization\n",
    "    tweet_lower = newtweet.str.lower()\n",
    "    \n",
    "    # tokenizing\n",
    "    tokenized_tweet = tweet_lower.apply(lambda x: x.split())\n",
    "    \n",
    "    # removal of stopwords\n",
    "    tokenized_tweet=  tokenized_tweet.apply(lambda x: [item for item in x if item not in stopwords])\n",
    "    \n",
    "    # stemming of the tweets\n",
    "    tokenized_tweet = tokenized_tweet.apply(lambda x: [stemmer.stem(i) for i in x]) \n",
    "    \n",
    "    for i in range(len(tokenized_tweet)):\n",
    "        tokenized_tweet[i] = ' '.join(tokenized_tweet[i])\n",
    "        tweets_p= tokenized_tweet\n",
    "    \n",
    "    return tweets_p"
   ]
  },
  {
   "cell_type": "code",
   "execution_count": 4,
   "id": "vertical-burner",
   "metadata": {},
   "outputs": [],
   "source": [
    "import pandas as pd\n",
    "lexicon = pd.read_csv('hatebase_vocab.csv')\n",
    "\n",
    "terms = lexicon.term\n",
    "lexicon['term'] = preprocess(terms)"
   ]
  },
  {
   "cell_type": "code",
   "execution_count": 6,
   "id": "speaking-snapshot",
   "metadata": {},
   "outputs": [],
   "source": [
    "lexicon.to_csv('hatebase_vocab.csv', index=False)"
   ]
  }
 ],
 "metadata": {
  "kernelspec": {
   "display_name": "Python 3",
   "language": "python",
   "name": "python3"
  },
  "language_info": {
   "codemirror_mode": {
    "name": "ipython",
    "version": 3
   },
   "file_extension": ".py",
   "mimetype": "text/x-python",
   "name": "python",
   "nbconvert_exporter": "python",
   "pygments_lexer": "ipython3",
   "version": "3.8.7"
  }
 },
 "nbformat": 4,
 "nbformat_minor": 5
}
