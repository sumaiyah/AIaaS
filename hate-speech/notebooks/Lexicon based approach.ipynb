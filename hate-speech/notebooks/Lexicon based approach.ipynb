{
 "cells": [
  {
   "cell_type": "code",
   "execution_count": 2,
   "id": "straight-prison",
   "metadata": {},
   "outputs": [],
   "source": [
    "import pandas as pd"
   ]
  },
  {
   "cell_type": "code",
   "execution_count": 3,
   "id": "japanese-accessory",
   "metadata": {},
   "outputs": [],
   "source": [
    "data_df = pd.read_csv('../data/processed/davison.csv')\n",
    "\n",
    "lexicon_1 = pd.read_csv('davison_vocab.csv')\n",
    "lexicon_2 = pd.read_csv('hatebase_vocab.csv')"
   ]
  },
  {
   "cell_type": "code",
   "execution_count": 11,
   "id": "sophisticated-platform",
   "metadata": {},
   "outputs": [],
   "source": [
    "from nltk.tokenize import word_tokenize\n",
    "from nltk.util import ngrams\n",
    "\n",
    "def get_ngrams(text, n ):\n",
    "    n_grams = ngrams(word_tokenize(text), n)\n",
    "    return [ ' '.join(grams) for grams in n_grams]\n",
    "\n",
    "def does_text_contain_bad(text, lexicon, max_ngram):\n",
    "    for n in range(1,max_ngram+1):\n",
    "        n_grams = ngrams(word_tokenize(text), n)\n",
    "        n_grams = [ ' '.join(grams) for grams in n_grams]\n",
    "        for n_gram in n_grams:\n",
    "            if n_gram in lexicon:\n",
    "                return True\n",
    "        \n",
    "    return False"
   ]
  },
  {
   "cell_type": "code",
   "execution_count": 12,
   "id": "formal-orbit",
   "metadata": {},
   "outputs": [],
   "source": [
    "data_df['lex1_pred'] = data_df.apply(lambda row : does_text_contain_bad(str(row['tweet']), lexicon_1['ngram'].values, max_ngram=4), axis = 1) \n",
    "data_df['lex2_pred'] = data_df.apply(lambda row : does_text_contain_bad(str(row['tweet']), lexicon_2['term'].values, max_ngram=2), axis = 1) "
   ]
  },
  {
   "cell_type": "code",
   "execution_count": 13,
   "id": "comic-fetish",
   "metadata": {},
   "outputs": [
    {
     "data": {
      "text/plain": [
       "False    23702\n",
       "True      1078\n",
       "Name: lex1_pred, dtype: int64"
      ]
     },
     "execution_count": 13,
     "metadata": {},
     "output_type": "execute_result"
    }
   ],
   "source": [
    "data_df['lex1_pred'].value_counts()"
   ]
  },
  {
   "cell_type": "code",
   "execution_count": 14,
   "id": "positive-specialist",
   "metadata": {},
   "outputs": [
    {
     "data": {
      "text/plain": [
       "True     24613\n",
       "False      167\n",
       "Name: lex2_pred, dtype: int64"
      ]
     },
     "execution_count": 14,
     "metadata": {},
     "output_type": "execute_result"
    }
   ],
   "source": [
    "data_df['lex2_pred'].value_counts()"
   ]
  },
  {
   "cell_type": "code",
   "execution_count": null,
   "id": "fitting-bosnia",
   "metadata": {},
   "outputs": [],
   "source": []
  }
 ],
 "metadata": {
  "kernelspec": {
   "display_name": "Python 3",
   "language": "python",
   "name": "python3"
  },
  "language_info": {
   "codemirror_mode": {
    "name": "ipython",
    "version": 3
   },
   "file_extension": ".py",
   "mimetype": "text/x-python",
   "name": "python",
   "nbconvert_exporter": "python",
   "pygments_lexer": "ipython3",
   "version": "3.8.7"
  }
 },
 "nbformat": 4,
 "nbformat_minor": 5
}
