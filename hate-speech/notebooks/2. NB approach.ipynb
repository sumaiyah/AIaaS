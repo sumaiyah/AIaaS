{
 "cells": [
  {
   "cell_type": "markdown",
   "id": "rolled-option",
   "metadata": {},
   "source": [
    "https://github.com/Sachin-Jain-98/Detection-And-Classification-Of-Hate-Speech-In-Social-Media-Using-Python/blob/master/Hate_speech_detection_Final_code.ipynb\n",
    "\n",
    "file:///C:/Users/sumaiyah/Downloads/9%20-Differential%20Tweetment_%20Mitigating%20Racial%20Dialect%20Bias%20in%20Harmful%20Tweet%20Detection.pdf\n",
    "\n",
    "The tf-idf vectorizer converts a collection of raw documents to a matrix of TF-IDF features.\n",
    "\n",
    "embed word and character n-grams (contiguous sequences of n items) using either bag-of-words or term frequency-inverse document frequency (TFIDF), which normalizes counts according to the frequency of the n-gram in question in the whole corpus\n",
    "\n",
    "In a large text corpus, some words will be very present (e.g. “the”, “a”, “is” in English) hence carrying very little meaningful information about the actual contents of the document. If we were to feed the direct count data directly to a classifier those very frequent terms would shadow the frequencies of rarer yet more interesting terms. i.e. the rarer words carry more information"
   ]
  },
  {
   "cell_type": "code",
   "execution_count": 1,
   "id": "developing-seller",
   "metadata": {},
   "outputs": [],
   "source": [
    "import pandas as pd\n",
    "from nltk.tokenize import word_tokenize\n",
    "from nltk.corpus import stopwords\n",
    "from nltk.stem.porter import *\n",
    "import string\n",
    "import nltk\n",
    "from sklearn.feature_extraction.text import CountVectorizer\n",
    "from sklearn.feature_extraction.text import TfidfVectorizer\n",
    "from sklearn.metrics import confusion_matrix\n",
    "import seaborn\n",
    "# from textstat.textstat import *\n",
    "from sklearn.linear_model import LogisticRegression\n",
    "from sklearn.model_selection import train_test_split\n",
    "from sklearn.metrics import f1_score\n",
    "from sklearn.feature_selection import SelectFromModel\n",
    "from sklearn.metrics import classification_report\n",
    "from sklearn.metrics import accuracy_score\n",
    "from sklearn.svm import LinearSVC\n",
    "from sklearn.ensemble import RandomForestClassifier\n",
    "from sklearn.naive_bayes import GaussianNB\n",
    "import numpy as np\n",
    "from nltk.sentiment.vader import SentimentIntensityAnalyzer as VS\n",
    "import warnings\n",
    "warnings.simplefilter(action='ignore', category=FutureWarning)\n",
    "import matplotlib.pyplot as plt\n",
    "%matplotlib inline"
   ]
  },
  {
   "cell_type": "code",
   "execution_count": 2,
   "id": "irish-group",
   "metadata": {},
   "outputs": [],
   "source": [
    "data_df = pd.read_csv('../data/processed/davison.csv').dropna()\n",
    "raw_tweets = data_df['tweet']\n",
    "processed_tweets = data_df['processed_tweet']"
   ]
  },
  {
   "cell_type": "code",
   "execution_count": 3,
   "id": "loved-mississippi",
   "metadata": {},
   "outputs": [],
   "source": [
    "#TF-IDF Features-F1\n",
    "# https://scikit-learn.org/stable/modules/generated/sklearn.feature_extraction.text.TfidfVectorizer.html\n",
    "tfidf_vectorizer = TfidfVectorizer(ngram_range=(1, 2),max_df=0.75, min_df=5, max_features=10000)\n",
    "\n",
    "# TF-IDF feature matrix\n",
    "tfidf = tfidf_vectorizer.fit_transform(processed_tweets)"
   ]
  },
  {
   "cell_type": "markdown",
   "id": "labeled-bubble",
   "metadata": {},
   "source": [
    "-----------"
   ]
  },
  {
   "cell_type": "code",
   "execution_count": 5,
   "id": "median-yield",
   "metadata": {},
   "outputs": [],
   "source": [
    "X = tfidf\n",
    "y = data_df['class'].astype(int)"
   ]
  },
  {
   "cell_type": "markdown",
   "id": "guilty-catch",
   "metadata": {},
   "source": [
    "# Baseline ML models"
   ]
  },
  {
   "cell_type": "code",
   "execution_count": 6,
   "id": "alert-variable",
   "metadata": {},
   "outputs": [
    {
     "name": "stdout",
     "output_type": "stream",
     "text": [
      "              precision    recall  f1-score   support\n",
      "\n",
      "           0       0.88      0.78      0.83       809\n",
      "           1       0.96      0.98      0.97      4147\n",
      "\n",
      "    accuracy                           0.95      4956\n",
      "   macro avg       0.92      0.88      0.90      4956\n",
      "weighted avg       0.95      0.95      0.95      4956\n",
      "\n",
      "Logistic Regression, Accuracy Score: 0.9469330104923325\n"
     ]
    }
   ],
   "source": [
    "X_train_tfidf, X_test_tfidf, y_train, y_test = train_test_split(X, y, random_state=42, test_size=0.2)\n",
    "model = LogisticRegression().fit(X_train_tfidf,y_train)\n",
    "\n",
    "y_preds_LR_1 = model.predict(X_test_tfidf)\n",
    "report = classification_report(y_test, y_preds_LR_1)\n",
    "acc_LR=accuracy_score(y_test,y_preds_LR_1)\n",
    "\n",
    "print(report)\n",
    "print(\"Logistic Regression, Accuracy Score:\" , acc_LR)"
   ]
  },
  {
   "cell_type": "code",
   "execution_count": 7,
   "id": "fatal-symbol",
   "metadata": {},
   "outputs": [
    {
     "name": "stdout",
     "output_type": "stream",
     "text": [
      "              precision    recall  f1-score   support\n",
      "\n",
      "           0       0.43      0.75      0.54       809\n",
      "           1       0.94      0.80      0.87      4147\n",
      "\n",
      "    accuracy                           0.79      4956\n",
      "   macro avg       0.68      0.78      0.70      4956\n",
      "weighted avg       0.86      0.79      0.81      4956\n",
      "\n",
      "Naive Bayes, Accuracy Score: 0.7941888619854721\n"
     ]
    }
   ],
   "source": [
    "X_train_tfidf, X_test_tfidf, y_train, y_test = train_test_split(X.toarray(), y, random_state=42, test_size=0.2)\n",
    "nb=GaussianNB()\n",
    "nb.fit(X_train_tfidf,y_train)\n",
    "\n",
    "y_preds_NB_1 = nb.predict(X_test_tfidf)\n",
    "report = classification_report(y_test, y_preds_NB_1)\n",
    "acc_NB=accuracy_score(y_test,y_preds_NB_1)\n",
    "\n",
    "print(report)\n",
    "print(\"Naive Bayes, Accuracy Score:\",acc_NB)"
   ]
  },
  {
   "cell_type": "code",
   "execution_count": 8,
   "id": "gothic-respect",
   "metadata": {},
   "outputs": [
    {
     "name": "stdout",
     "output_type": "stream",
     "text": [
      "              precision    recall  f1-score   support\n",
      "\n",
      "           0       0.85      0.87      0.86       809\n",
      "           1       0.97      0.97      0.97      4147\n",
      "\n",
      "    accuracy                           0.95      4956\n",
      "   macro avg       0.91      0.92      0.92      4956\n",
      "weighted avg       0.95      0.95      0.95      4956\n",
      "\n",
      "SVM, Accuracy Score: 0.9531880548829701\n"
     ]
    }
   ],
   "source": [
    "support=LinearSVC(random_state=20)\n",
    "support.fit(X_train_tfidf,y_train)\n",
    "\n",
    "y_preds_SVM_1 = support.predict(X_test_tfidf)\n",
    "acc_SVM=accuracy_score(y_test,y_preds_SVM_1)\n",
    "report = classification_report(y_test, y_preds_SVM_1)\n",
    "print(report)\n",
    "print(\"SVM, Accuracy Score:\" , acc_SVM)"
   ]
  },
  {
   "cell_type": "markdown",
   "id": "naughty-cliff",
   "metadata": {},
   "source": [
    "# Sentiment Analysis, using polarity scores as features"
   ]
  },
  {
   "cell_type": "code",
   "execution_count": 9,
   "id": "wicked-petersburg",
   "metadata": {},
   "outputs": [
    {
     "data": {
      "text/html": [
       "<div>\n",
       "<style scoped>\n",
       "    .dataframe tbody tr th:only-of-type {\n",
       "        vertical-align: middle;\n",
       "    }\n",
       "\n",
       "    .dataframe tbody tr th {\n",
       "        vertical-align: top;\n",
       "    }\n",
       "\n",
       "    .dataframe thead th {\n",
       "        text-align: right;\n",
       "    }\n",
       "</style>\n",
       "<table border=\"1\" class=\"dataframe\">\n",
       "  <thead>\n",
       "    <tr style=\"text-align: right;\">\n",
       "      <th></th>\n",
       "      <th>Neg</th>\n",
       "      <th>Pos</th>\n",
       "      <th>Neu</th>\n",
       "      <th>Compound</th>\n",
       "      <th>url_tag</th>\n",
       "      <th>mention_tag</th>\n",
       "      <th>hash_tag</th>\n",
       "    </tr>\n",
       "  </thead>\n",
       "  <tbody>\n",
       "    <tr>\n",
       "      <th>0</th>\n",
       "      <td>0.000</td>\n",
       "      <td>0.120</td>\n",
       "      <td>0.880</td>\n",
       "      <td>0.4563</td>\n",
       "      <td>0.0</td>\n",
       "      <td>1.0</td>\n",
       "      <td>0.0</td>\n",
       "    </tr>\n",
       "    <tr>\n",
       "      <th>1</th>\n",
       "      <td>0.237</td>\n",
       "      <td>0.000</td>\n",
       "      <td>0.763</td>\n",
       "      <td>-0.6876</td>\n",
       "      <td>0.0</td>\n",
       "      <td>1.0</td>\n",
       "      <td>0.0</td>\n",
       "    </tr>\n",
       "    <tr>\n",
       "      <th>2</th>\n",
       "      <td>0.538</td>\n",
       "      <td>0.000</td>\n",
       "      <td>0.462</td>\n",
       "      <td>-0.9550</td>\n",
       "      <td>0.0</td>\n",
       "      <td>2.0</td>\n",
       "      <td>0.0</td>\n",
       "    </tr>\n",
       "    <tr>\n",
       "      <th>3</th>\n",
       "      <td>0.000</td>\n",
       "      <td>0.344</td>\n",
       "      <td>0.656</td>\n",
       "      <td>0.5673</td>\n",
       "      <td>0.0</td>\n",
       "      <td>2.0</td>\n",
       "      <td>0.0</td>\n",
       "    </tr>\n",
       "    <tr>\n",
       "      <th>4</th>\n",
       "      <td>0.249</td>\n",
       "      <td>0.081</td>\n",
       "      <td>0.669</td>\n",
       "      <td>-0.7762</td>\n",
       "      <td>0.0</td>\n",
       "      <td>1.0</td>\n",
       "      <td>1.0</td>\n",
       "    </tr>\n",
       "    <tr>\n",
       "      <th>...</th>\n",
       "      <td>...</td>\n",
       "      <td>...</td>\n",
       "      <td>...</td>\n",
       "      <td>...</td>\n",
       "      <td>...</td>\n",
       "      <td>...</td>\n",
       "      <td>...</td>\n",
       "    </tr>\n",
       "    <tr>\n",
       "      <th>24773</th>\n",
       "      <td>0.000</td>\n",
       "      <td>0.000</td>\n",
       "      <td>1.000</td>\n",
       "      <td>0.0000</td>\n",
       "      <td>0.0</td>\n",
       "      <td>3.0</td>\n",
       "      <td>3.0</td>\n",
       "    </tr>\n",
       "    <tr>\n",
       "      <th>24774</th>\n",
       "      <td>0.454</td>\n",
       "      <td>0.000</td>\n",
       "      <td>0.546</td>\n",
       "      <td>-0.8074</td>\n",
       "      <td>0.0</td>\n",
       "      <td>0.0</td>\n",
       "      <td>0.0</td>\n",
       "    </tr>\n",
       "    <tr>\n",
       "      <th>24775</th>\n",
       "      <td>0.000</td>\n",
       "      <td>0.219</td>\n",
       "      <td>0.781</td>\n",
       "      <td>0.4738</td>\n",
       "      <td>0.0</td>\n",
       "      <td>0.0</td>\n",
       "      <td>0.0</td>\n",
       "    </tr>\n",
       "    <tr>\n",
       "      <th>24776</th>\n",
       "      <td>0.573</td>\n",
       "      <td>0.000</td>\n",
       "      <td>0.427</td>\n",
       "      <td>-0.7717</td>\n",
       "      <td>0.0</td>\n",
       "      <td>0.0</td>\n",
       "      <td>0.0</td>\n",
       "    </tr>\n",
       "    <tr>\n",
       "      <th>24777</th>\n",
       "      <td>0.000</td>\n",
       "      <td>0.218</td>\n",
       "      <td>0.782</td>\n",
       "      <td>0.5994</td>\n",
       "      <td>1.0</td>\n",
       "      <td>0.0</td>\n",
       "      <td>0.0</td>\n",
       "    </tr>\n",
       "  </tbody>\n",
       "</table>\n",
       "<p>24778 rows × 7 columns</p>\n",
       "</div>"
      ],
      "text/plain": [
       "         Neg    Pos    Neu  Compound  url_tag  mention_tag  hash_tag\n",
       "0      0.000  0.120  0.880    0.4563      0.0          1.0       0.0\n",
       "1      0.237  0.000  0.763   -0.6876      0.0          1.0       0.0\n",
       "2      0.538  0.000  0.462   -0.9550      0.0          2.0       0.0\n",
       "3      0.000  0.344  0.656    0.5673      0.0          2.0       0.0\n",
       "4      0.249  0.081  0.669   -0.7762      0.0          1.0       1.0\n",
       "...      ...    ...    ...       ...      ...          ...       ...\n",
       "24773  0.000  0.000  1.000    0.0000      0.0          3.0       3.0\n",
       "24774  0.454  0.000  0.546   -0.8074      0.0          0.0       0.0\n",
       "24775  0.000  0.219  0.781    0.4738      0.0          0.0       0.0\n",
       "24776  0.573  0.000  0.427   -0.7717      0.0          0.0       0.0\n",
       "24777  0.000  0.218  0.782    0.5994      1.0          0.0       0.0\n",
       "\n",
       "[24778 rows x 7 columns]"
      ]
     },
     "execution_count": 9,
     "metadata": {},
     "output_type": "execute_result"
    }
   ],
   "source": [
    "sentiment_analyzer = VS()\n",
    "def count_tags(tweet_c):  \n",
    "    \n",
    "    space_pattern = '\\s+'\n",
    "    giant_url_regex = ('http[s]?://(?:[a-zA-Z]|[0-9]|[$-_@.&+]|'\n",
    "        '[!*\\(\\),]|(?:%[0-9a-fA-F][0-9a-fA-F]))+')\n",
    "    mention_regex = '@[\\w\\-]+'\n",
    "    hashtag_regex = '#[\\w\\-]+'\n",
    "    parsed_text = re.sub(space_pattern, ' ', tweet_c)\n",
    "    parsed_text = re.sub(giant_url_regex, 'URLHERE', parsed_text)\n",
    "    parsed_text = re.sub(mention_regex, 'MENTIONHERE', parsed_text)\n",
    "    parsed_text = re.sub(hashtag_regex, 'HASHTAGHERE', parsed_text)\n",
    "    return(parsed_text.count('URLHERE'),parsed_text.count('MENTIONHERE'),parsed_text.count('HASHTAGHERE'))\n",
    "\n",
    "def sentiment_analysis(tweet):   \n",
    "    sentiment = sentiment_analyzer.polarity_scores(tweet)    \n",
    "    twitter_objs = count_tags(tweet)\n",
    "    features = [sentiment['neg'], sentiment['pos'], sentiment['neu'], sentiment['compound'],twitter_objs[0], twitter_objs[1],\n",
    "                twitter_objs[2]]\n",
    "    #features = pandas.DataFrame(features)\n",
    "    return features\n",
    "\n",
    "def sentiment_analysis_array(tweets):\n",
    "    features=[]\n",
    "    for t in tweets:\n",
    "        features.append(sentiment_analysis(t))\n",
    "    return np.array(features)\n",
    "\n",
    "final_features = sentiment_analysis_array(raw_tweets)\n",
    "#final_features\n",
    "\n",
    "new_features = pd.DataFrame({'Neg':final_features[:,0],'Pos':final_features[:,1],'Neu':final_features[:,2],'Compound':final_features[:,3],\n",
    "                            'url_tag':final_features[:,4],'mention_tag':final_features[:,5],'hash_tag':final_features[:,6]})\n",
    "new_features"
   ]
  },
  {
   "cell_type": "code",
   "execution_count": 10,
   "id": "higher-sacramento",
   "metadata": {},
   "outputs": [
    {
     "data": {
      "text/plain": [
       "(24778, 6447)"
      ]
     },
     "execution_count": 10,
     "metadata": {},
     "output_type": "execute_result"
    }
   ],
   "source": [
    "# F2-Conctaenation of tf-idf scores and sentiment scores\n",
    "tfidf_a = tfidf.toarray()\n",
    "modelling_features = np.concatenate([tfidf_a,final_features],axis=1)\n",
    "modelling_features.shape"
   ]
  },
  {
   "cell_type": "code",
   "execution_count": 11,
   "id": "external-envelope",
   "metadata": {},
   "outputs": [],
   "source": [
    "# Running the model Using TFIDF with some features from sentiment analysis\n",
    "X = pd.DataFrame(modelling_features)\n",
    "y = data_df['class'].astype(int)\n",
    "X_train_bow, X_test_bow, y_train, y_test = train_test_split(X, y, random_state=42, test_size=0.2)"
   ]
  },
  {
   "cell_type": "code",
   "execution_count": 14,
   "id": "asian-atlas",
   "metadata": {},
   "outputs": [
    {
     "name": "stdout",
     "output_type": "stream",
     "text": [
      "              precision    recall  f1-score   support\n",
      "\n",
      "           0       0.86      0.80      0.83       809\n",
      "           1       0.96      0.97      0.97      4147\n",
      "\n",
      "    accuracy                           0.95      4956\n",
      "   macro avg       0.91      0.89      0.90      4956\n",
      "weighted avg       0.94      0.95      0.94      4956\n",
      "\n",
      "Logistic Regression,Accuracy Score: 0.9457223567393059\n"
     ]
    },
    {
     "name": "stderr",
     "output_type": "stream",
     "text": [
      "c:\\users\\sumaiyah\\appdata\\local\\programs\\python\\python38\\lib\\site-packages\\sklearn\\linear_model\\_logistic.py:763: ConvergenceWarning: lbfgs failed to converge (status=1):\n",
      "STOP: TOTAL NO. of ITERATIONS REACHED LIMIT.\n",
      "\n",
      "Increase the number of iterations (max_iter) or scale the data as shown in:\n",
      "    https://scikit-learn.org/stable/modules/preprocessing.html\n",
      "Please also refer to the documentation for alternative solver options:\n",
      "    https://scikit-learn.org/stable/modules/linear_model.html#logistic-regression\n",
      "  n_iter_i = _check_optimize_result(\n"
     ]
    }
   ],
   "source": [
    "model = LogisticRegression().fit(X_train_bow,y_train)\n",
    "\n",
    "y_preds_LR_2 = model.predict(X_test_bow)\n",
    "report = classification_report(y_test, y_preds_LR_2)\n",
    "acc_LR=accuracy_score(y_test,y_preds_LR_2)\n",
    "\n",
    "print(report)\n",
    "print(\"Logistic Regression,Accuracy Score:\" , acc_LR)"
   ]
  },
  {
   "cell_type": "code",
   "execution_count": 13,
   "id": "solar-amplifier",
   "metadata": {},
   "outputs": [
    {
     "name": "stdout",
     "output_type": "stream",
     "text": [
      "              precision    recall  f1-score   support\n",
      "\n",
      "           0       0.44      0.75      0.56       809\n",
      "           1       0.94      0.82      0.88      4147\n",
      "\n",
      "    accuracy                           0.81      4956\n",
      "   macro avg       0.69      0.78      0.72      4956\n",
      "weighted avg       0.86      0.81      0.82      4956\n",
      "\n",
      "Naive Bayes, Accuracy Score: 0.8056900726392252\n"
     ]
    }
   ],
   "source": [
    "nb=GaussianNB()\n",
    "nb.fit(X_train_bow,y_train)\n",
    "\n",
    "y_preds_NB_2 = nb.predict(X_test_bow)\n",
    "acc_NB=accuracy_score(y_test,y_preds_NB_2)\n",
    "report = classification_report(y_test, y_preds_NB_2)\n",
    "\n",
    "print(report)\n",
    "print(\"Naive Bayes, Accuracy Score:\",acc_NB)"
   ]
  },
  {
   "cell_type": "code",
   "execution_count": 12,
   "id": "romantic-inspiration",
   "metadata": {},
   "outputs": [
    {
     "name": "stdout",
     "output_type": "stream",
     "text": [
      "              precision    recall  f1-score   support\n",
      "\n",
      "           0       0.85      0.86      0.85       809\n",
      "           1       0.97      0.97      0.97      4147\n",
      "\n",
      "    accuracy                           0.95      4956\n",
      "   macro avg       0.91      0.92      0.91      4956\n",
      "weighted avg       0.95      0.95      0.95      4956\n",
      "\n",
      "SVM, Accuracy Score: 0.9519774011299436\n"
     ]
    },
    {
     "name": "stderr",
     "output_type": "stream",
     "text": [
      "c:\\users\\sumaiyah\\appdata\\local\\programs\\python\\python38\\lib\\site-packages\\sklearn\\svm\\_base.py:985: ConvergenceWarning: Liblinear failed to converge, increase the number of iterations.\n",
      "  warnings.warn(\"Liblinear failed to converge, increase \"\n"
     ]
    }
   ],
   "source": [
    "support =LinearSVC(random_state=20)\n",
    "support.fit(X_train_bow,y_train)\n",
    "\n",
    "y_preds_SVM_2 = support.predict(X_test_bow)\n",
    "acc_SVM=accuracy_score(y_test,y_preds_SVM_2)\n",
    "report = classification_report(y_test, y_preds_SVM_2)\n",
    "\n",
    "print(report)\n",
    "print(\"SVM, Accuracy Score:\" , acc_SVM)"
   ]
  },
  {
   "cell_type": "code",
   "execution_count": 16,
   "id": "developed-storage",
   "metadata": {},
   "outputs": [],
   "source": [
    "from scipy.stats import wilcoxon"
   ]
  },
  {
   "cell_type": "code",
   "execution_count": 17,
   "id": "collaborative-junior",
   "metadata": {},
   "outputs": [
    {
     "data": {
      "text/plain": [
       "WilcoxonResult(statistic=5024.0, pvalue=0.024974679293054237)"
      ]
     },
     "execution_count": 17,
     "metadata": {},
     "output_type": "execute_result"
    }
   ],
   "source": [
    "wilcoxon(y_preds_LR_1, y_preds_LR_2)"
   ]
  },
  {
   "cell_type": "code",
   "execution_count": 18,
   "id": "amino-memorabilia",
   "metadata": {},
   "outputs": [
    {
     "data": {
      "text/plain": [
       "WilcoxonResult(statistic=0.0, pvalue=4.358119027032043e-14)"
      ]
     },
     "execution_count": 18,
     "metadata": {},
     "output_type": "execute_result"
    }
   ],
   "source": [
    "wilcoxon(y_preds_NB_1, y_preds_NB_2)"
   ]
  },
  {
   "cell_type": "code",
   "execution_count": 19,
   "id": "abroad-communication",
   "metadata": {},
   "outputs": [
    {
     "data": {
      "text/plain": [
       "WilcoxonResult(statistic=823.5, pvalue=0.4385780260809998)"
      ]
     },
     "execution_count": 19,
     "metadata": {},
     "output_type": "execute_result"
    }
   ],
   "source": [
    "wilcoxon(y_preds_SVM_1, y_preds_SVM_2)"
   ]
  },
  {
   "cell_type": "code",
   "execution_count": 29,
   "id": "noble-belly",
   "metadata": {},
   "outputs": [
    {
     "data": {
      "image/png": "[encoded data removed]",
      "text/plain": [
       "<Figure size 360x360 with 1 Axes>"
      ]
     },
     "metadata": {
      "needs_background": "light"
     },
     "output_type": "display_data"
    }
   ],
   "source": [
    "#Confusion Matrix for TFIDF with additional features \n",
    "from sklearn.metrics import confusion_matrix\n",
    "confusion_matrix = confusion_matrix(y_test,y_preds_LR_1)\n",
    "matrix_proportions = np.zeros((2,2))\n",
    "for i in range(0,2):\n",
    "    matrix_proportions[i,:] = confusion_matrix[i,:]/float(confusion_matrix[i,:].sum())\n",
    "names=['0', '1']\n",
    "confusion_df = pd.DataFrame(matrix_proportions, index=names,columns=names)\n",
    "plt.figure(figsize=(5,5))\n",
    "seaborn.heatmap(confusion_df,annot=True,annot_kws={\"size\": 12},cmap='YlGnBu',cbar=False, square=True,fmt='.2f')\n",
    "plt.ylabel(r'True Value',fontsize=14)\n",
    "plt.xlabel(r'Predicted Value',fontsize=14)\n",
    "plt.tick_params(labelsize=12)"
   ]
  },
  {
   "cell_type": "code",
   "execution_count": 30,
   "id": "authorized-leadership",
   "metadata": {},
   "outputs": [
    {
     "data": {
      "image/png": "[encoded data removed]",
      "text/plain": [
       "<Figure size 360x360 with 1 Axes>"
      ]
     },
     "metadata": {
      "needs_background": "light"
     },
     "output_type": "display_data"
    }
   ],
   "source": [
    "#Confusion Matrix for TFIDF with additional features \n",
    "from sklearn.metrics import confusion_matrix\n",
    "confusion_matrix = confusion_matrix(y_test,y_preds_LR_2)\n",
    "matrix_proportions = np.zeros((2,2))\n",
    "for i in range(0,2):\n",
    "    matrix_proportions[i,:] = confusion_matrix[i,:]/float(confusion_matrix[i,:].sum())\n",
    "names=['0', '1']\n",
    "confusion_df = pd.DataFrame(matrix_proportions, index=names,columns=names)\n",
    "plt.figure(figsize=(5,5))\n",
    "seaborn.heatmap(confusion_df,annot=True,annot_kws={\"size\": 12},cmap='YlGnBu',cbar=False, square=True,fmt='.2f')\n",
    "plt.ylabel(r'True Value',fontsize=14)\n",
    "plt.xlabel(r'Predicted Value',fontsize=14)\n",
    "plt.tick_params(labelsize=12)"
   ]
  },
  {
   "cell_type": "code",
   "execution_count": null,
   "id": "labeled-battery",
   "metadata": {},
   "outputs": [],
   "source": []
  }
 ],
 "metadata": {
  "kernelspec": {
   "display_name": "Python 3",
   "language": "python",
   "name": "python3"
  },
  "language_info": {
   "codemirror_mode": {
    "name": "ipython",
    "version": 3
   },
   "file_extension": ".py",
   "mimetype": "text/x-python",
   "name": "python",
   "nbconvert_exporter": "python",
   "pygments_lexer": "ipython3",
   "version": "3.8.7"
  }
 },
 "nbformat": 4,
 "nbformat_minor": 5
}
