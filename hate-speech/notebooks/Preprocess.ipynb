{
 "cells": [
  {
   "cell_type": "markdown",
   "id": "sized-hampshire",
   "metadata": {},
   "source": [
    "# Preprocess Datasets\n",
    "\n",
    "Datasets:\n",
    "- Davison et al\n",
    "- Storm front\n",
    "- ...\n",
    "\n",
    "Preprocessing:\n",
    "- Make binary classification **0:no_hate 1: hate** \n",
    "- Removal of punctuation and capitlization\n",
    "- Tokenizing\n",
    "- Removal of stopwords\n",
    "- Stemming"
   ]
  },
  {
   "cell_type": "code",
   "execution_count": 9,
   "id": "fifth-valve",
   "metadata": {},
   "outputs": [],
   "source": [
    "import pandas as pd\n",
    "\n",
    "from nltk.tokenize import word_tokenize\n",
    "from nltk.corpus import stopwords\n",
    "from nltk.stem.porter import *\n",
    "import string\n",
    "import nltk\n",
    "\n",
    "raw_data_path = '../data/raw/'\n",
    "processed_data_path = '../data/processed/'"
   ]
  },
  {
   "cell_type": "code",
   "execution_count": 10,
   "id": "inside-miller",
   "metadata": {},
   "outputs": [],
   "source": [
    "## 1. Removal of punctuation and capitlization\n",
    "## 2. Tokenizing\n",
    "## 3. Removal of stopwords\n",
    "## 4. Stemming\n",
    "\n",
    "stopwords = nltk.corpus.stopwords.words(\"english\")\n",
    "\n",
    "#extending the stopwords to include other words used in twitter such as retweet(rt) etc.\n",
    "other_exclusions = [\"#ff\", \"ff\", \"rt\"]\n",
    "stopwords.extend(other_exclusions)\n",
    "stemmer = PorterStemmer()\n",
    "\n",
    "def preprocess(tweet):  \n",
    "    \n",
    "    # removal of extra spaces\n",
    "    regex_pat = re.compile(r'\\s+')\n",
    "    tweet_space = tweet.str.replace(regex_pat, ' ')\n",
    "\n",
    "    # removal of @name[mention]\n",
    "    regex_pat = re.compile(r'@[\\w\\-]+')\n",
    "    tweet_name = tweet_space.str.replace(regex_pat, '')\n",
    "\n",
    "    # removal of links[https://abc.com]\n",
    "    giant_url_regex =  re.compile('http[s]?://(?:[a-zA-Z]|[0-9]|[$-_@.&+]|'\n",
    "            '[!*\\(\\),]|(?:%[0-9a-fA-F][0-9a-fA-F]))+')\n",
    "    tweets = tweet_name.str.replace(giant_url_regex, '')\n",
    "    \n",
    "    # removal of punctuations and numbers\n",
    "    punc_remove = tweets.str.replace(\"[^a-zA-Z]\", \" \")\n",
    "    # remove whitespace with a single space\n",
    "    newtweet=punc_remove.str.replace(r'\\s+', ' ')\n",
    "    # remove leading and trailing whitespace\n",
    "    newtweet=newtweet.str.replace(r'^\\s+|\\s+?$','')\n",
    "    # replace normal numbers with numbr\n",
    "    newtweet=newtweet.str.replace(r'\\d+(\\.\\d+)?','numbr')\n",
    "    # removal of capitalization\n",
    "    tweet_lower = newtweet.str.lower()\n",
    "    \n",
    "    # tokenizing\n",
    "    tokenized_tweet = tweet_lower.apply(lambda x: x.split())\n",
    "    \n",
    "    # removal of stopwords\n",
    "    tokenized_tweet=  tokenized_tweet.apply(lambda x: [item for item in x if item not in stopwords])\n",
    "    \n",
    "    # stemming of the tweets\n",
    "    tokenized_tweet = tokenized_tweet.apply(lambda x: [stemmer.stem(i) for i in x]) \n",
    "    \n",
    "    for i in range(len(tokenized_tweet)):\n",
    "        tokenized_tweet[i] = ' '.join(tokenized_tweet[i])\n",
    "        tweets_p= tokenized_tweet\n",
    "    \n",
    "    return tweets_p"
   ]
  },
  {
   "cell_type": "markdown",
   "id": "hybrid-miami",
   "metadata": {},
   "source": [
    "----------------"
   ]
  },
  {
   "cell_type": "markdown",
   "id": "touched-joint",
   "metadata": {},
   "source": [
    "# Davidson"
   ]
  },
  {
   "cell_type": "code",
   "execution_count": 3,
   "id": "worse-packet",
   "metadata": {},
   "outputs": [],
   "source": [
    "# Pre process Davidson dataset \n",
    "dataset = 'davison.csv'\n",
    "df = pd.read_csv(raw_data_path + dataset)"
   ]
  },
  {
   "cell_type": "markdown",
   "id": "reflected-savannah",
   "metadata": {},
   "source": [
    "**Class Label:** \n",
    "- 0 - hate speech \n",
    "- 1 - offensive language \n",
    "- 2 - neither"
   ]
  },
  {
   "cell_type": "code",
   "execution_count": 4,
   "id": "serial-design",
   "metadata": {},
   "outputs": [],
   "source": [
    "# Preprocess tweets\n",
    "processed_tweets = preprocess(df.tweet)   \n",
    "df['processed_tweet'] = processed_tweets"
   ]
  },
  {
   "cell_type": "code",
   "execution_count": 5,
   "id": "consistent-binary",
   "metadata": {},
   "outputs": [],
   "source": [
    "df['hate_speech']        = df['hate_speech'] >= (df['count']/2)\n",
    "df['offensive_language'] = df['offensive_language'] >= (df['count']/2)\n",
    "df['neither']            = df['neither'] >= (df['count']/2)\n",
    "\n",
    "# only rows where only one of three classes = true\n",
    "df = df[(df['hate_speech'].astype(int) + df['offensive_language'].astype(int) + df['neither'].astype(int)) == 1]\n",
    "\n",
    "# Binarize class 0,1 -> 1 and 2 -> 0\n",
    "df['class'] = df['class'].map({0:1, 1:1, 2:2})\n",
    "df['class'] = df['class'].map({1:1, 2:0})"
   ]
  },
  {
   "cell_type": "code",
   "execution_count": 7,
   "id": "developing-accreditation",
   "metadata": {},
   "outputs": [],
   "source": [
    "# Keep only tweet and class\n",
    "df[['tweet', 'processed_tweet', 'class']].to_csv(processed_data_path + dataset, index=False)"
   ]
  },
  {
   "cell_type": "markdown",
   "id": "divided-emerald",
   "metadata": {},
   "source": [
    "-----------------"
   ]
  },
  {
   "cell_type": "markdown",
   "id": "tight-strike",
   "metadata": {},
   "source": [
    "# founta et al"
   ]
  },
  {
   "cell_type": "code",
   "execution_count": 3,
   "id": "optional-blowing",
   "metadata": {},
   "outputs": [],
   "source": [
    "dataset = 'founta.csv'\n",
    "df = pd.read_csv(raw_data_path + dataset)"
   ]
  },
  {
   "cell_type": "markdown",
   "id": "independent-upgrade",
   "metadata": {},
   "source": [
    "**Class Label:** \n",
    "- normal -> 0\n",
    "- spam -> 0\n",
    "- abusive -> 1\n",
    "- hateful -> 1"
   ]
  },
  {
   "cell_type": "code",
   "execution_count": 5,
   "id": "advance-magnitude",
   "metadata": {},
   "outputs": [],
   "source": [
    "# Binarize class 0,1 -> 1 and 2 -> 0\n",
    "df = df.rename(columns={'label':'class', 'post':'tweet'})\n",
    "df['class'] = df['class'].map({'normal':0, 'spam':0, 'abusive':1, 'hateful':1})"
   ]
  },
  {
   "cell_type": "code",
   "execution_count": 7,
   "id": "documentary-theorem",
   "metadata": {},
   "outputs": [],
   "source": [
    "# Preprocess tweets\n",
    "processed_tweets = preprocess(df.tweet)   \n",
    "df['processed_tweet'] = processed_tweets"
   ]
  },
  {
   "cell_type": "code",
   "execution_count": 8,
   "id": "regulation-mining",
   "metadata": {},
   "outputs": [],
   "source": [
    "# Keep only tweet and class\n",
    "df[['tweet', 'processed_tweet', 'class']].to_csv(processed_data_path + dataset, index=False)"
   ]
  },
  {
   "cell_type": "markdown",
   "id": "latter-amazon",
   "metadata": {},
   "source": [
    "----------"
   ]
  },
  {
   "cell_type": "markdown",
   "id": "alpine-inspection",
   "metadata": {},
   "source": [
    "# Waseem & Hovy"
   ]
  },
  {
   "cell_type": "code",
   "execution_count": 11,
   "id": "affected-treasure",
   "metadata": {},
   "outputs": [],
   "source": [
    "dataset = 'waseem.csv'\n",
    "df = pd.read_csv(raw_data_path + dataset)"
   ]
  },
  {
   "cell_type": "markdown",
   "id": "potential-brighton",
   "metadata": {},
   "source": [
    "**Class Label:** \n",
    "- none -> 0\n",
    "- sexism -> 1\n",
    "- racism -> 1"
   ]
  },
  {
   "cell_type": "code",
   "execution_count": 16,
   "id": "given-merchant",
   "metadata": {},
   "outputs": [],
   "source": [
    "# Binarize class 0,1 -> 1 and 2 -> 0\n",
    "df = df.rename(columns={'label':'class'})\n",
    "df['class'] = df['class'].map({'none\\n':0, 'sexism\\n':1, 'racism\\n':1})"
   ]
  },
  {
   "cell_type": "code",
   "execution_count": 17,
   "id": "documentary-polymer",
   "metadata": {},
   "outputs": [],
   "source": [
    "# Preprocess tweets\n",
    "processed_tweets = preprocess(df.tweet)   \n",
    "df['processed_tweet'] = processed_tweets"
   ]
  },
  {
   "cell_type": "code",
   "execution_count": 18,
   "id": "manual-growing",
   "metadata": {},
   "outputs": [],
   "source": [
    "# Keep only tweet and class\n",
    "df[['tweet', 'processed_tweet', 'class']].to_csv(processed_data_path + dataset, index=False)"
   ]
  },
  {
   "cell_type": "markdown",
   "id": "wicked-doubt",
   "metadata": {},
   "source": [
    "----------"
   ]
  },
  {
   "cell_type": "markdown",
   "id": "unavailable-merchant",
   "metadata": {},
   "source": [
    "# Stormfront"
   ]
  },
  {
   "cell_type": "markdown",
   "id": "improved-guidance",
   "metadata": {},
   "source": [
    "**Class Label:** \n",
    "- hate\n",
    "- noHate"
   ]
  },
  {
   "cell_type": "code",
   "execution_count": 12,
   "id": "official-georgia",
   "metadata": {},
   "outputs": [],
   "source": [
    "dataset = 'stormfront.csv'\n",
    "df = pd.read_csv(raw_data_path + dataset)"
   ]
  },
  {
   "cell_type": "code",
   "execution_count": 14,
   "id": "recovered-blowing",
   "metadata": {},
   "outputs": [],
   "source": [
    "# Binarize class 0,1 -> 1 and 2 -> 0\n",
    "df = df.rename(columns={'label':'class', 'post':'tweet'})\n",
    "df['class'] = df['class'].map({'noHate':0, 'hate':1})"
   ]
  },
  {
   "cell_type": "code",
   "execution_count": 16,
   "id": "bigger-victoria",
   "metadata": {},
   "outputs": [],
   "source": [
    "# Preprocess tweets\n",
    "processed_tweets = preprocess(df.tweet)   \n",
    "df['processed_tweet'] = processed_tweets"
   ]
  },
  {
   "cell_type": "code",
   "execution_count": 17,
   "id": "velvet-symbol",
   "metadata": {},
   "outputs": [],
   "source": [
    "# Keep only tweet and class\n",
    "df[['tweet', 'processed_tweet', 'class']].to_csv(processed_data_path + dataset, index=False)"
   ]
  }
 ],
 "metadata": {
  "kernelspec": {
   "display_name": "Python 3",
   "language": "python",
   "name": "python3"
  },
  "language_info": {
   "codemirror_mode": {
    "name": "ipython",
    "version": 3
   },
   "file_extension": ".py",
   "mimetype": "text/x-python",
   "name": "python",
   "nbconvert_exporter": "python",
   "pygments_lexer": "ipython3",
   "version": "3.8.7"
  }
 },
 "nbformat": 4,
 "nbformat_minor": 5
}
