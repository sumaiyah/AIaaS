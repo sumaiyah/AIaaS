{
 "cells": [
  {
   "cell_type": "markdown",
   "id": "valuable-dodge",
   "metadata": {},
   "source": [
    "# Generate cloud computer vision logs\n",
    "\n",
    "**Input: Dataframe of embeddings that has an 'id' column**\n",
    "\n",
    "**Output: Log of a specific size with a specific number of unique faces**\n",
    "\n",
    "----------\n",
    "misc\n",
    "- Used a Zipfian distribution to produce logs of various sizes from the encodings\n",
    "- There are repeated encodings in the logs\n",
    "- Each experiment was carried out 5x and the results averaged\n",
    "- We generate log files (usage traces) where each entry\n",
    "includes a vector encoding representing a face; i.e. the\n",
    "logs represented that generated as a byproduct of using\n",
    "an AIaaS face service. Encodings are computed using\n",
    "the TensorFlow implementation of FaceNet (Sandberg 2020).\n",
    "\n",
    "-  Two types of log are generated: fixed trace uses\n",
    "a specified number (5000) of different faces for each version of the log; while varied trace uses a Zipfian distribution to select a varied number of different faces for\n",
    "each log size. Some encodings in the log are repeated to\n",
    "generate the required number of entries."
   ]
  },
  {
   "cell_type": "code",
   "execution_count": 39,
   "id": "rapid-ordering",
   "metadata": {},
   "outputs": [],
   "source": [
    "import pandas as pd\n",
    "import numpy as np"
   ]
  },
  {
   "cell_type": "code",
   "execution_count": 49,
   "id": "terminal-comment",
   "metadata": {},
   "outputs": [],
   "source": [
    "# Return a subset of df where 'id' has exactly n unqiue values\n",
    "def get_subset_n_unique_ids(df, n):\n",
    "    random_ids = pd.Series(df['id'].unique()).sample(n)\n",
    "    return df[df['id'].isin(random_ids)]\n",
    "\n",
    "# Return log of right size\n",
    "def resize_and_maintain_distribution(df, n):\n",
    "    \"\"\"\n",
    "        df: dataframe with id column whos size want to reduce\n",
    "        n:  specified log length\n",
    "        \n",
    "        Keep distribution the same, remove a random image from each id (if count > 1), until log length = n\n",
    "    \"\"\"\n",
    "    while len(df) > n:\n",
    "        unique_ids = df['id'].unique()\n",
    "        for unique_id in unique_ids:\n",
    "            df_subset = df[df['id'] == unique_id]\n",
    "            \n",
    "            # If more than one row randomly drop one row else skip\n",
    "            if len(df_subset) > 1:\n",
    "                df = df.drop(labels=df_subset.sample(n=1).index, axis=0)\n",
    "            \n",
    "            # Break if reached desired log length\n",
    "            if len(df) == n:\n",
    "                break  \n",
    "    \n",
    "    return df\n",
    "\n",
    "def generate_log(df, log_length, n_faces):\n",
    "    # TODO can extend this so that if len(log) > log_length can instead just repeat images?\n",
    "    \"\"\"\n",
    "        df: dataframe where each column is a dimension in the embedding space,\n",
    "            each row a different image and the final column contains the id of the person in the image\n",
    "        log_length:    control the length of the log\n",
    "        n_faces:       control the number of unique individuals in each log\n",
    "        \n",
    "        returns: dataframe with the same structure as embeddings_df, may have some repeated images\n",
    "    \"\"\"\n",
    "    # Repeatedly randomly sample df until you have n_faces unique faces and a len(log) >= log_length\n",
    "    counter=1\n",
    "    log = get_subset_n_unique_ids(df, n=n_faces)\n",
    "    while len(log) < log_length:\n",
    "        log = get_subset_n_unique_ids(df, n=n_faces)\n",
    "        counter += 1\n",
    "    print('Took %d iterations to find a df subset' % counter)    \n",
    "    \n",
    "    # Resize the log, mantaining the distribution of images of each person\n",
    "    log = resize_and_maintain_distribution(log, n=log_length)\n",
    "    \n",
    "    # Checks\n",
    "    assert len(log) == log_length, 'log length incorrect %d != %d' % (len(log), log_length)\n",
    "    assert log.id.nunique() == n_faces, 'Incorrect number of unique faces %d != %d' % (log.id.nunique(), n_faces)\n",
    "    \n",
    "    return log"
   ]
  }
 ],
 "metadata": {
  "kernelspec": {
   "display_name": "Python 3",
   "language": "python",
   "name": "python3"
  },
  "language_info": {
   "codemirror_mode": {
    "name": "ipython",
    "version": 3
   },
   "file_extension": ".py",
   "mimetype": "text/x-python",
   "name": "python",
   "nbconvert_exporter": "python",
   "pygments_lexer": "ipython3",
   "version": "3.8.7"
  }
 },
 "nbformat": 4,
 "nbformat_minor": 5
}
