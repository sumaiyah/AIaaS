{
 "cells": [
  {
   "cell_type": "code",
   "execution_count": 1,
   "id": "fitting-allen",
   "metadata": {},
   "outputs": [],
   "source": [
    "from os import listdir\n",
    "\n",
    "import numpy as np\n",
    "import pandas as pd\n",
    "import time\n",
    "import warnings\n",
    "\n",
    "from sklearn.neighbors import NearestNeighbors\n",
    "from sklearn.cluster import DBSCAN\n",
    "from sklearn import preprocessing\n",
    "\n",
    "from matplotlib import pyplot as plt\n",
    "\n",
    "from ipynb.fs.full.GenerateLogs import generate_log, get_data, do_chinese_whispers"
   ]
  },
  {
   "cell_type": "markdown",
   "id": "multiple-moore",
   "metadata": {},
   "source": [
    "# Get ideal Chinese Whispers parameters"
   ]
  },
  {
   "cell_type": "code",
   "execution_count": 17,
   "id": "incorrect-approval",
   "metadata": {},
   "outputs": [
    {
     "name": "stdout",
     "output_type": "stream",
     "text": [
      "Dataset contains 40995 images of 2000 different people \n",
      "\n"
     ]
    }
   ],
   "source": [
    "data_df = get_data(['celeb_a_1', 'celeb_a_2'])\n",
    "\n",
    "log = data_df\n",
    "# log = generate_log(data_df, log_length=2000, n_faces=600, exact=False)\n",
    "log['randID'] = np.random.randint(100000, 999999, log.shape[0]).astype(str)\n",
    "log['randID'] = log['id'] + log['randID']\n",
    "\n",
    "d = log.drop(columns='id').set_index('randID').T.to_dict('list')"
   ]
  },
  {
   "cell_type": "code",
   "execution_count": 9,
   "id": "gothic-granny",
   "metadata": {
    "scrolled": true
   },
   "outputs": [
    {
     "name": "stdout",
     "output_type": "stream",
     "text": [
      "threshold: 1.000000, people: 541 clusters: 1 error: 99.815157\n",
      "threshold: 11.000000, people: 541 clusters: 1 error: 99.815157\n",
      "threshold: 21.000000, people: 541 clusters: 1 error: 99.815157\n",
      "threshold: 31.000000, people: 541 clusters: 1 error: 99.815157\n",
      "threshold: 41.000000, people: 541 clusters: 3 error: 99.445471\n",
      "threshold: 51.000000, people: 541 clusters: 129 error: 76.155268\n",
      "threshold: 61.000000, people: 541 clusters: 352 error: 34.935305\n",
      "threshold: 71.000000, people: 541 clusters: 527 error: 2.587800\n",
      "threshold: 81.000000, people: 541 clusters: 663 error: 22.550832\n",
      "threshold: 91.000000, people: 541 clusters: 831 error: 53.604436\n",
      "threshold: 101.000000, people: 541 clusters: 1153 error: 113.123845\n",
      "threshold: 111.000000, people: 541 clusters: 1606 error: 196.857671\n"
     ]
    }
   ],
   "source": [
    "est_errors = []\n",
    "for threshold in np.arange(1, 121, 10):\n",
    "    cw_clusters = do_chinese_whispers(d, threshold=threshold)\n",
    "        \n",
    "    n_people = len(log['id'].value_counts().keys())\n",
    "    n_clusters = len(cw_clusters.keys())\n",
    "\n",
    "    est_error = (abs(n_clusters - n_people) / n_people) * 100\n",
    "    est_errors.append(est_error)\n",
    "\n",
    "    print('threshold: %f, people: %d clusters: %d error: %f' % (threshold, n_people, n_clusters, est_error))"
   ]
  },
  {
   "cell_type": "code",
   "execution_count": 12,
   "id": "annual-controversy",
   "metadata": {},
   "outputs": [
    {
     "data": {
      "image/png": "[encoded data removed]",
      "text/plain": [
       "<Figure size 432x288 with 1 Axes>"
      ]
     },
     "metadata": {
      "needs_background": "light"
     },
     "output_type": "display_data"
    }
   ],
   "source": [
    "# Plot graph\n",
    "plt.plot(np.arange(1, 121, 10), est_errors, color='#36558F', linestyle='dashed', marker='o')\n",
    "plt.xlabel('Distance Threshold')\n",
    "plt.ylabel('Estimation Error (%)')\n",
    "plt.savefig('cw-parameter-estimation-1.png', bbox_inches='tight', dpi=200)\n",
    "plt.show()"
   ]
  },
  {
   "cell_type": "markdown",
   "id": "empirical-baltimore",
   "metadata": {},
   "source": [
    "### Zoomed in"
   ]
  },
  {
   "cell_type": "code",
   "execution_count": 18,
   "id": "located-daniel",
   "metadata": {},
   "outputs": [
    {
     "ename": "KeyboardInterrupt",
     "evalue": "",
     "output_type": "error",
     "traceback": [
      "\u001b[1;31m---------------------------------------------------------------------------\u001b[0m",
      "\u001b[1;31mKeyboardInterrupt\u001b[0m                         Traceback (most recent call last)",
      "\u001b[1;32m<ipython-input-18-e7ac8aca42e3>\u001b[0m in \u001b[0;36m<module>\u001b[1;34m\u001b[0m\n\u001b[0;32m      1\u001b[0m \u001b[0mest_errors\u001b[0m \u001b[1;33m=\u001b[0m \u001b[1;33m[\u001b[0m\u001b[1;33m]\u001b[0m\u001b[1;33m\u001b[0m\u001b[1;33m\u001b[0m\u001b[0m\n\u001b[0;32m      2\u001b[0m \u001b[1;32mfor\u001b[0m \u001b[0mthreshold\u001b[0m \u001b[1;32min\u001b[0m \u001b[0mnp\u001b[0m\u001b[1;33m.\u001b[0m\u001b[0marange\u001b[0m\u001b[1;33m(\u001b[0m\u001b[1;36m65\u001b[0m\u001b[1;33m,\u001b[0m \u001b[1;36m75\u001b[0m\u001b[1;33m,\u001b[0m \u001b[1;36m1\u001b[0m\u001b[1;33m)\u001b[0m\u001b[1;33m:\u001b[0m\u001b[1;33m\u001b[0m\u001b[1;33m\u001b[0m\u001b[0m\n\u001b[1;32m----> 3\u001b[1;33m     \u001b[0mcw_clusters\u001b[0m \u001b[1;33m=\u001b[0m \u001b[0mdo_chinese_whispers\u001b[0m\u001b[1;33m(\u001b[0m\u001b[0md\u001b[0m\u001b[1;33m,\u001b[0m \u001b[0mthreshold\u001b[0m\u001b[1;33m=\u001b[0m\u001b[0mthreshold\u001b[0m\u001b[1;33m)\u001b[0m\u001b[1;33m\u001b[0m\u001b[1;33m\u001b[0m\u001b[0m\n\u001b[0m\u001b[0;32m      4\u001b[0m \u001b[1;33m\u001b[0m\u001b[0m\n\u001b[0;32m      5\u001b[0m     \u001b[0mn_people\u001b[0m \u001b[1;33m=\u001b[0m \u001b[0mlen\u001b[0m\u001b[1;33m(\u001b[0m\u001b[0mlog\u001b[0m\u001b[1;33m[\u001b[0m\u001b[1;34m'id'\u001b[0m\u001b[1;33m]\u001b[0m\u001b[1;33m.\u001b[0m\u001b[0mvalue_counts\u001b[0m\u001b[1;33m(\u001b[0m\u001b[1;33m)\u001b[0m\u001b[1;33m.\u001b[0m\u001b[0mkeys\u001b[0m\u001b[1;33m(\u001b[0m\u001b[1;33m)\u001b[0m\u001b[1;33m)\u001b[0m\u001b[1;33m\u001b[0m\u001b[1;33m\u001b[0m\u001b[0m\n",
      "\u001b[1;32m~\\Documents\\Univeristy\\diss\\AIaaS\\face\\notebooks\\GenerateLogs.ipynb\u001b[0m in \u001b[0;36mdo_chinese_whispers\u001b[1;34m(d, threshold)\u001b[0m\n\u001b[0;32m    237\u001b[0m     \u001b[1;34m\"    # Create graph\\n\"\u001b[0m\u001b[1;33m,\u001b[0m\u001b[1;33m\u001b[0m\u001b[1;33m\u001b[0m\u001b[0m\n\u001b[0;32m    238\u001b[0m     \u001b[1;34m\"    nodes = []\\n\"\u001b[0m\u001b[1;33m,\u001b[0m\u001b[1;33m\u001b[0m\u001b[1;33m\u001b[0m\u001b[0m\n\u001b[1;32m--> 239\u001b[1;33m     \u001b[1;34m\"    edges = []\\n\"\u001b[0m\u001b[1;33m,\u001b[0m\u001b[1;33m\u001b[0m\u001b[1;33m\u001b[0m\u001b[0m\n\u001b[0m\u001b[0;32m    240\u001b[0m     \u001b[1;34m\"\\n\"\u001b[0m\u001b[1;33m,\u001b[0m\u001b[1;33m\u001b[0m\u001b[1;33m\u001b[0m\u001b[0m\n\u001b[0;32m    241\u001b[0m     \u001b[1;34m\"    image_paths, encodings = zip(*encoding_list)\\n\"\u001b[0m\u001b[1;33m,\u001b[0m\u001b[1;33m\u001b[0m\u001b[1;33m\u001b[0m\u001b[0m\n",
      "\u001b[1;32m~\\Documents\\Univeristy\\diss\\AIaaS\\face\\notebooks\\GenerateLogs.ipynb\u001b[0m in \u001b[0;36mget_encoding_graph\u001b[1;34m(encoding_list, threshold)\u001b[0m\n\u001b[0;32m    220\u001b[0m     \u001b[1;34m\"\\n\"\u001b[0m\u001b[1;33m,\u001b[0m\u001b[1;33m\u001b[0m\u001b[1;33m\u001b[0m\u001b[0m\n\u001b[0;32m    221\u001b[0m     \u001b[1;34m\"def get_encoding_graph(encoding_list, threshold=0.75):\\n\"\u001b[0m\u001b[1;33m,\u001b[0m\u001b[1;33m\u001b[0m\u001b[1;33m\u001b[0m\u001b[0m\n\u001b[1;32m--> 222\u001b[1;33m     \u001b[1;34m\"    \\\"\\\"\\\" Chinese Whispers Algorithm\\n\"\u001b[0m\u001b[1;33m,\u001b[0m\u001b[1;33m\u001b[0m\u001b[1;33m\u001b[0m\u001b[0m\n\u001b[0m\u001b[0;32m    223\u001b[0m     \u001b[1;34m\"    Modified from Alex Loveless' implementation,\\n\"\u001b[0m\u001b[1;33m,\u001b[0m\u001b[1;33m\u001b[0m\u001b[1;33m\u001b[0m\u001b[0m\n\u001b[0;32m    224\u001b[0m     \u001b[1;34m\"    http://alexloveless.co.uk/data/chinese-whispers-graph-clustering-in-python/\\n\"\u001b[0m\u001b[1;33m,\u001b[0m\u001b[1;33m\u001b[0m\u001b[1;33m\u001b[0m\u001b[0m\n",
      "\u001b[1;32m~\\Documents\\Univeristy\\diss\\AIaaS\\face\\notebooks\\GenerateLogs.ipynb\u001b[0m in \u001b[0;36mface_distance\u001b[1;34m(face_encodings, face_to_compare)\u001b[0m\n\u001b[0;32m    178\u001b[0m     \u001b[1;34m\"\\n\"\u001b[0m\u001b[1;33m,\u001b[0m\u001b[1;33m\u001b[0m\u001b[1;33m\u001b[0m\u001b[0m\n\u001b[0;32m    179\u001b[0m     \u001b[1;34m\"    # Resample the victim images until you have a df of size == log_length * proportion\\n\"\u001b[0m\u001b[1;33m,\u001b[0m\u001b[1;33m\u001b[0m\u001b[1;33m\u001b[0m\u001b[0m\n\u001b[1;32m--> 180\u001b[1;33m     \u001b[1;34m\"    victim_images= df[df['id'] == victim_id].sample(n=int(log_length * proportion), \\n\"\u001b[0m\u001b[1;33m,\u001b[0m\u001b[1;33m\u001b[0m\u001b[1;33m\u001b[0m\u001b[0m\n\u001b[0m\u001b[0;32m    181\u001b[0m     \u001b[1;34m\"                                                    replace=True)\\n\"\u001b[0m\u001b[1;33m,\u001b[0m\u001b[1;33m\u001b[0m\u001b[1;33m\u001b[0m\u001b[0m\n\u001b[0;32m    182\u001b[0m     \u001b[1;34m\"\\n\"\u001b[0m\u001b[1;33m,\u001b[0m\u001b[1;33m\u001b[0m\u001b[1;33m\u001b[0m\u001b[0m\n",
      "\u001b[1;31mKeyboardInterrupt\u001b[0m: "
     ]
    }
   ],
   "source": [
    "est_errors = []\n",
    "for threshold in np.arange(65, 75, 1):\n",
    "    cw_clusters = do_chinese_whispers(d, threshold=threshold)\n",
    "        \n",
    "    n_people = len(log['id'].value_counts().keys())\n",
    "    n_clusters = len(cw_clusters.keys())\n",
    "\n",
    "    est_error = (abs(n_clusters - n_people) / n_people) * 100\n",
    "    est_errors.append(est_error)\n",
    "\n",
    "    print('threshold: %f, people: %d clusters: %d error: %f' % (threshold, n_people, n_clusters, est_error))"
   ]
  },
  {
   "cell_type": "code",
   "execution_count": 16,
   "id": "ideal-monitoring",
   "metadata": {},
   "outputs": [
    {
     "data": {
      "image/png": "[encoded data removed]",
      "text/plain": [
       "<Figure size 432x288 with 1 Axes>"
      ]
     },
     "metadata": {
      "needs_background": "light"
     },
     "output_type": "display_data"
    }
   ],
   "source": [
    "# Plot graph\n",
    "plt.plot(np.arange(65, 75, 1), est_errors, color='#36558F', linestyle='dashed', marker='o')\n",
    "plt.xlabel('Distance Threshold')\n",
    "plt.ylabel('Estimation Error (%)')\n",
    "plt.savefig('cw-parameter-estimation-2.png', bbox_inches='tight', dpi=200)\n",
    "plt.show()"
   ]
  },
  {
   "cell_type": "code",
   "execution_count": null,
   "id": "appointed-cause",
   "metadata": {},
   "outputs": [],
   "source": []
  }
 ],
 "metadata": {
  "kernelspec": {
   "display_name": "Python 3",
   "language": "python",
   "name": "python3"
  },
  "language_info": {
   "codemirror_mode": {
    "name": "ipython",
    "version": 3
   },
   "file_extension": ".py",
   "mimetype": "text/x-python",
   "name": "python",
   "nbconvert_exporter": "python",
   "pygments_lexer": "ipython3",
   "version": "3.8.7"
  }
 },
 "nbformat": 4,
 "nbformat_minor": 5
}
