{
 "cells": [
  {
   "cell_type": "code",
   "execution_count": 54,
   "id": "subsequent-legislation",
   "metadata": {},
   "outputs": [],
   "source": [
    "from os import listdir\n",
    "\n",
    "import numpy as np\n",
    "import pandas as pd\n",
    "import time\n",
    "\n",
    "from sklearn.neighbors import NearestNeighbors\n",
    "from sklearn.cluster import DBSCAN\n",
    "from sklearn import preprocessing\n",
    "\n",
    "from matplotlib import pyplot as plt\n",
    "\n",
    "from ipynb.fs.full.GenerateLogs import generate_log, estimation_error"
   ]
  },
  {
   "cell_type": "markdown",
   "id": "short-intent",
   "metadata": {},
   "source": [
    "# Work out average over 5 rounds"
   ]
  },
  {
   "cell_type": "code",
   "execution_count": 47,
   "id": "higher-australian",
   "metadata": {},
   "outputs": [],
   "source": [
    "log_length = 1000\n",
    "result_path = 'log_%d_n_vary.txt' % log_length\n",
    "\n",
    "df = pd.DataFrame(columns=['alg', 'log_length', 'n_people', 'n_clusters', 'time'])\n",
    "\n",
    "with open(result_path, 'r') as file:\n",
    "    lines = file.readlines()\n",
    "    \n",
    "    for line in lines:\n",
    "        row = pd.DataFrame({\n",
    "            'alg': [line.split()[0].split(':')[1]], \n",
    "            'log_length': [float(line.split()[1].split(':')[1])], \n",
    "            'n_people': [float(line.split()[2].split(':')[1])], \n",
    "            'n_clusters': [float(line.split()[3].split(':')[1])], \n",
    "            'time': [float(line.split()[4].split(':')[1])]\n",
    "        })\n",
    "\n",
    "        df = pd.concat([df, row])"
   ]
  },
  {
   "cell_type": "code",
   "execution_count": 84,
   "id": "organizational-emperor",
   "metadata": {},
   "outputs": [
    {
     "data": {
      "text/html": [
       "<div>\n",
       "<style scoped>\n",
       "    .dataframe tbody tr th:only-of-type {\n",
       "        vertical-align: middle;\n",
       "    }\n",
       "\n",
       "    .dataframe tbody tr th {\n",
       "        vertical-align: top;\n",
       "    }\n",
       "\n",
       "    .dataframe thead th {\n",
       "        text-align: right;\n",
       "    }\n",
       "</style>\n",
       "<table border=\"1\" class=\"dataframe\">\n",
       "  <thead>\n",
       "    <tr style=\"text-align: right;\">\n",
       "      <th></th>\n",
       "      <th>alg</th>\n",
       "      <th>n_people</th>\n",
       "      <th>log_length</th>\n",
       "      <th>n_clusters</th>\n",
       "      <th>time</th>\n",
       "      <th>est_error</th>\n",
       "    </tr>\n",
       "  </thead>\n",
       "  <tbody>\n",
       "    <tr>\n",
       "      <th>0</th>\n",
       "      <td>cw</td>\n",
       "      <td>50.0</td>\n",
       "      <td>1000.0</td>\n",
       "      <td>55.4</td>\n",
       "      <td>0.1672</td>\n",
       "      <td>10.80</td>\n",
       "    </tr>\n",
       "    <tr>\n",
       "      <th>1</th>\n",
       "      <td>cw</td>\n",
       "      <td>100.0</td>\n",
       "      <td>1000.0</td>\n",
       "      <td>113.0</td>\n",
       "      <td>0.1190</td>\n",
       "      <td>13.00</td>\n",
       "    </tr>\n",
       "    <tr>\n",
       "      <th>2</th>\n",
       "      <td>cw</td>\n",
       "      <td>250.0</td>\n",
       "      <td>1000.0</td>\n",
       "      <td>262.6</td>\n",
       "      <td>0.1280</td>\n",
       "      <td>5.04</td>\n",
       "    </tr>\n",
       "    <tr>\n",
       "      <th>3</th>\n",
       "      <td>cw</td>\n",
       "      <td>400.0</td>\n",
       "      <td>1000.0</td>\n",
       "      <td>371.0</td>\n",
       "      <td>0.1804</td>\n",
       "      <td>7.25</td>\n",
       "    </tr>\n",
       "    <tr>\n",
       "      <th>4</th>\n",
       "      <td>cw</td>\n",
       "      <td>500.0</td>\n",
       "      <td>1000.0</td>\n",
       "      <td>446.6</td>\n",
       "      <td>0.2456</td>\n",
       "      <td>10.68</td>\n",
       "    </tr>\n",
       "    <tr>\n",
       "      <th>5</th>\n",
       "      <td>db</td>\n",
       "      <td>50.0</td>\n",
       "      <td>1000.0</td>\n",
       "      <td>52.4</td>\n",
       "      <td>0.0252</td>\n",
       "      <td>4.80</td>\n",
       "    </tr>\n",
       "    <tr>\n",
       "      <th>6</th>\n",
       "      <td>db</td>\n",
       "      <td>100.0</td>\n",
       "      <td>1000.0</td>\n",
       "      <td>104.0</td>\n",
       "      <td>0.0232</td>\n",
       "      <td>4.00</td>\n",
       "    </tr>\n",
       "    <tr>\n",
       "      <th>7</th>\n",
       "      <td>db</td>\n",
       "      <td>250.0</td>\n",
       "      <td>1000.0</td>\n",
       "      <td>250.0</td>\n",
       "      <td>0.0246</td>\n",
       "      <td>0.00</td>\n",
       "    </tr>\n",
       "    <tr>\n",
       "      <th>8</th>\n",
       "      <td>db</td>\n",
       "      <td>400.0</td>\n",
       "      <td>1000.0</td>\n",
       "      <td>381.2</td>\n",
       "      <td>0.0244</td>\n",
       "      <td>4.70</td>\n",
       "    </tr>\n",
       "    <tr>\n",
       "      <th>9</th>\n",
       "      <td>db</td>\n",
       "      <td>500.0</td>\n",
       "      <td>1000.0</td>\n",
       "      <td>466.8</td>\n",
       "      <td>0.0236</td>\n",
       "      <td>6.64</td>\n",
       "    </tr>\n",
       "  </tbody>\n",
       "</table>\n",
       "</div>"
      ],
      "text/plain": [
       "  alg  n_people  log_length  n_clusters    time  est_error\n",
       "0  cw      50.0      1000.0        55.4  0.1672      10.80\n",
       "1  cw     100.0      1000.0       113.0  0.1190      13.00\n",
       "2  cw     250.0      1000.0       262.6  0.1280       5.04\n",
       "3  cw     400.0      1000.0       371.0  0.1804       7.25\n",
       "4  cw     500.0      1000.0       446.6  0.2456      10.68\n",
       "5  db      50.0      1000.0        52.4  0.0252       4.80\n",
       "6  db     100.0      1000.0       104.0  0.0232       4.00\n",
       "7  db     250.0      1000.0       250.0  0.0246       0.00\n",
       "8  db     400.0      1000.0       381.2  0.0244       4.70\n",
       "9  db     500.0      1000.0       466.8  0.0236       6.64"
      ]
     },
     "execution_count": 84,
     "metadata": {},
     "output_type": "execute_result"
    }
   ],
   "source": [
    "df_average =  df.groupby(['alg', 'n_people'], as_index=False).mean()\n",
    "df_average['est_error'] = df_average.apply(lambda row: estimation_error(n_clusters=row['n_clusters'], n_people=row['n_people']), axis = 1)\n",
    "\n",
    "df_average\n",
    "# df_average.groupby('alg').apply(print)"
   ]
  },
  {
   "cell_type": "code",
   "execution_count": null,
   "id": "crude-macro",
   "metadata": {},
   "outputs": [],
   "source": []
  },
  {
   "cell_type": "code",
   "execution_count": null,
   "id": "owned-crowd",
   "metadata": {},
   "outputs": [],
   "source": []
  },
  {
   "cell_type": "code",
   "execution_count": null,
   "id": "characteristic-hypothesis",
   "metadata": {},
   "outputs": [],
   "source": []
  },
  {
   "cell_type": "code",
   "execution_count": null,
   "id": "altered-edgar",
   "metadata": {},
   "outputs": [],
   "source": []
  },
  {
   "cell_type": "code",
   "execution_count": null,
   "id": "informational-firmware",
   "metadata": {},
   "outputs": [],
   "source": []
  },
  {
   "cell_type": "markdown",
   "id": "subtle-background",
   "metadata": {},
   "source": [
    "-------"
   ]
  },
  {
   "cell_type": "code",
   "execution_count": 2,
   "id": "excited-situation",
   "metadata": {},
   "outputs": [],
   "source": [
    "def get_data(datasets):\n",
    "    # Load Datasets\n",
    "    data_path = '../data/'\n",
    "\n",
    "    names_path = lambda dataset_name: '%s%s-names.txt' % (data_path, dataset_name)\n",
    "    embeddings_path = lambda dataset_name: '%s%s_embeddings.npz' % (data_path, dataset_name)\n",
    "\n",
    "    # Return ids of images in each dataset as a list\n",
    "    def retrive_ids(filepath):\n",
    "        with open(filepath, 'r') as file:\n",
    "            ids = file.read().split()\n",
    "        return ids\n",
    "\n",
    "    data_dfs = []\n",
    "    for name in datasets:\n",
    "        data_df = pd.DataFrame(np.load(embeddings_path(name))['arr_0'])\n",
    "        data_df['id'] = retrive_ids(names_path(name))\n",
    "\n",
    "        data_dfs.append(data_df)\n",
    "\n",
    "    all_data_df = pd.concat(data_dfs)\n",
    "    all_data_df = all_data_df.sample(frac=1).reset_index(drop=True)\n",
    "    print('Dataset contains %s images of %s different people\\n' % (len(all_data_df), len(all_data_df['id'].value_counts().keys())))\n",
    "    \n",
    "    return all_data_df"
   ]
  },
  {
   "cell_type": "code",
   "execution_count": 3,
   "id": "molecular-fundamentals",
   "metadata": {},
   "outputs": [
    {
     "name": "stdout",
     "output_type": "stream",
     "text": [
      "Dataset contains 24517 images of 6743 different people\n",
      "\n",
      "(Generating Log: len(df)=372, log_length=1000...Done.)\n",
      "Log of length 1000 with 100 unique faces\n"
     ]
    }
   ],
   "source": [
    "data_df = get_data(['lfw', 'cf'])\n",
    "log_length, n_people = 1000, 100\n",
    "\n",
    "log = generate_log(data_df, log_length, n_people).sample(frac=1).reset_index(drop=True)\n",
    "X = log.drop(columns='id').values\n",
    "print('Log of length %d with %d unique faces' % (len(log), len(log['id'].value_counts().keys())))"
   ]
  },
  {
   "cell_type": "code",
   "execution_count": 4,
   "id": "automatic-repeat",
   "metadata": {},
   "outputs": [
    {
     "name": "stdout",
     "output_type": "stream",
     "text": [
      "eps: 9.800000, people: 100 clusters: 99 error: 1.000000\n",
      "\n"
     ]
    }
   ],
   "source": [
    "epsilon = 9.8\n",
    "\n",
    "db = DBSCAN(eps=epsilon, min_samples=1).fit(X)\n",
    "labels = pd.Series(db.labels_)\n",
    "\n",
    "n_people = len(log['id'].value_counts().keys())\n",
    "n_clusters = len(list(labels.value_counts().values))\n",
    "\n",
    "est_error = (abs(n_clusters - n_people) / n_people) * 100\n",
    "print('eps: %f, people: %d clusters: %d error: %f\\n' % (epsilon, n_people, n_clusters, est_error))"
   ]
  },
  {
   "cell_type": "code",
   "execution_count": 5,
   "id": "intense-instruction",
   "metadata": {},
   "outputs": [],
   "source": [
    "results = pd.DataFrame(log['id'])\n",
    "results['cluster'] = labels"
   ]
  },
  {
   "cell_type": "code",
   "execution_count": 6,
   "id": "commercial-garlic",
   "metadata": {},
   "outputs": [],
   "source": [
    "people = []\n",
    "for label, images in results.groupby('cluster'):\n",
    "    person_counts = pd.Series(images.values[:,0]).value_counts()\n",
    "    \n",
    "    person_proportion = person_counts / person_counts.values.sum()\n",
    "    \n",
    "    people.append(person_proportion.idxmax())"
   ]
  },
  {
   "cell_type": "code",
   "execution_count": 7,
   "id": "serious-marijuana",
   "metadata": {
    "scrolled": true
   },
   "outputs": [],
   "source": [
    "from collections import Counter\n",
    "people_counter = Counter(people)"
   ]
  },
  {
   "cell_type": "code",
   "execution_count": 8,
   "id": "integrated-exchange",
   "metadata": {},
   "outputs": [
    {
     "name": "stdout",
     "output_type": "stream",
     "text": [
      "Given 1000 pictures of 100 unique people the clustering algorithm found 99 clusters but of those only 94 are of unique people\n"
     ]
    }
   ],
   "source": [
    "print('Given %d pictures of %d unique people the clustering algorithm found %d clusters but of those only %d are of unique people' % (log_length, n_people, n_clusters, len(people_counter.keys())))"
   ]
  },
  {
   "cell_type": "code",
   "execution_count": 10,
   "id": "statutory-breed",
   "metadata": {},
   "outputs": [],
   "source": [
    "# X clusters were 100% correct, X clusters were mixed? X people are missed out?"
   ]
  },
  {
   "cell_type": "code",
   "execution_count": null,
   "id": "demanding-extra",
   "metadata": {},
   "outputs": [],
   "source": [
    "For each cluster \n",
    "- Assign a label to the cluster as the most popular image id in that cluster\n",
    "- Save label, confidence in df \n",
    "- If tie?"
   ]
  }
 ],
 "metadata": {
  "kernelspec": {
   "display_name": "Python 3",
   "language": "python",
   "name": "python3"
  },
  "language_info": {
   "codemirror_mode": {
    "name": "ipython",
    "version": 3
   },
   "file_extension": ".py",
   "mimetype": "text/x-python",
   "name": "python",
   "nbconvert_exporter": "python",
   "pygments_lexer": "ipython3",
   "version": "3.8.7"
  }
 },
 "nbformat": 4,
 "nbformat_minor": 5
}
